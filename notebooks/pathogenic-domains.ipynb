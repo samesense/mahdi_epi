{
 "cells": [
  {
   "cell_type": "markdown",
   "metadata": {},
   "source": [
    "### do sig domains have more pathogenic vars?"
   ]
  },
  {
   "cell_type": "code",
   "execution_count": 2,
   "metadata": {
    "collapsed": false
   },
   "outputs": [
    {
     "name": "stderr",
     "output_type": "stream",
     "text": [
      "/opt/conda/lib/python3.4/site-packages/IPython/core/interactiveshell.py:2717: DtypeWarning: Columns (0) have mixed types. Specify dtype option on import or set low_memory=False.\n",
      "  interactivity=interactivity, compiler=compiler, result=result)\n"
     ]
    }
   ],
   "source": [
    "import pandas\n",
    "%matplotlib inline\n",
    "\n",
    "f = '../data/interim/EPIv6.eff.dbnsfp.anno.hHack.splitPfam.missense.dat'\n",
    "df = pandas.read_csv(f, delimiter='\\t')"
   ]
  },
  {
   "cell_type": "code",
   "execution_count": 71,
   "metadata": {
    "collapsed": false
   },
   "outputs": [],
   "source": [
    "sig = df.apply(lambda row: row['missense_qval'] < .01 and row['missense_fg_gtr'], axis=1)\n",
    "not_sig = df.apply(lambda row: row['missense_qval'] > .2, axis=1)\n",
    "sig_exac = df.apply(lambda row: row['missense_qval'] < .01 and not row['missense_fg_gtr'], axis=1)"
   ]
  },
  {
   "cell_type": "markdown",
   "metadata": {},
   "source": [
    "### enriched domains"
   ]
  },
  {
   "cell_type": "code",
   "execution_count": 72,
   "metadata": {
    "collapsed": false
   },
   "outputs": [
    {
     "name": "stdout",
     "output_type": "stream",
     "text": [
      "297 443 0.401351351351\n"
     ]
    }
   ],
   "source": [
    "g_sig = df[sig].groupby('clin_class').size().reset_index().rename(columns={0:'size'})\n",
    "path = sum(g_sig[ (g_sig.clin_class=='LIKELY_PATHOGENIC') | (g_sig.clin_class=='PATHOGENIC') ]['size'])\n",
    "ben = sum(g_sig[ (g_sig.clin_class=='LIKELY_BENIGN') | (g_sig.clin_class=='BENIGN') ]['size'])\n",
    "print(path, ben, path/(path+ben))"
   ]
  },
  {
   "cell_type": "markdown",
   "metadata": {},
   "source": [
    "### exac enriched domains"
   ]
  },
  {
   "cell_type": "code",
   "execution_count": 73,
   "metadata": {
    "collapsed": false
   },
   "outputs": [
    {
     "name": "stdout",
     "output_type": "stream",
     "text": [
      "11021 24277 0.312227321661\n"
     ]
    }
   ],
   "source": [
    "g_sig_exac = df[sig_exac].groupby('clin_class').size().reset_index().rename(columns={0:'size'})\n",
    "path = sum(g_sig_exac[ (g_sig_exac.clin_class=='LIKELY_PATHOGENIC') | (g_sig_exac.clin_class=='PATHOGENIC') ]['size'])\n",
    "ben = sum(g_sig_exac[ (g_sig_exac.clin_class=='LIKELY_BENIGN') | (g_sig_exac.clin_class=='BENIGN') ]['size'])\n",
    "print(path, ben, path/(path+ben))"
   ]
  },
  {
   "cell_type": "markdown",
   "metadata": {},
   "source": [
    "### non enriched domains"
   ]
  },
  {
   "cell_type": "code",
   "execution_count": 74,
   "metadata": {
    "collapsed": false
   },
   "outputs": [
    {
     "name": "stdout",
     "output_type": "stream",
     "text": [
      "5725 12454 0.314923813191\n"
     ]
    }
   ],
   "source": [
    "g_ns = df[not_sig].groupby('clin_class').size().reset_index().rename(columns={0:'size'})\n",
    "path = sum(g_ns[ (g_ns.clin_class=='LIKELY_PATHOGENIC') | (g_ns.clin_class=='PATHOGENIC') ]['size'])\n",
    "ben = sum(g_ns[ (g_ns.clin_class=='LIKELY_BENIGN') | (g_ns.clin_class=='BENIGN') ]['size'])\n",
    "print(path, ben, path/(path+ben))"
   ]
  },
  {
   "cell_type": "code",
   "execution_count": null,
   "metadata": {
    "collapsed": true
   },
   "outputs": [],
   "source": []
  }
 ],
 "metadata": {
  "kernelspec": {
   "display_name": "Python 3",
   "language": "python",
   "name": "python3"
  },
  "language_info": {
   "codemirror_mode": {
    "name": "ipython",
    "version": 3
   },
   "file_extension": ".py",
   "mimetype": "text/x-python",
   "name": "python",
   "nbconvert_exporter": "python",
   "pygments_lexer": "ipython3",
   "version": "3.4.5"
  }
 },
 "nbformat": 4,
 "nbformat_minor": 2
}
