{
 "cells": [
  {
   "cell_type": "markdown",
   "metadata": {},
   "source": [
    "### test pandas return series"
   ]
  },
  {
   "cell_type": "code",
   "execution_count": 30,
   "metadata": {
    "collapsed": false
   },
   "outputs": [],
   "source": [
    "import pandas as pd\n",
    "import numpy as np\n",
    "\n",
    "afile = '../work/global.eval_panel.mpc.eval'\n",
    "df = pd.read_csv(afile, sep='\\t')"
   ]
  },
  {
   "cell_type": "code",
   "execution_count": 35,
   "metadata": {
    "collapsed": true
   },
   "outputs": [],
   "source": [
    "def calc_tot_vars(rows):\n",
    "    cols = ['tot_vars', 'CorrectPath', 'WrongPath', 'CorrectBenign', 'WrongBenign']\n",
    "    tot_preds = sum(rows[rows.eval_type != 'TotWrong']['var_count'])\n",
    "    counts = {row['eval_type']:int(row['var_count'])\n",
    "              for _, row in rows.iterrows()\n",
    "              if row['eval_type'] != 'TotWrong'}\n",
    "    counts['tot_vars'] = int(tot_preds)\n",
    "    cols_to_add = set(cols) - set(counts.keys())\n",
    "    for c in cols_to_add:\n",
    "        counts[c] = 0\n",
    "    s = pd.Series(counts, index=cols)\n",
    "    return s"
   ]
  },
  {
   "cell_type": "code",
   "execution_count": 36,
   "metadata": {
    "collapsed": false
   },
   "outputs": [
    {
     "data": {
      "text/html": [
       "<div>\n",
       "<table border=\"1\" class=\"dataframe\">\n",
       "  <thead>\n",
       "    <tr style=\"text-align: right;\">\n",
       "      <th></th>\n",
       "      <th>disease</th>\n",
       "      <th>score_type</th>\n",
       "      <th>tot_vars</th>\n",
       "      <th>CorrectPath</th>\n",
       "      <th>WrongPath</th>\n",
       "      <th>CorrectBenign</th>\n",
       "      <th>WrongBenign</th>\n",
       "    </tr>\n",
       "  </thead>\n",
       "  <tbody>\n",
       "    <tr>\n",
       "      <th>0</th>\n",
       "      <td>Cardiomyopathy</td>\n",
       "      <td>global_PredictionStatusMPC</td>\n",
       "      <td>359</td>\n",
       "      <td>121</td>\n",
       "      <td>26</td>\n",
       "      <td>190</td>\n",
       "      <td>22</td>\n",
       "    </tr>\n",
       "    <tr>\n",
       "      <th>1</th>\n",
       "      <td>Cardiomyopathy</td>\n",
       "      <td>global_PredictionStatusMPC&gt;2</td>\n",
       "      <td>359</td>\n",
       "      <td>59</td>\n",
       "      <td>88</td>\n",
       "      <td>211</td>\n",
       "      <td>1</td>\n",
       "    </tr>\n",
       "    <tr>\n",
       "      <th>2</th>\n",
       "      <td>Cardiomyopathy</td>\n",
       "      <td>global_PredictionStatusMPC_clinvar_denovo</td>\n",
       "      <td>359</td>\n",
       "      <td>147</td>\n",
       "      <td>0</td>\n",
       "      <td>0</td>\n",
       "      <td>212</td>\n",
       "    </tr>\n",
       "    <tr>\n",
       "      <th>3</th>\n",
       "      <td>Cardiomyopathy</td>\n",
       "      <td>global_PredictionStatusMPC_clinvar_denovo_limi...</td>\n",
       "      <td>359</td>\n",
       "      <td>147</td>\n",
       "      <td>0</td>\n",
       "      <td>0</td>\n",
       "      <td>212</td>\n",
       "    </tr>\n",
       "    <tr>\n",
       "      <th>4</th>\n",
       "      <td>Cardiomyopathy</td>\n",
       "      <td>global_PredictionStatusMPC_clinvar_exp</td>\n",
       "      <td>359</td>\n",
       "      <td>7</td>\n",
       "      <td>140</td>\n",
       "      <td>195</td>\n",
       "      <td>17</td>\n",
       "    </tr>\n",
       "  </tbody>\n",
       "</table>\n",
       "</div>"
      ],
      "text/plain": [
       "          disease                                         score_type  \\\n",
       "0  Cardiomyopathy                         global_PredictionStatusMPC   \n",
       "1  Cardiomyopathy                       global_PredictionStatusMPC>2   \n",
       "2  Cardiomyopathy          global_PredictionStatusMPC_clinvar_denovo   \n",
       "3  Cardiomyopathy  global_PredictionStatusMPC_clinvar_denovo_limi...   \n",
       "4  Cardiomyopathy             global_PredictionStatusMPC_clinvar_exp   \n",
       "\n",
       "   tot_vars  CorrectPath  WrongPath  CorrectBenign  WrongBenign  \n",
       "0       359          121         26            190           22  \n",
       "1       359           59         88            211            1  \n",
       "2       359          147          0              0          212  \n",
       "3       359          147          0              0          212  \n",
       "4       359            7        140            195           17  "
      ]
     },
     "execution_count": 36,
     "metadata": {},
     "output_type": "execute_result"
    }
   ],
   "source": [
    "df.groupby(['disease', 'score_type']).apply(calc_tot_vars).reset_index().fillna(0).head()"
   ]
  },
  {
   "cell_type": "code",
   "execution_count": null,
   "metadata": {
    "collapsed": true
   },
   "outputs": [],
   "source": []
  }
 ],
 "metadata": {
  "kernelspec": {
   "display_name": "Python 3",
   "language": "python",
   "name": "python3"
  },
  "language_info": {
   "codemirror_mode": {
    "name": "ipython",
    "version": 3
   },
   "file_extension": ".py",
   "mimetype": "text/x-python",
   "name": "python",
   "nbconvert_exporter": "python",
   "pygments_lexer": "ipython3",
   "version": "3.4.5"
  }
 },
 "nbformat": 4,
 "nbformat_minor": 2
}
