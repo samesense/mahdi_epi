{
 "cells": [
  {
   "cell_type": "markdown",
   "metadata": {},
   "source": [
    "### clinvar missense prediction w/ feature intersection\n",
    "* only use consistent positions\n",
    "* only missense clinvar\n",
    "* use positions w/ mpc **OR** pathogenic fraction\n",
    "* calc path freq using counts\n",
    "* total path freq\n",
    "* total benign freq"
   ]
  },
  {
   "cell_type": "code",
   "execution_count": 4,
   "metadata": {
    "collapsed": false
   },
   "outputs": [],
   "source": [
    "import pandas, numpy\n",
    "from scipy.stats import entropy\n",
    "import pydot, pydotplus, graphviz\n",
    "import matplotlib.pyplot as plt\n",
    "import matplotlib as mpl\n",
    "import seaborn as sns\n",
    "from sklearn import linear_model, metrics, tree, svm\n",
    "from sklearn.neural_network import MLPClassifier\n",
    "from sklearn.externals.six import StringIO\n",
    "from sklearn.preprocessing import PolynomialFeatures\n",
    "from sklearn.ensemble import ExtraTreesClassifier\n",
    "from IPython.display import HTML\n",
    "%matplotlib inline"
   ]
  },
  {
   "cell_type": "code",
   "execution_count": 5,
   "metadata": {
    "collapsed": false
   },
   "outputs": [],
   "source": [
    "def calc_path_freq(rows):\n",
    "    # sum of freqs for path\n",
    "    df = rows[ (rows.clin_class=='PATHOGENIC') |\n",
    "                (rows.clin_class=='LIKLEY_PATHOGENIC')]\n",
    "    l = len(df)\n",
    "    pathogenic_sum = sum(df['freq'])\n",
    "    neg = sum(df['neg_fam'])\n",
    "    if l == 0:\n",
    "        return 0, 0, -1, 0\n",
    "    return pathogenic_sum, pathogenic_sum/l, entropy(df['freq']/pathogenic_sum), l\n",
    "\n",
    "def calc_benign_freq(rows):\n",
    "    # sum of freqs for \n",
    "    df = rows[ (rows.clin_class=='LIKELY_BENIGN') |\n",
    "                           (rows.clin_class=='BENIGN')]\n",
    "    benign_sum = sum(df['freq'])\n",
    "    l = len(df)\n",
    "    neg = sum(df['neg_fam'])\n",
    "    if l == 0:\n",
    "        return 0, 0, -1, 0\n",
    "    return benign_sum, benign_sum/l, entropy(df['freq']/benign_sum), l\n",
    "\n",
    "def calc_path_frac(rows):\n",
    "    pfam = list(rows['pfam'].values)[0]\n",
    "    pathogenic = len(rows[ (rows.clin_class=='PATHOGENIC') | (rows.clin_class=='LIKLEY_PATHOGENIC')])\n",
    "    benign = len(rows[ (rows.clin_class=='LIKELY_BENIGN') | (rows.clin_class=='BENIGN')])\n",
    "    frac = -1\n",
    "    if pathogenic+benign:\n",
    "        frac = pathogenic/(pathogenic+benign)\n",
    "    \n",
    "    pf, pf_avg, pf_ent, pcount = calc_path_freq(rows)\n",
    "    bf, bf_avg, bf_ent, bcount = calc_benign_freq(rows)\n",
    "    \n",
    "    r = -1\n",
    "    if bf:\n",
    "        r = pf/bf\n",
    "    return pandas.Series([frac, len(rows), pf, pf_avg, pf_ent, pcount, bf, bf_avg, bf_ent, bcount, r],\n",
    "                         index=['path_frac', 'size',\n",
    "                                'path_freq', 'p_freq_avg', 'p_freq_ent', 'ps',\n",
    "                                'benign_freq', 'b_freq_avg', 'b_freq_ent', 'bs',\n",
    "                                'fRatio'])\n",
    "\n",
    "def calc_tot_freq_ratio(rows):\n",
    "    path_sum = calc_path_freq(rows)\n",
    "    benign_sum = calc_benign_freq(rows)\n",
    "    return path_sum/benign_sum\n",
    "\n",
    "dat_file = '../data/interim/EPIv6.eff.dbnsfp.anno.hHack.dat.xls'\n",
    "df_pre = pandas.read_csv(dat_file, sep='\\t').fillna(0)\n",
    "df_pre.loc[:, 'freq'] = df_pre['pos_fam']/(df_pre['pos_fam']+df_pre['neg_fam'])\n",
    "df = (df_pre['pfam'].str.split(',', expand=True)\n",
    "     .stack()\n",
    "     .reset_index(level=0)\n",
    "     .set_index('level_0')\n",
    "     .rename(columns={0:'pfam'})\n",
    "     .join(df_pre.drop('pfam',1), how='left')\n",
    "     )\n",
    "dd = df.groupby('pfam').apply(calc_path_frac)\n",
    "ff = dd.reset_index()\n",
    "\n",
    "# mk domain features\n",
    "def match(row, domain_info):\n",
    "    ls = []\n",
    "    for pfam in row['pfam'].split(','):\n",
    "        if pfam in domain_info:\n",
    "            if domain_info[pfam][2] == 0:\n",
    "                ls.append(domain_info[pfam])\n",
    "    if len(ls) == 0:\n",
    "        for pfam in row['pfam'].split(','):\n",
    "            if pfam in domain_info:\n",
    "                return domain_info[pfam]\n",
    "        \n",
    "    if len(ls):\n",
    "        return ls[0]\n",
    "    else:\n",
    "        return (0, 0,\n",
    "                0, 0, -1, 0,\n",
    "                0, 0, -1, 0,\n",
    "                -1, 1)\n",
    "    \n",
    "ff.loc[:, 'path_na'] = ff.apply(lambda row: 1 if row['path_frac']==-1 else 0, axis=1)\n",
    "domain_info = {pfam:[path_frac, size,\n",
    "                     path_freq, path_avg, path_ent, pc,\n",
    "                     b_freq, b_avg, b_ent, bc,\n",
    "                     fr, path_na]\n",
    "               for pfam, path_frac, size, path_freq, path_avg, path_ent, pc, b_freq, b_avg, b_ent, bc, fr, path_na\n",
    "               in ff.values}\n",
    "\n",
    "df_pre.loc[:, 'path_frac_t'] = df_pre.apply(lambda row: match(row, domain_info)[0], axis=1)\n",
    "df_pre.loc[:, 'size_t'] = df_pre.apply(lambda row: match(row, domain_info)[1], axis=1)\n",
    "df_pre.loc[:, 'path_na_t'] = df_pre.apply(lambda row: match(row, domain_info)[-1], axis=1)\n",
    "df_pre.loc[:, 'in_none_pfam'] = df_pre.apply(lambda row: 1 if 'none' in row['pfam'] else 0, axis=1)\n",
    "\n",
    "# use patient counts\n",
    "df_pre.loc[:, 'path_freq'] = df_pre.apply(lambda row: match(row, domain_info)[2], axis=1)\n",
    "df_pre.loc[:, 'path_avg'] = df_pre.apply(lambda row: match(row, domain_info)[3], axis=1)\n",
    "df_pre.loc[:, 'path_ent'] = df_pre.apply(lambda row: match(row, domain_info)[4], axis=1)\n",
    "df_pre.loc[:, 'path_cnt'] = df_pre.apply(lambda row: match(row, domain_info)[5], axis=1)\n",
    "\n",
    "df_pre.loc[:, 'benign_freq'] = df_pre.apply(lambda row: match(row, domain_info)[6], axis=1)\n",
    "df_pre.loc[:, 'benign_avg'] = df_pre.apply(lambda row: match(row, domain_info)[7], axis=1)\n",
    "df_pre.loc[:, 'benign_ent'] = df_pre.apply(lambda row: match(row, domain_info)[8], axis=1)\n",
    "df_pre.loc[:, 'benign_cnt'] = df_pre.apply(lambda row: match(row, domain_info)[9], axis=1)\n",
    "\n",
    "df_pre.loc[:, 'path_benign_freq_r'] = df_pre.apply(lambda row: match(row, domain_info)[10], axis=1)\n",
    "#df_pre.loc[:, 'path_na_t'] = df_pre.apply(lambda row: match(row, domain_info)[2], axis=1)"
   ]
  },
  {
   "cell_type": "code",
   "execution_count": 12,
   "metadata": {
    "collapsed": false
   },
   "outputs": [
    {
     "name": "stderr",
     "output_type": "stream",
     "text": [
      "/opt/conda/lib/python3.4/site-packages/pandas/core/indexing.py:297: SettingWithCopyWarning: \n",
      "A value is trying to be set on a copy of a slice from a DataFrame.\n",
      "Try using .loc[row_indexer,col_indexer] = value instead\n",
      "\n",
      "See the caveats in the documentation: http://pandas.pydata.org/pandas-docs/stable/indexing.html#indexing-view-versus-copy\n",
      "  self.obj[key] = _infer_fill_value(value)\n",
      "/opt/conda/lib/python3.4/site-packages/pandas/core/indexing.py:477: SettingWithCopyWarning: \n",
      "A value is trying to be set on a copy of a slice from a DataFrame.\n",
      "Try using .loc[row_indexer,col_indexer] = value instead\n",
      "\n",
      "See the caveats in the documentation: http://pandas.pydata.org/pandas-docs/stable/indexing.html#indexing-view-versus-copy\n",
      "  self.obj[item] = s\n"
     ]
    },
    {
     "data": {
      "text/html": [
       "<div>\n",
       "<table border=\"1\" class=\"dataframe\">\n",
       "  <thead>\n",
       "    <tr style=\"text-align: right;\">\n",
       "      <th></th>\n",
       "      <th>chrom</th>\n",
       "      <th>pos</th>\n",
       "      <th>ref</th>\n",
       "      <th>alt</th>\n",
       "      <th>clin_class</th>\n",
       "      <th>pfam</th>\n",
       "      <th>af_1kg_all</th>\n",
       "      <th>eff</th>\n",
       "      <th>pos_fam</th>\n",
       "      <th>neg_fam</th>\n",
       "      <th>...</th>\n",
       "      <th>path_avg</th>\n",
       "      <th>path_ent</th>\n",
       "      <th>path_cnt</th>\n",
       "      <th>benign_freq</th>\n",
       "      <th>benign_avg</th>\n",
       "      <th>benign_ent</th>\n",
       "      <th>benign_cnt</th>\n",
       "      <th>path_benign_freq_r</th>\n",
       "      <th>multi_pfam</th>\n",
       "      <th>y</th>\n",
       "    </tr>\n",
       "  </thead>\n",
       "  <tbody>\n",
       "    <tr>\n",
       "      <th>12</th>\n",
       "      <td>1</td>\n",
       "      <td>40555089</td>\n",
       "      <td>G</td>\n",
       "      <td>C</td>\n",
       "      <td>PATHOGENIC</td>\n",
       "      <td>Palm_thioest:6,Palm_thioest:7</td>\n",
       "      <td>0.000000</td>\n",
       "      <td>missense_variant</td>\n",
       "      <td>1</td>\n",
       "      <td>8544</td>\n",
       "      <td>...</td>\n",
       "      <td>0.000293</td>\n",
       "      <td>0.500402</td>\n",
       "      <td>2.0</td>\n",
       "      <td>0.000000</td>\n",
       "      <td>0.000000</td>\n",
       "      <td>-1.0</td>\n",
       "      <td>0.0</td>\n",
       "      <td>-1.0</td>\n",
       "      <td>True</td>\n",
       "      <td>1</td>\n",
       "    </tr>\n",
       "    <tr>\n",
       "      <th>16</th>\n",
       "      <td>1</td>\n",
       "      <td>40557070</td>\n",
       "      <td>T</td>\n",
       "      <td>A</td>\n",
       "      <td>PATHOGENIC</td>\n",
       "      <td>Palm_thioest:9</td>\n",
       "      <td>0.000599</td>\n",
       "      <td>missense_variant</td>\n",
       "      <td>2</td>\n",
       "      <td>8543</td>\n",
       "      <td>...</td>\n",
       "      <td>0.000176</td>\n",
       "      <td>0.636514</td>\n",
       "      <td>2.0</td>\n",
       "      <td>0.000000</td>\n",
       "      <td>0.000000</td>\n",
       "      <td>-1.0</td>\n",
       "      <td>0.0</td>\n",
       "      <td>-1.0</td>\n",
       "      <td>True</td>\n",
       "      <td>1</td>\n",
       "    </tr>\n",
       "    <tr>\n",
       "      <th>18</th>\n",
       "      <td>1</td>\n",
       "      <td>40557754</td>\n",
       "      <td>A</td>\n",
       "      <td>C</td>\n",
       "      <td>PATHOGENIC</td>\n",
       "      <td>Palm_thioest:10</td>\n",
       "      <td>0.000000</td>\n",
       "      <td>missense_variant</td>\n",
       "      <td>1</td>\n",
       "      <td>8544</td>\n",
       "      <td>...</td>\n",
       "      <td>0.000117</td>\n",
       "      <td>0.000000</td>\n",
       "      <td>1.0</td>\n",
       "      <td>0.000234</td>\n",
       "      <td>0.000234</td>\n",
       "      <td>0.0</td>\n",
       "      <td>1.0</td>\n",
       "      <td>0.5</td>\n",
       "      <td>True</td>\n",
       "      <td>1</td>\n",
       "    </tr>\n",
       "    <tr>\n",
       "      <th>19</th>\n",
       "      <td>1</td>\n",
       "      <td>40557769</td>\n",
       "      <td>T</td>\n",
       "      <td>C</td>\n",
       "      <td>LIKELY_BENIGN</td>\n",
       "      <td>Palm_thioest:10</td>\n",
       "      <td>0.000000</td>\n",
       "      <td>missense_variant</td>\n",
       "      <td>2</td>\n",
       "      <td>8543</td>\n",
       "      <td>...</td>\n",
       "      <td>0.000117</td>\n",
       "      <td>0.000000</td>\n",
       "      <td>1.0</td>\n",
       "      <td>0.000234</td>\n",
       "      <td>0.000234</td>\n",
       "      <td>0.0</td>\n",
       "      <td>1.0</td>\n",
       "      <td>0.5</td>\n",
       "      <td>True</td>\n",
       "      <td>0</td>\n",
       "    </tr>\n",
       "    <tr>\n",
       "      <th>34</th>\n",
       "      <td>1</td>\n",
       "      <td>43393355</td>\n",
       "      <td>C</td>\n",
       "      <td>T</td>\n",
       "      <td>PATHOGENIC</td>\n",
       "      <td>MFS_1:44,Sugar_tr:29</td>\n",
       "      <td>0.000000</td>\n",
       "      <td>missense_variant</td>\n",
       "      <td>1</td>\n",
       "      <td>8419</td>\n",
       "      <td>...</td>\n",
       "      <td>0.000148</td>\n",
       "      <td>1.332179</td>\n",
       "      <td>4.0</td>\n",
       "      <td>0.000000</td>\n",
       "      <td>0.000000</td>\n",
       "      <td>-1.0</td>\n",
       "      <td>0.0</td>\n",
       "      <td>-1.0</td>\n",
       "      <td>True</td>\n",
       "      <td>1</td>\n",
       "    </tr>\n",
       "  </tbody>\n",
       "</table>\n",
       "<p>5 rows × 37 columns</p>\n",
       "</div>"
      ],
      "text/plain": [
       "   chrom       pos ref alt     clin_class                           pfam  \\\n",
       "12     1  40555089   G   C     PATHOGENIC  Palm_thioest:6,Palm_thioest:7   \n",
       "16     1  40557070   T   A     PATHOGENIC                 Palm_thioest:9   \n",
       "18     1  40557754   A   C     PATHOGENIC                Palm_thioest:10   \n",
       "19     1  40557769   T   C  LIKELY_BENIGN                Palm_thioest:10   \n",
       "34     1  43393355   C   T     PATHOGENIC           MFS_1:44,Sugar_tr:29   \n",
       "\n",
       "    af_1kg_all               eff  pos_fam  neg_fam ...  path_avg  path_ent  \\\n",
       "12    0.000000  missense_variant        1     8544 ...  0.000293  0.500402   \n",
       "16    0.000599  missense_variant        2     8543 ...  0.000176  0.636514   \n",
       "18    0.000000  missense_variant        1     8544 ...  0.000117  0.000000   \n",
       "19    0.000000  missense_variant        2     8543 ...  0.000117  0.000000   \n",
       "34    0.000000  missense_variant        1     8419 ...  0.000148  1.332179   \n",
       "\n",
       "    path_cnt  benign_freq  benign_avg  benign_ent benign_cnt  \\\n",
       "12       2.0     0.000000    0.000000        -1.0        0.0   \n",
       "16       2.0     0.000000    0.000000        -1.0        0.0   \n",
       "18       1.0     0.000234    0.000234         0.0        1.0   \n",
       "19       1.0     0.000234    0.000234         0.0        1.0   \n",
       "34       4.0     0.000000    0.000000        -1.0        0.0   \n",
       "\n",
       "    path_benign_freq_r multi_pfam  y  \n",
       "12                -1.0       True  1  \n",
       "16                -1.0       True  1  \n",
       "18                 0.5       True  1  \n",
       "19                 0.5       True  0  \n",
       "34                -1.0       True  1  \n",
       "\n",
       "[5 rows x 37 columns]"
      ]
     },
     "execution_count": 12,
     "metadata": {},
     "output_type": "execute_result"
    }
   ],
   "source": [
    "# this is for training\n",
    "# use not just missense\n",
    "# I do not need to require an mpc score here anymore (df_pre.mpc>0)\n",
    "df_x_pre = df_pre[ (df_pre.clin_class != 'VUS') ]\n",
    "df_s = df_x_pre.groupby('pfam').size().reset_index()\n",
    "multi_pfam = set( df_s[df_s[0]>1]['pfam'].values )\n",
    "df_x_pre.loc[:, 'multi_pfam'] = df_x_pre.apply(lambda row: row['pfam'] in multi_pfam, axis=1)\n",
    "df_x = df_x_pre[ (df_x_pre.multi_pfam) & (df_x_pre.eff=='missense_variant') & (df_x_pre.mpc>0)]\n",
    "df_x.loc[:, 'y'] = df_x.apply(lambda row: 1 if row['clin_class'] in ('PATHOGENIC', 'LIKLEY_PATHOGENIC')\n",
    "                            else 0, axis=1)\n",
    "df_x.head()"
   ]
  },
  {
   "cell_type": "code",
   "execution_count": 13,
   "metadata": {
    "collapsed": true
   },
   "outputs": [],
   "source": [
    "train_keys = {':'.join([str(x) for x in v]):True for v in df_x[['chrom', 'pos', 'ref', 'alt']].values}"
   ]
  },
  {
   "cell_type": "code",
   "execution_count": 14,
   "metadata": {
    "collapsed": false
   },
   "outputs": [],
   "source": [
    "clin_file = '../data/interim/clinvar/clinvar.dat'\n",
    "#clinvar_df_pre = pandas.read_csv(clin_file, sep='\\t').fillna(0)\n",
    "def calc_final_sig(row):\n",
    "    sig_set = set(str(row['clinSig'].split('|')))\n",
    "    has_benign = '2' in sig_set or '3' in sig_set\n",
    "    has_path = '4' in sig_set or '5' in sig_set\n",
    "    if has_path and not has_benign:\n",
    "        return 1\n",
    "    if not has_path and has_benign:\n",
    "        return 0\n",
    "    return -1\n",
    "\n",
    "# & (clinvar_df_pre.not_in_training)\n",
    "\n",
    "# need a smarter match to domain here\n",
    "#m = pandas.merge(clinvar_df, ff, on='pfam', how='left')\n",
    "#m.head()"
   ]
  },
  {
   "cell_type": "code",
   "execution_count": 22,
   "metadata": {
    "collapsed": false
   },
   "outputs": [],
   "source": [
    "def eval_pred(row):\n",
    "    if (row['tree_pred']>.9 and row['y']==1) or (row['tree_pred']<.1 and row['y']==0):\n",
    "        return 'right'\n",
    "    if (row['tree_pred']>.9 and row['y']==0) or (row['tree_pred']<.1 and row['y']==1):\n",
    "        return 'wrong'\n",
    "    return 'vus'"
   ]
  },
  {
   "cell_type": "code",
   "execution_count": 29,
   "metadata": {
    "collapsed": true
   },
   "outputs": [],
   "source": [
    "def do_it(gene):\n",
    "    focus_gene_ls = (gene,)\n",
    "    clinvar_df_pre = pandas.read_csv(clin_file, sep='\\t').fillna(0)\n",
    "\n",
    "    clinvar_df_pre.loc[:, \"y\"] = clinvar_df_pre.apply(calc_final_sig, axis=1)\n",
    "    clinvar_df_pre.loc[:, \"key\"] = clinvar_df_pre.apply(lambda row: ':'.join([str(row[x]) for x in ['chrom', 'pos', 'ref', 'alt']]), axis=1)\n",
    "    clinvar_df_pre.loc[:, \"not_in_training\"] = clinvar_df_pre.apply(lambda row: not row['key'] in train_keys, axis=1)\n",
    "    clinvar_df_pre.loc[:, \"is_focus\"] = clinvar_df_pre.apply(lambda row: row['gene'] in focus_gene_ls, axis=1)\n",
    "\n",
    "    clinvar_df = clinvar_df_pre[(clinvar_df_pre.eff=='missense_variant')\n",
    "                            & (clinvar_df_pre.not_in_training)\n",
    "                            & (clinvar_df_pre.mpc>0)\n",
    "                            & (clinvar_df_pre.is_focus)\n",
    "                            & (clinvar_df_pre.y!=-1) ].drop_duplicates()\n",
    "    clinvar_df.loc[:, 'path_frac_t'] = clinvar_df.apply(lambda row: match(row, domain_info)[0], axis=1)\n",
    "    clinvar_df.loc[:, 'size_t'] = clinvar_df.apply(lambda row: match(row, domain_info)[1], axis=1)\n",
    "    clinvar_df.loc[:, 'path_freq'] = clinvar_df.apply(lambda row: match(row, domain_info)[2], axis=1)\n",
    "    clinvar_df.loc[:, 'path_avg'] = clinvar_df.apply(lambda row: match(row, domain_info)[3], axis=1)\n",
    "    clinvar_df.loc[:, 'path_ent'] = clinvar_df.apply(lambda row: match(row, domain_info)[4], axis=1)\n",
    "    clinvar_df.loc[:, 'path_cnt'] = clinvar_df.apply(lambda row: match(row, domain_info)[5], axis=1)\n",
    "    clinvar_df.loc[:, 'benign_freq'] = clinvar_df.apply(lambda row: match(row, domain_info)[6], axis=1)\n",
    "    clinvar_df.loc[:, 'benign_avg'] = clinvar_df.apply(lambda row: match(row, domain_info)[7], axis=1)\n",
    "    clinvar_df.loc[:, 'benign_ent'] = clinvar_df.apply(lambda row: match(row, domain_info)[8], axis=1)\n",
    "    clinvar_df.loc[:, 'benign_cnt'] = clinvar_df.apply(lambda row: match(row, domain_info)[9], axis=1)\n",
    "    clinvar_df.loc[:, 'path_benign_freq_r'] = clinvar_df.apply(lambda row: match(row, domain_info)[10], axis=1)\n",
    "    clinvar_df.loc[:, 'path_na_t'] = clinvar_df.apply(lambda row: match(row, domain_info)[-1], axis=1)\n",
    "    clinvar_df.loc[:, 'in_none_pfam'] = clinvar_df.apply(lambda row: 1 if 'none' in row['pfam'] else 0, axis=1)\n",
    "    \n",
    "    # train new tree and apply to clinvar\n",
    "    forest = ExtraTreesClassifier(n_estimators=300,\n",
    "                                  random_state=13,\n",
    "                                  bootstrap=True,\n",
    "                                  max_features=7,\n",
    "                                  min_samples_split=2,\n",
    "                                  max_depth=8,\n",
    "                                  min_samples_leaf=5,\n",
    "                                  n_jobs=4)\n",
    "\n",
    "    all_preds = []\n",
    "    all_truth = []\n",
    "\n",
    "    cols = ['mpc', 'size_t', 'path_frac_t', 'in_none_pfam',\n",
    "        'path_freq', 'path_avg', 'path_ent', 'path_cnt',\n",
    "        'benign_freq', 'benign_avg', 'benign_ent', 'benign_cnt',\n",
    "        'af_1kg_all', 'mtr', 'path_benign_freq_r']\n",
    "    X, y = df_x[cols], df_x['y']\n",
    "    forest.fit(X, y)\n",
    "\n",
    "    X_clin, y_clin = clinvar_df[cols], clinvar_df['y']\n",
    "    preds = [ x[1] for x in forest.predict_proba(X_clin) ]\n",
    "    clinvar_df['tree_pred'] = preds\n",
    "    clinvar_df.loc[:, 'PredictionStatus'] = clinvar_df.apply(eval_pred, axis=1)\n",
    "    fpr_tree, tpr_tree, _ = metrics.roc_curve(y_clin, preds, pos_label=1)\n",
    "    tree_auc = metrics.auc(fpr_tree, tpr_tree)\n",
    "    print(gene, tree_auc)\n",
    "    \n",
    "    g_df = (clinvar_df[['gene', 'chrom', 'pos', 'ref', 'alt', 'PredictionStatus']]\n",
    "        .groupby(['gene','PredictionStatus'])\n",
    "        .size().reset_index().rename(columns={0:'size'}))\n",
    "    dd = g_df.groupby('gene').sum().reset_index()\n",
    "    use_genes = set(dd[dd['size']>0]['gene'].values)\n",
    "    g_df.loc[:, 'keep'] = g_df.apply(lambda row: row['gene'] in use_genes, axis=1)\n",
    "    sns.set(font_scale=1.75)\n",
    "    flatui = [\"#2ecc71\",  \"#3498db\",  \"#e74c3c\",]\n",
    "    ss = sns.factorplot(x='gene', hue='PredictionStatus', y='size', data=g_df[g_df['keep']],\n",
    "                        kind='bar', palette=sns.color_palette(flatui), size=5, aspect=3)\n",
    "    ss.set_ylabels('ClinVar missense variants')\n",
    "    ss.set_xlabels('')\n",
    "    ss.savefig(\"../docs/plots/clinvar_%s_eval.png\" % (gene,))\n",
    "\n",
    "    # train new tree and apply to clinvar: just pathogenic frac\n",
    "    #tree_clf = linear_model.LogisticRegression(penalty='l1', fit_intercept=True)\n",
    "    #poly = PolynomialFeatures(degree=6, interaction_only=False, include_bias=False)\n",
    "\n",
    "    all_preds = []\n",
    "    all_truth = []\n",
    "    cols = ['size_t', 'path_frac_t', 'in_none_pfam',\n",
    "        'path_freq', 'path_avg', 'path_ent', 'path_cnt',\n",
    "        'benign_freq', 'benign_avg', 'benign_ent', 'benign_cnt',\n",
    "        'af_1kg_all', 'mtr', 'path_benign_freq_r']\n",
    "    X, y = df_x[cols], df_x['y']\n",
    "    forest.fit(X, y)\n",
    "    \n",
    "   # cols =  ['size_t', 'path_na_t', 'path_frac_t', 'in_none_pfam','path_freq', 'path_avg', 'path_ent',\n",
    "   #     'benign_freq', 'benign_avg', 'benign_ent',\n",
    "   #     'af_1kg_all', 'mtr', 'path_benign_freq_r'] #['size_t', 'path_na_t', 'path_frac_t', 'path_freq', 'benign_freq', 'in_none_pfam',]\n",
    "    #X, y = poly.fit_transform(df_x[cols]), df_x['y'] #X, y = df_x[cols], df_x['y']\n",
    "    #tree_clf.fit(X, y)\n",
    "\n",
    "    X_clin, y_clin = clinvar_df[cols], clinvar_df['y'] #X_clin, y_clin = poly.fit_transform(clinvar_df[cols]), clinvar_df['y'] #clinvar_df[cols], clinvar_df['y']\n",
    "    preds = [ x[1] for x in forest.predict_proba(X_clin) ]\n",
    "    fpr_tree_nm, tpr_tree_nm, _ = metrics.roc_curve(y_clin, preds, pos_label=1)\n",
    "    tree_auc_nm = metrics.auc(fpr_tree_nm, tpr_tree_nm)\n",
    "    \n",
    "    scores = clinvar_df['mpc'].values\n",
    "    truth = clinvar_df['y'].values\n",
    "    fpr_mpc, tpr_mpc, _ = metrics.roc_curve(truth, scores, pos_label=1)\n",
    "    mpc_auc = metrics.auc(fpr_mpc, tpr_mpc)\n",
    "    plt.clf()\n",
    "    sns.set(font_scale=1.5)\n",
    "    plt.plot(fpr_tree, tpr_tree, label='Domain Burden + MPC (%.2f)' % (tree_auc,), color='green')\n",
    "    plt.plot(fpr_tree_nm, tpr_tree_nm, label='Domain Burden (%.2f)' % (tree_auc_nm,), color='orange')\n",
    "    plt.plot(fpr_mpc, tpr_mpc, label='MPC (%.2f)' % (mpc_auc,), color='black')\n",
    "    plt.legend(loc=4)\n",
    "    plt.title('ClinVar %s (w/o GeneDx) missense variant ROC' % (gene,))\n",
    "    plt.savefig(\"../docs/plots/clinvar_%s_roc.png\" % (gene,))\n",
    "    plt.clf()"
   ]
  },
  {
   "cell_type": "code",
   "execution_count": 30,
   "metadata": {
    "collapsed": false
   },
   "outputs": [
    {
     "name": "stdout",
     "output_type": "stream",
     "text": [
      "SCN1A 0.94094488189\n",
      "SCN2A 0.9375\n",
      "KCNQ2 1.0\n",
      "KCNQ3 0.875\n",
      "CDKL5 0.863636363636\n",
      "PCDH19 0.96\n",
      "SCN1B 0.86\n",
      "SCN8A 1.0\n",
      "SLC2A1 0.375\n",
      "SPTAN1 0.546666666667\n",
      "STXBP1 0.857142857143\n",
      "TSC1 0.766666666667\n"
     ]
    },
    {
     "data": {
      "text/plain": [
       "<matplotlib.figure.Figure at 0x7f43f8267dd8>"
      ]
     },
     "metadata": {},
     "output_type": "display_data"
    },
    {
     "data": {
      "text/plain": [
       "<matplotlib.figure.Figure at 0x7f4418a29828>"
      ]
     },
     "metadata": {},
     "output_type": "display_data"
    },
    {
     "data": {
      "text/plain": [
       "<matplotlib.figure.Figure at 0x7f4419fb2f28>"
      ]
     },
     "metadata": {},
     "output_type": "display_data"
    },
    {
     "data": {
      "text/plain": [
       "<matplotlib.figure.Figure at 0x7f4418467898>"
      ]
     },
     "metadata": {},
     "output_type": "display_data"
    },
    {
     "data": {
      "text/plain": [
       "<matplotlib.figure.Figure at 0x7f43f82abc18>"
      ]
     },
     "metadata": {},
     "output_type": "display_data"
    },
    {
     "data": {
      "text/plain": [
       "<matplotlib.figure.Figure at 0x7f441830db38>"
      ]
     },
     "metadata": {},
     "output_type": "display_data"
    },
    {
     "data": {
      "text/plain": [
       "<matplotlib.figure.Figure at 0x7f43f2f92390>"
      ]
     },
     "metadata": {},
     "output_type": "display_data"
    },
    {
     "data": {
      "text/plain": [
       "<matplotlib.figure.Figure at 0x7f43f82f9ba8>"
      ]
     },
     "metadata": {},
     "output_type": "display_data"
    },
    {
     "data": {
      "text/plain": [
       "<matplotlib.figure.Figure at 0x7f4418517da0>"
      ]
     },
     "metadata": {},
     "output_type": "display_data"
    },
    {
     "data": {
      "text/plain": [
       "<matplotlib.figure.Figure at 0x7f43f22a5e48>"
      ]
     },
     "metadata": {},
     "output_type": "display_data"
    },
    {
     "data": {
      "text/plain": [
       "<matplotlib.figure.Figure at 0x7f43f1da32e8>"
      ]
     },
     "metadata": {},
     "output_type": "display_data"
    },
    {
     "data": {
      "text/plain": [
       "<matplotlib.figure.Figure at 0x7f441a01f198>"
      ]
     },
     "metadata": {},
     "output_type": "display_data"
    }
   ],
   "source": [
    "for gene in ('SCN1A','SCN2A','KCNQ2', 'KCNQ3', 'CDKL5',\n",
    "             'PCDH19', 'SCN1B', 'SCN8A', 'SLC2A1', 'SPTAN1', 'STXBP1', 'TSC1'):\n",
    "    do_it(gene)"
   ]
  },
  {
   "cell_type": "code",
   "execution_count": null,
   "metadata": {
    "collapsed": true
   },
   "outputs": [],
   "source": []
  }
 ],
 "metadata": {
  "kernelspec": {
   "display_name": "Python 3",
   "language": "python",
   "name": "python3"
  },
  "language_info": {
   "codemirror_mode": {
    "name": "ipython",
    "version": 3
   },
   "file_extension": ".py",
   "mimetype": "text/x-python",
   "name": "python",
   "nbconvert_exporter": "python",
   "pygments_lexer": "ipython3",
   "version": "3.4.5"
  }
 },
 "nbformat": 4,
 "nbformat_minor": 2
}
