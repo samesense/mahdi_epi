{
 "cells": [
  {
   "cell_type": "markdown",
   "metadata": {},
   "source": [
    "### lab 2 missense prediction w/ feature intersection\n",
    "* only missense clinvar\n",
    "* use positions w/ mpc **OR** pathogenic fraction\n",
    "* just use ('SCN1A','SCN2A','KCNQ2', 'KCNQ3')"
   ]
  },
  {
   "cell_type": "code",
   "execution_count": 2,
   "metadata": {
    "collapsed": true
   },
   "outputs": [],
   "source": [
    "import pandas, numpy\n",
    "import pydot, pydotplus, graphviz\n",
    "import matplotlib.pyplot as plt\n",
    "import seaborn as sns\n",
    "from sklearn import linear_model, metrics, tree, svm\n",
    "from sklearn.neural_network import MLPClassifier\n",
    "from sklearn.preprocessing import PolynomialFeatures\n",
    "from sklearn.externals.six import StringIO\n",
    "from IPython.display import HTML\n",
    "%matplotlib inline"
   ]
  },
  {
   "cell_type": "code",
   "execution_count": 3,
   "metadata": {
    "collapsed": false
   },
   "outputs": [],
   "source": [
    "def calc_path_frac(rows):\n",
    "    pfam = list(rows['pfam'].values)[0]\n",
    "    pathogenic = len(rows[ (rows.clin_class=='PATHOGENIC') | (rows.clin_class=='LIKLEY_PATHOGENIC')])\n",
    "    benign = len(rows[ (rows.clin_class=='LIKELY_BENIGN') | (rows.clin_class=='BENIGN')])\n",
    "    frac = -1\n",
    "    if pathogenic+benign:\n",
    "        frac = pathogenic/(pathogenic+benign)\n",
    "    return pandas.Series([frac, len(rows)], index=['path_frac', 'size'])\n",
    "\n",
    "dat_file = '../data/interim/EPIv6.eff.dbnsfp.anno.hHack.dat.xls'\n",
    "df_pre = pandas.read_csv(dat_file, sep='\\t').fillna(0)\n",
    "df = (df_pre['pfam'].str.split(',', expand=True)\n",
    "     .stack()\n",
    "     .reset_index(level=0)\n",
    "     .set_index('level_0')\n",
    "     .rename(columns={0:'pfam'})\n",
    "     .join(df_pre.drop('pfam',1), how='left')\n",
    "     )\n",
    "dd = df.groupby('pfam').apply(calc_path_frac)\n",
    "ff = dd.reset_index()\n",
    "\n",
    "# mk domain features\n",
    "def match(row, domain_info):\n",
    "    ls = []\n",
    "    for pfam in row['pfam'].split(','):\n",
    "        if pfam in domain_info:\n",
    "            if domain_info[pfam][2] == 0:\n",
    "                ls.append(domain_info[pfam])\n",
    "    if len(ls) == 0:\n",
    "        for pfam in row['pfam'].split(','):\n",
    "            if pfam in domain_info:\n",
    "                return domain_info[pfam]\n",
    "        \n",
    "    if len(ls):\n",
    "        return ls[0]\n",
    "    else:\n",
    "        return (0, 0, 1)\n",
    "    \n",
    "ff.loc[:, 'path_na'] = ff.apply(lambda row: 1 if row['path_frac']==-1 else 0, axis=1)\n",
    "domain_info = {pfam:[path_frac, size, path_na]\n",
    "               for pfam, path_frac, size, path_na\n",
    "               in ff.values}\n",
    "\n",
    "df_pre.loc[:, 'path_frac_t'] = df_pre.apply(lambda row: match(row, domain_info)[0], axis=1)\n",
    "df_pre.loc[:, 'size_t'] = df_pre.apply(lambda row: match(row, domain_info)[1], axis=1)\n",
    "df_pre.loc[:, 'path_na_t'] = df_pre.apply(lambda row: match(row, domain_info)[2], axis=1)\n",
    "df_pre.loc[:, 'in_none_pfam'] = df_pre.apply(lambda row: 1 if 'none' in df_pre['pfam'] else 0, axis=1)"
   ]
  },
  {
   "cell_type": "code",
   "execution_count": 4,
   "metadata": {
    "collapsed": false
   },
   "outputs": [
    {
     "name": "stderr",
     "output_type": "stream",
     "text": [
      "/opt/conda/lib/python3.4/site-packages/pandas/core/indexing.py:297: SettingWithCopyWarning: \n",
      "A value is trying to be set on a copy of a slice from a DataFrame.\n",
      "Try using .loc[row_indexer,col_indexer] = value instead\n",
      "\n",
      "See the caveats in the documentation: http://pandas.pydata.org/pandas-docs/stable/indexing.html#indexing-view-versus-copy\n",
      "  self.obj[key] = _infer_fill_value(value)\n",
      "/opt/conda/lib/python3.4/site-packages/pandas/core/indexing.py:477: SettingWithCopyWarning: \n",
      "A value is trying to be set on a copy of a slice from a DataFrame.\n",
      "Try using .loc[row_indexer,col_indexer] = value instead\n",
      "\n",
      "See the caveats in the documentation: http://pandas.pydata.org/pandas-docs/stable/indexing.html#indexing-view-versus-copy\n",
      "  self.obj[item] = s\n"
     ]
    }
   ],
   "source": [
    "# this is for training\n",
    "# use not just missense\n",
    "# I do not need to require an mpc score here anymore\n",
    "df_x_pre = df_pre[ (df_pre.clin_class != 'VUS') & \n",
    "                   (df_pre.mpc>0)]\n",
    "df_s = df_x_pre.groupby('pfam').size().reset_index()\n",
    "multi_pfam = set( df_s[df_s[0]>1]['pfam'].values )\n",
    "df_x_pre.loc[:, 'multi_pfam'] = df_x_pre.apply(lambda row: row['pfam'] in multi_pfam, axis=1)\n",
    "df_x = df_x_pre[df_x_pre.multi_pfam]\n",
    "df_x.loc[:, 'y'] = df_x.apply(lambda row: 1 if row['clin_class'] in ('PATHOGENIC', 'LIKLEY_PATHOGENIC')\n",
    "                            else 0, axis=1)\n",
    "df_x.head()\n",
    "genes = set(df_x['gene'].values)"
   ]
  },
  {
   "cell_type": "code",
   "execution_count": 5,
   "metadata": {
    "collapsed": false
   },
   "outputs": [
    {
     "name": "stderr",
     "output_type": "stream",
     "text": [
      "/opt/conda/lib/python3.4/site-packages/pandas/core/indexing.py:297: SettingWithCopyWarning: \n",
      "A value is trying to be set on a copy of a slice from a DataFrame.\n",
      "Try using .loc[row_indexer,col_indexer] = value instead\n",
      "\n",
      "See the caveats in the documentation: http://pandas.pydata.org/pandas-docs/stable/indexing.html#indexing-view-versus-copy\n",
      "  self.obj[key] = _infer_fill_value(value)\n",
      "/opt/conda/lib/python3.4/site-packages/pandas/core/indexing.py:477: SettingWithCopyWarning: \n",
      "A value is trying to be set on a copy of a slice from a DataFrame.\n",
      "Try using .loc[row_indexer,col_indexer] = value instead\n",
      "\n",
      "See the caveats in the documentation: http://pandas.pydata.org/pandas-docs/stable/indexing.html#indexing-view-versus-copy\n",
      "  self.obj[item] = s\n"
     ]
    }
   ],
   "source": [
    "clin_file = '../data/interim/panel_two.eff.dbnsfp.anno.hHack.dat.xls'\n",
    "clinvar_df_pre_pre = pandas.read_csv(clin_file, sep='\\t').fillna(0)\n",
    "crit = clinvar_df_pre_pre.apply(lambda row: row['gene'] in genes and row['gene'] in ('SCN1A','SCN2A','KCNQ2', 'KCNQ3'), axis=1)\n",
    "clinvar_df_pre = clinvar_df_pre_pre[crit]\n",
    "\n",
    "def calc_final_sig(row):\n",
    "    if row['clin_class'] in ('pathogenic', 'pathogenic_recessive', 'pathogenic_dominant', 'likely_pathogenic'):\n",
    "        return 1\n",
    "    if row['clin_class'] in ('benign', 'likely_benign'):\n",
    "        return 0\n",
    "    return -1\n",
    "\n",
    "clinvar_df_pre.loc[:, \"y\"] = clinvar_df_pre.apply(calc_final_sig, axis=1)\n",
    "clinvar_df = clinvar_df_pre[(clinvar_df_pre.eff=='missense_variant') \n",
    "                            & (clinvar_df_pre.y!=-1) \n",
    "                            & (clinvar_df_pre.mpc>0)\n",
    "                            & (clinvar_df_pre.pfam != 'fuck')].drop_duplicates()\n",
    "clinvar_df.loc[:, 'path_frac_t'] = clinvar_df.apply(lambda row: match(row, domain_info)[0], axis=1)\n",
    "clinvar_df.loc[:, 'size_t'] = clinvar_df.apply(lambda row: match(row, domain_info)[1], axis=1)\n",
    "clinvar_df.loc[:, 'path_na_t'] = clinvar_df.apply(lambda row: match(row, domain_info)[2], axis=1)\n",
    "clinvar_df.loc[:, 'in_none_pfam'] = clinvar_df.apply(lambda row: 1 if 'none' in row['pfam'] else 0, axis=1)\n",
    "# need a smarter match to domain here\n",
    "#m = pandas.merge(clinvar_df, ff, on='pfam', how='left')\n",
    "#m.head()"
   ]
  },
  {
   "cell_type": "code",
   "execution_count": 6,
   "metadata": {
    "collapsed": false
   },
   "outputs": [
    {
     "name": "stdout",
     "output_type": "stream",
     "text": [
      "27\n",
      "22\n",
      "5\n"
     ]
    }
   ],
   "source": [
    "print(len(clinvar_df))\n",
    "print(len(clinvar_df[clinvar_df.y==1]))\n",
    "print(len(clinvar_df[clinvar_df.y==0]))"
   ]
  },
  {
   "cell_type": "code",
   "execution_count": 7,
   "metadata": {
    "collapsed": false
   },
   "outputs": [],
   "source": [
    "def eval_pred(row):\n",
    "    if (row['tree_pred']>.9 and row['y']==1) or (row['tree_pred']<.1 and row['y']==0):\n",
    "        return 'right'\n",
    "    if (row['tree_pred']>.9 and row['y']==0) or (row['tree_pred']<.1 and row['y']==1):\n",
    "        return 'wrong'\n",
    "    return 'vus'\n",
    "\n",
    "# train new tree and apply to clinvar\n",
    "tree_clf = linear_model.LogisticRegression(penalty='l1', fit_intercept=True)\n",
    "poly = PolynomialFeatures(degree=4, interaction_only=False, include_bias=False)\n",
    "\n",
    "all_preds = []\n",
    "all_truth = []\n",
    "cols = ['mpc', 'size_t', 'path_na_t', 'path_frac_t', 'in_none_pfam']\n",
    "X, y = poly.fit_transform(df_x[cols]), df_x['y']\n",
    "tree_clf.fit(X, y)\n",
    "\n",
    "X_clin, y_clin = poly.fit_transform(clinvar_df[cols]), clinvar_df['y']\n",
    "preds = [ x[1] for x in tree_clf.predict_proba(X_clin) ]\n",
    "clinvar_df['tree_pred'] = preds\n",
    "clinvar_df.loc[:, 'tree_correct'] = clinvar_df.apply(eval_pred, axis=1)\n",
    "fpr_tree, tpr_tree, _ = metrics.roc_curve(y_clin, preds, pos_label=1)\n",
    "tree_auc = metrics.auc(fpr_tree, tpr_tree)"
   ]
  },
  {
   "cell_type": "code",
   "execution_count": 9,
   "metadata": {
    "collapsed": false
   },
   "outputs": [
    {
     "data": {
      "image/png": "[encoded data removed]",
      "text/plain": [
       "<matplotlib.figure.Figure at 0x7f69719ede80>"
      ]
     },
     "metadata": {},
     "output_type": "display_data"
    }
   ],
   "source": [
    "g_df = (clinvar_df[['gene', 'chrom', 'pos', 'ref', 'alt', 'tree_correct']]\n",
    "        .groupby(['gene','tree_correct'])\n",
    "        .size().reset_index().rename(columns={0:'size'}))\n",
    "dd = g_df.groupby('gene').sum().reset_index()\n",
    "use_genes = set(dd[dd['size']>0]['gene'].values)\n",
    "g_df.loc[:, 'keep'] = g_df.apply(lambda row: row['gene'] in use_genes, axis=1)\n",
    "ss = sns.factorplot(x='gene', hue='tree_correct', y='size', data=g_df[g_df['keep']],\n",
    "                    kind='bar', palette='muted', size=5, aspect=4)\n",
    "ss.savefig(\"../docs/plots/lab2_gene_eval.png\")"
   ]
  },
  {
   "cell_type": "code",
   "execution_count": 10,
   "metadata": {
    "collapsed": true
   },
   "outputs": [],
   "source": [
    "# train new tree and apply to clinvar: just pathogenic frac\n",
    "tree_clf = linear_model.LogisticRegression(penalty='l1', fit_intercept=True)\n",
    "poly = PolynomialFeatures(degree=2, interaction_only=False, include_bias=False)\n",
    "\n",
    "all_preds = []\n",
    "all_truth = []\n",
    "cols = ['size_t', 'path_na_t', 'path_frac_t', 'in_none_pfam']\n",
    "X, y = df_x[cols], df_x['y']\n",
    "tree_clf.fit(X, y)\n",
    "\n",
    "X_clin, y_clin = clinvar_df[cols], clinvar_df['y']\n",
    "preds = [ x[1] for x in tree_clf.predict_proba(X_clin) ]\n",
    "fpr_tree_nm, tpr_tree_nm, _ = metrics.roc_curve(y_clin, preds, pos_label=1)\n",
    "tree_auc_nm = metrics.auc(fpr_tree_nm, tpr_tree_nm)"
   ]
  },
  {
   "cell_type": "code",
   "execution_count": 11,
   "metadata": {
    "collapsed": true
   },
   "outputs": [],
   "source": [
    "scores = clinvar_df['mpc'].values\n",
    "truth = clinvar_df['y'].values\n",
    "fpr_mpc, tpr_mpc, _ = metrics.roc_curve(truth, scores, pos_label=1)\n",
    "mpc_auc = metrics.auc(fpr_mpc, tpr_mpc)"
   ]
  },
  {
   "cell_type": "code",
   "execution_count": 12,
   "metadata": {
    "collapsed": false
   },
   "outputs": [
    {
     "name": "stdout",
     "output_type": "stream",
     "text": [
      "mpc auc 0.963636363636\n",
      "tree auc 0.818181818182\n",
      "tree-no-mpc auc 0.640909090909\n"
     ]
    },
    {
     "data": {
      "text/plain": [
       "<matplotlib.text.Text at 0x7f696e2f0a20>"
      ]
     },
     "execution_count": 12,
     "metadata": {},
     "output_type": "execute_result"
    },
    {
     "data": {
      "image/png": "[encoded data removed]",
      "text/plain": [
       "<matplotlib.figure.Figure at 0x7f6972457f60>"
      ]
     },
     "metadata": {},
     "output_type": "display_data"
    }
   ],
   "source": [
    "#X_clin, y_clin = clinvar_df[cols], clinvar_df['y']\n",
    "#preds = tree_clf.predict_proba(X_clin)\n",
    "#fpr_tree, tpr_tree, _ = metrics.roc_curve(y_clin, [x[1] for x in preds], pos_label=1)\n",
    "#tree_auc = metrics.auc(fpr_tree, tpr_tree)\n",
    "#mpc_auc = metrics.auc(fpr_mpc, tpr_mpc)\n",
    "print('mpc auc', mpc_auc)\n",
    "print('tree auc', tree_auc)\n",
    "print('tree-no-mpc auc', tree_auc_nm)\n",
    "plt.plot(fpr_tree, tpr_tree, label='tree', color='green')\n",
    "plt.plot(fpr_tree_nm, tpr_tree_nm, label='tree-no-mpc', color='orange')\n",
    "plt.plot(fpr_mpc, tpr_mpc, label='mpc', color='black')\n",
    "plt.legend(loc=4)\n",
    "plt.title('Lab 2 missense variant ROC curve')\n",
    "#plt.savefig('../docs/plots/missense_clinvar_roc_feature_union.png')"
   ]
  },
  {
   "cell_type": "code",
   "execution_count": null,
   "metadata": {
    "collapsed": true
   },
   "outputs": [],
   "source": []
  }
 ],
 "metadata": {
  "kernelspec": {
   "display_name": "Python 3",
   "language": "python",
   "name": "python3"
  },
  "language_info": {
   "codemirror_mode": {
    "name": "ipython",
    "version": 3
   },
   "file_extension": ".py",
   "mimetype": "text/x-python",
   "name": "python",
   "nbconvert_exporter": "python",
   "pygments_lexer": "ipython3",
   "version": "3.4.5"
  }
 },
 "nbformat": 4,
 "nbformat_minor": 2
}
