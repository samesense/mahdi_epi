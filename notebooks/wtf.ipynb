{
 "cells": [
  {
   "cell_type": "code",
   "execution_count": 1,
   "metadata": {
    "collapsed": true
   },
   "outputs": [],
   "source": [
    "import pandas"
   ]
  },
  {
   "cell_type": "code",
   "execution_count": 2,
   "metadata": {
    "collapsed": false
   },
   "outputs": [
    {
     "data": {
      "text/html": [
       "<div>\n",
       "<table border=\"1\" class=\"dataframe\">\n",
       "  <thead>\n",
       "    <tr style=\"text-align: right;\">\n",
       "      <th></th>\n",
       "      <th>chrom</th>\n",
       "      <th>pos</th>\n",
       "      <th>ref</th>\n",
       "      <th>alt</th>\n",
       "      <th>input_var</th>\n",
       "      <th>clin_class</th>\n",
       "      <th>pos_fam</th>\n",
       "      <th>neg_fam</th>\n",
       "      <th>hom_fam</th>\n",
       "    </tr>\n",
       "  </thead>\n",
       "  <tbody>\n",
       "    <tr>\n",
       "      <th>0</th>\n",
       "      <td>1</td>\n",
       "      <td>1956399</td>\n",
       "      <td>C</td>\n",
       "      <td>T</td>\n",
       "      <td>NM_000815.4:c.87C&gt;T</td>\n",
       "      <td>benign</td>\n",
       "      <td>4</td>\n",
       "      <td>785</td>\n",
       "      <td>0</td>\n",
       "    </tr>\n",
       "    <tr>\n",
       "      <th>1</th>\n",
       "      <td>1</td>\n",
       "      <td>1957037</td>\n",
       "      <td>T</td>\n",
       "      <td>C</td>\n",
       "      <td>NM_000815.4:c.330T&gt;C</td>\n",
       "      <td>benign</td>\n",
       "      <td>662</td>\n",
       "      <td>127</td>\n",
       "      <td>333</td>\n",
       "    </tr>\n",
       "    <tr>\n",
       "      <th>2</th>\n",
       "      <td>1</td>\n",
       "      <td>1957112</td>\n",
       "      <td>C</td>\n",
       "      <td>T</td>\n",
       "      <td>NM_000815.4:c.405C&gt;T</td>\n",
       "      <td>benign</td>\n",
       "      <td>9</td>\n",
       "      <td>780</td>\n",
       "      <td>0</td>\n",
       "    </tr>\n",
       "    <tr>\n",
       "      <th>3</th>\n",
       "      <td>1</td>\n",
       "      <td>1957121</td>\n",
       "      <td>G</td>\n",
       "      <td>A</td>\n",
       "      <td>NM_000815.4:c.414G&gt;A</td>\n",
       "      <td>benign</td>\n",
       "      <td>4</td>\n",
       "      <td>785</td>\n",
       "      <td>0</td>\n",
       "    </tr>\n",
       "    <tr>\n",
       "      <th>4</th>\n",
       "      <td>1</td>\n",
       "      <td>1957183</td>\n",
       "      <td>C</td>\n",
       "      <td>T</td>\n",
       "      <td>NM_000815.4:c.470+6C&gt;T</td>\n",
       "      <td>likely_benign</td>\n",
       "      <td>4</td>\n",
       "      <td>785</td>\n",
       "      <td>0</td>\n",
       "    </tr>\n",
       "  </tbody>\n",
       "</table>\n",
       "</div>"
      ],
      "text/plain": [
       "   chrom      pos ref alt               input_var     clin_class  pos_fam  \\\n",
       "0      1  1956399   C   T     NM_000815.4:c.87C>T         benign        4   \n",
       "1      1  1957037   T   C    NM_000815.4:c.330T>C         benign      662   \n",
       "2      1  1957112   C   T    NM_000815.4:c.405C>T         benign        9   \n",
       "3      1  1957121   G   A    NM_000815.4:c.414G>A         benign        4   \n",
       "4      1  1957183   C   T  NM_000815.4:c.470+6C>T  likely_benign        4   \n",
       "\n",
       "   neg_fam  hom_fam  \n",
       "0      785        0  \n",
       "1      127      333  \n",
       "2      780        0  \n",
       "3      785        0  \n",
       "4      785        0  "
      ]
     },
     "execution_count": 2,
     "metadata": {},
     "output_type": "execute_result"
    }
   ],
   "source": [
    "afile = '../data/interim/panel_two.tab'\n",
    "df = pandas.read_csv(afile, sep='\\t')\n",
    "df.head()"
   ]
  },
  {
   "cell_type": "code",
   "execution_count": null,
   "metadata": {
    "collapsed": true
   },
   "outputs": [],
   "source": []
  }
 ],
 "metadata": {
  "kernelspec": {
   "display_name": "Python 3",
   "language": "python",
   "name": "python3"
  },
  "language_info": {
   "codemirror_mode": {
    "name": "ipython",
    "version": 3
   },
   "file_extension": ".py",
   "mimetype": "text/x-python",
   "name": "python",
   "nbconvert_exporter": "python",
   "pygments_lexer": "ipython3",
   "version": "3.4.5"
  }
 },
 "nbformat": 4,
 "nbformat_minor": 2
}
