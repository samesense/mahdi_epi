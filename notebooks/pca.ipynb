{
 "cells": [
  {
   "cell_type": "markdown",
   "metadata": {},
   "source": [
    "### panel vs clinvar pca by gene"
   ]
  },
  {
   "cell_type": "code",
   "execution_count": 1,
   "metadata": {
    "collapsed": false
   },
   "outputs": [
    {
     "name": "stderr",
     "output_type": "stream",
     "text": [
      "/opt/conda/lib/python3.4/site-packages/matplotlib/font_manager.py:273: UserWarning: Matplotlib is building the font cache using fc-list. This may take a moment.\n",
      "  warnings.warn('Matplotlib is building the font cache using fc-list. This may take a moment.')\n",
      "/opt/conda/lib/python3.4/site-packages/matplotlib/font_manager.py:273: UserWarning: Matplotlib is building the font cache using fc-list. This may take a moment.\n",
      "  warnings.warn('Matplotlib is building the font cache using fc-list. This may take a moment.')\n"
     ]
    }
   ],
   "source": [
    "import pandas as pd\n",
    "from sklearn.decomposition import PCA\n",
    "from sklearn.preprocessing import StandardScaler\n",
    "from matplotlib import pyplot as plt\n",
    "%matplotlib inline"
   ]
  },
  {
   "cell_type": "code",
   "execution_count": 79,
   "metadata": {
    "collapsed": false
   },
   "outputs": [],
   "source": [
    "panel_file = '../data/interim/epi/EPIv6.eff.dbnsfp.anno.hHack.dat.limit.xls'\n",
    "clinvar_file = '../data/interim/clinvar_single/clinvar_single.limit3.dat'\n",
    "panel = pd.read_csv(panel_file, sep='\\t')\n",
    "panel.loc[:, 'y'] = panel.apply(lambda row: 1 if row['class']=='P' else 0, axis=1)\n",
    "panel.loc[:, 'is_domain'] = panel.apply(lambda row: 0 if 'none' in row else 1, axis=1)\n",
    "panel.loc[:, 'key'] = panel.apply(lambda row: ':'.join([str(row[x]) for x in ('chrom', 'pos', 'ref', 'alt')]), axis=1)\n",
    "panel_keys = set(panel['key'])\n",
    "panel_genes = set(panel['gene'])\n",
    "clinvar = pd.read_csv(clinvar_file, sep='\\t').rename(columns={'clin_class':'y'})\n",
    "clinvar.loc[:, 'is_domain'] = clinvar.apply(lambda row: 0 if 'none' in row else 1, axis=1)\n",
    "clinvar.loc[:, 'key'] = clinvar.apply(lambda row: ':'.join([str(row[x]) for x in ('chrom', 'pos', 'ref', 'alt')]), axis=1)\n",
    "clinvar_keys = set(clinvar['key'])\n",
    "\n",
    "panel.loc[:, 'match_clinvar'] = panel.apply(lambda row: row['key'] in clinvar_keys, axis=1)\n",
    "clinvar.loc[:, 'match_panel'] = clinvar.apply(lambda row: row['key'] in panel_keys, axis=1)\n",
    "clinvar.loc[:, 'panel_gene'] = clinvar.apply(lambda row: row['gene'] in panel_genes, axis=1)\n",
    "\n",
    "panel.loc[:, 'source'] = panel.apply(lambda row: 'both' if row['match_clinvar'] else 'panel', axis=1)\n",
    "clinvar.loc[:, 'source'] = clinvar.apply(lambda row: 'both' if row['match_panel'] else 'clinvar', axis=1)"
   ]
  },
  {
   "cell_type": "code",
   "execution_count": 69,
   "metadata": {
    "collapsed": false
   },
   "outputs": [
    {
     "data": {
      "text/html": [
       "<div>\n",
       "<table border=\"1\" class=\"dataframe\">\n",
       "  <thead>\n",
       "    <tr style=\"text-align: right;\">\n",
       "      <th></th>\n",
       "      <th>gene</th>\n",
       "      <th>size</th>\n",
       "    </tr>\n",
       "  </thead>\n",
       "  <tbody>\n",
       "    <tr>\n",
       "      <th>48</th>\n",
       "      <td>TSC2</td>\n",
       "      <td>76</td>\n",
       "    </tr>\n",
       "    <tr>\n",
       "      <th>42</th>\n",
       "      <td>SPTAN1</td>\n",
       "      <td>45</td>\n",
       "    </tr>\n",
       "    <tr>\n",
       "      <th>47</th>\n",
       "      <td>TSC1</td>\n",
       "      <td>33</td>\n",
       "    </tr>\n",
       "    <tr>\n",
       "      <th>50</th>\n",
       "      <td>ZEB2</td>\n",
       "      <td>20</td>\n",
       "    </tr>\n",
       "    <tr>\n",
       "      <th>33</th>\n",
       "      <td>POLG</td>\n",
       "      <td>15</td>\n",
       "    </tr>\n",
       "    <tr>\n",
       "      <th>4</th>\n",
       "      <td>CHRNA4</td>\n",
       "      <td>12</td>\n",
       "    </tr>\n",
       "    <tr>\n",
       "      <th>10</th>\n",
       "      <td>CNTNAP2</td>\n",
       "      <td>12</td>\n",
       "    </tr>\n",
       "    <tr>\n",
       "      <th>24</th>\n",
       "      <td>KCNQ2</td>\n",
       "      <td>11</td>\n",
       "    </tr>\n",
       "    <tr>\n",
       "      <th>7</th>\n",
       "      <td>CLN5</td>\n",
       "      <td>9</td>\n",
       "    </tr>\n",
       "    <tr>\n",
       "      <th>3</th>\n",
       "      <td>CHRNA2</td>\n",
       "      <td>8</td>\n",
       "    </tr>\n",
       "    <tr>\n",
       "      <th>46</th>\n",
       "      <td>TPP1</td>\n",
       "      <td>8</td>\n",
       "    </tr>\n",
       "    <tr>\n",
       "      <th>5</th>\n",
       "      <td>CHRNB2</td>\n",
       "      <td>7</td>\n",
       "    </tr>\n",
       "    <tr>\n",
       "      <th>31</th>\n",
       "      <td>NRXN1</td>\n",
       "      <td>7</td>\n",
       "    </tr>\n",
       "    <tr>\n",
       "      <th>44</th>\n",
       "      <td>TBC1D24</td>\n",
       "      <td>6</td>\n",
       "    </tr>\n",
       "    <tr>\n",
       "      <th>32</th>\n",
       "      <td>PNKP</td>\n",
       "      <td>6</td>\n",
       "    </tr>\n",
       "    <tr>\n",
       "      <th>25</th>\n",
       "      <td>KCNQ3</td>\n",
       "      <td>6</td>\n",
       "    </tr>\n",
       "    <tr>\n",
       "      <th>16</th>\n",
       "      <td>FOXG1</td>\n",
       "      <td>5</td>\n",
       "    </tr>\n",
       "    <tr>\n",
       "      <th>41</th>\n",
       "      <td>SLC25A22</td>\n",
       "      <td>5</td>\n",
       "    </tr>\n",
       "    <tr>\n",
       "      <th>13</th>\n",
       "      <td>EFHC1</td>\n",
       "      <td>5</td>\n",
       "    </tr>\n",
       "    <tr>\n",
       "      <th>6</th>\n",
       "      <td>CLN3</td>\n",
       "      <td>5</td>\n",
       "    </tr>\n",
       "    <tr>\n",
       "      <th>39</th>\n",
       "      <td>SCN1B</td>\n",
       "      <td>5</td>\n",
       "    </tr>\n",
       "    <tr>\n",
       "      <th>40</th>\n",
       "      <td>SCN2A</td>\n",
       "      <td>5</td>\n",
       "    </tr>\n",
       "    <tr>\n",
       "      <th>43</th>\n",
       "      <td>STXBP1</td>\n",
       "      <td>5</td>\n",
       "    </tr>\n",
       "    <tr>\n",
       "      <th>35</th>\n",
       "      <td>PRICKLE1</td>\n",
       "      <td>5</td>\n",
       "    </tr>\n",
       "    <tr>\n",
       "      <th>38</th>\n",
       "      <td>SCN1A</td>\n",
       "      <td>4</td>\n",
       "    </tr>\n",
       "    <tr>\n",
       "      <th>30</th>\n",
       "      <td>NHLRC1</td>\n",
       "      <td>4</td>\n",
       "    </tr>\n",
       "    <tr>\n",
       "      <th>1</th>\n",
       "      <td>ALDH7A1</td>\n",
       "      <td>4</td>\n",
       "    </tr>\n",
       "    <tr>\n",
       "      <th>23</th>\n",
       "      <td>KCNJ10</td>\n",
       "      <td>4</td>\n",
       "    </tr>\n",
       "    <tr>\n",
       "      <th>45</th>\n",
       "      <td>TCF4</td>\n",
       "      <td>4</td>\n",
       "    </tr>\n",
       "    <tr>\n",
       "      <th>8</th>\n",
       "      <td>CLN6</td>\n",
       "      <td>4</td>\n",
       "    </tr>\n",
       "    <tr>\n",
       "      <th>19</th>\n",
       "      <td>GATM</td>\n",
       "      <td>4</td>\n",
       "    </tr>\n",
       "    <tr>\n",
       "      <th>36</th>\n",
       "      <td>PRRT2</td>\n",
       "      <td>4</td>\n",
       "    </tr>\n",
       "    <tr>\n",
       "      <th>11</th>\n",
       "      <td>CSTB</td>\n",
       "      <td>3</td>\n",
       "    </tr>\n",
       "    <tr>\n",
       "      <th>2</th>\n",
       "      <td>ATP1A2</td>\n",
       "      <td>3</td>\n",
       "    </tr>\n",
       "    <tr>\n",
       "      <th>37</th>\n",
       "      <td>SCARB2</td>\n",
       "      <td>3</td>\n",
       "    </tr>\n",
       "    <tr>\n",
       "      <th>12</th>\n",
       "      <td>CTSD</td>\n",
       "      <td>3</td>\n",
       "    </tr>\n",
       "    <tr>\n",
       "      <th>14</th>\n",
       "      <td>EPM2A</td>\n",
       "      <td>3</td>\n",
       "    </tr>\n",
       "    <tr>\n",
       "      <th>21</th>\n",
       "      <td>GRIN2A</td>\n",
       "      <td>3</td>\n",
       "    </tr>\n",
       "    <tr>\n",
       "      <th>18</th>\n",
       "      <td>GAMT</td>\n",
       "      <td>3</td>\n",
       "    </tr>\n",
       "    <tr>\n",
       "      <th>29</th>\n",
       "      <td>MFSD8</td>\n",
       "      <td>2</td>\n",
       "    </tr>\n",
       "    <tr>\n",
       "      <th>27</th>\n",
       "      <td>MBD5</td>\n",
       "      <td>2</td>\n",
       "    </tr>\n",
       "    <tr>\n",
       "      <th>26</th>\n",
       "      <td>LIAS</td>\n",
       "      <td>2</td>\n",
       "    </tr>\n",
       "    <tr>\n",
       "      <th>15</th>\n",
       "      <td>FOLR1</td>\n",
       "      <td>2</td>\n",
       "    </tr>\n",
       "    <tr>\n",
       "      <th>9</th>\n",
       "      <td>CLN8</td>\n",
       "      <td>2</td>\n",
       "    </tr>\n",
       "    <tr>\n",
       "      <th>22</th>\n",
       "      <td>GRIN2B</td>\n",
       "      <td>2</td>\n",
       "    </tr>\n",
       "    <tr>\n",
       "      <th>34</th>\n",
       "      <td>PPT1</td>\n",
       "      <td>1</td>\n",
       "    </tr>\n",
       "    <tr>\n",
       "      <th>17</th>\n",
       "      <td>GABRG2</td>\n",
       "      <td>1</td>\n",
       "    </tr>\n",
       "    <tr>\n",
       "      <th>28</th>\n",
       "      <td>MEF2C</td>\n",
       "      <td>1</td>\n",
       "    </tr>\n",
       "    <tr>\n",
       "      <th>20</th>\n",
       "      <td>GOSR2</td>\n",
       "      <td>1</td>\n",
       "    </tr>\n",
       "    <tr>\n",
       "      <th>49</th>\n",
       "      <td>UBE3A</td>\n",
       "      <td>1</td>\n",
       "    </tr>\n",
       "    <tr>\n",
       "      <th>0</th>\n",
       "      <td>ADSL</td>\n",
       "      <td>1</td>\n",
       "    </tr>\n",
       "  </tbody>\n",
       "</table>\n",
       "</div>"
      ],
      "text/plain": [
       "        gene  size\n",
       "48      TSC2    76\n",
       "42    SPTAN1    45\n",
       "47      TSC1    33\n",
       "50      ZEB2    20\n",
       "33      POLG    15\n",
       "4     CHRNA4    12\n",
       "10   CNTNAP2    12\n",
       "24     KCNQ2    11\n",
       "7       CLN5     9\n",
       "3     CHRNA2     8\n",
       "46      TPP1     8\n",
       "5     CHRNB2     7\n",
       "31     NRXN1     7\n",
       "44   TBC1D24     6\n",
       "32      PNKP     6\n",
       "25     KCNQ3     6\n",
       "16     FOXG1     5\n",
       "41  SLC25A22     5\n",
       "13     EFHC1     5\n",
       "6       CLN3     5\n",
       "39     SCN1B     5\n",
       "40     SCN2A     5\n",
       "43    STXBP1     5\n",
       "35  PRICKLE1     5\n",
       "38     SCN1A     4\n",
       "30    NHLRC1     4\n",
       "1    ALDH7A1     4\n",
       "23    KCNJ10     4\n",
       "45      TCF4     4\n",
       "8       CLN6     4\n",
       "19      GATM     4\n",
       "36     PRRT2     4\n",
       "11      CSTB     3\n",
       "2     ATP1A2     3\n",
       "37    SCARB2     3\n",
       "12      CTSD     3\n",
       "14     EPM2A     3\n",
       "21    GRIN2A     3\n",
       "18      GAMT     3\n",
       "29     MFSD8     2\n",
       "27      MBD5     2\n",
       "26      LIAS     2\n",
       "15     FOLR1     2\n",
       "9       CLN8     2\n",
       "22    GRIN2B     2\n",
       "34      PPT1     1\n",
       "17    GABRG2     1\n",
       "28     MEF2C     1\n",
       "20     GOSR2     1\n",
       "49     UBE3A     1\n",
       "0       ADSL     1"
      ]
     },
     "execution_count": 69,
     "metadata": {},
     "output_type": "execute_result"
    }
   ],
   "source": [
    "panel[panel.y==0].groupby('gene').size().reset_index().rename(columns={0:'size'}).sort_values(by='size', ascending=False)"
   ]
  },
  {
   "cell_type": "code",
   "execution_count": 77,
   "metadata": {
    "collapsed": false
   },
   "outputs": [],
   "source": [
    "gene = 'TSC2'\n",
    "panel_cols = ['ccr', 'revel', 'mpc', 'is_domain', 'y', 'source', 'gene']\n",
    "clinvar_cols = ['ccr', 'revel', 'mpc', 'is_domain', 'y', 'source', 'gene']\n",
    "df = pd.concat([panel[panel.gene==gene][panel_cols],\n",
    "                clinvar[~clinvar.match_panel & (clinvar.gene==gene)][clinvar_cols]])"
   ]
  },
  {
   "cell_type": "code",
   "execution_count": 80,
   "metadata": {
    "collapsed": false
   },
   "outputs": [
    {
     "data": {
      "text/html": [
       "<div>\n",
       "<table border=\"1\" class=\"dataframe\">\n",
       "  <thead>\n",
       "    <tr style=\"text-align: right;\">\n",
       "      <th></th>\n",
       "      <th>y</th>\n",
       "      <th>size</th>\n",
       "    </tr>\n",
       "  </thead>\n",
       "  <tbody>\n",
       "    <tr>\n",
       "      <th>1</th>\n",
       "      <td>1</td>\n",
       "      <td>1018</td>\n",
       "    </tr>\n",
       "    <tr>\n",
       "      <th>0</th>\n",
       "      <td>0</td>\n",
       "      <td>716</td>\n",
       "    </tr>\n",
       "  </tbody>\n",
       "</table>\n",
       "</div>"
      ],
      "text/plain": [
       "   y  size\n",
       "1  1  1018\n",
       "0  0   716"
      ]
     },
     "execution_count": 80,
     "metadata": {},
     "output_type": "execute_result"
    }
   ],
   "source": [
    "df = pd.concat([panel[panel_cols],\n",
    "                clinvar[clinvar.panel_gene][clinvar_cols]])\n",
    "df.groupby('y').size().reset_index().rename(columns={0:'size'}).sort_values(by='size', ascending=False)"
   ]
  },
  {
   "cell_type": "code",
   "execution_count": 81,
   "metadata": {
    "collapsed": false
   },
   "outputs": [
    {
     "data": {
      "text/plain": [
       "source   y\n",
       "both     0    442\n",
       "         1    544\n",
       "clinvar  0    103\n",
       "         1    257\n",
       "panel    0    171\n",
       "         1    217\n",
       "dtype: int64"
      ]
     },
     "execution_count": 81,
     "metadata": {},
     "output_type": "execute_result"
    }
   ],
   "source": [
    "df.groupby(['source', 'y']).size()"
   ]
  },
  {
   "cell_type": "code",
   "execution_count": 82,
   "metadata": {
    "collapsed": false
   },
   "outputs": [
    {
     "name": "stdout",
     "output_type": "stream",
     "text": [
      "[  9.99602870e-01   2.97068764e-04]\n",
      "1734\n"
     ]
    },
    {
     "data": {
      "image/png": "[encoded data removed]",
      "text/plain": [
       "<matplotlib.figure.Figure at 0x7fd9c7f89d68>"
      ]
     },
     "metadata": {},
     "output_type": "display_data"
    }
   ],
   "source": [
    "X = df[ panel_cols[:-2] ].values\n",
    "X_std = StandardScaler().fit_transform(X)\n",
    "pca = PCA(n_components=2)\n",
    "p = pca.fit(X)\n",
    "print(p.explained_variance_ratio_)\n",
    "\n",
    "X_r = p.transform(X)\n",
    "#.transform(X_std)\n",
    "print(len(X_r))\n",
    "names = df['source']\n",
    "paths = df['y']\n",
    "\n",
    "colors = {'panel':'red',\n",
    "          'clinvar':'green',\n",
    "          'both':'blue'}\n",
    "path_color = {0:'blue', 1:'red'}\n",
    "plt.figure()\n",
    "for x_y, path, name in zip(X_r, paths, names):\n",
    "    if name =='both':\n",
    "        plt.scatter(x_y[0], x_y[1], alpha=.4, c=path_color[path], label=str(path))\n",
    "    #plt.annotate(name, xy=(x_y[0], x_y[1]), xytext=(0,0), textcoords='offset points')"
   ]
  },
  {
   "cell_type": "code",
   "execution_count": 83,
   "metadata": {
    "collapsed": false
   },
   "outputs": [
    {
     "data": {
      "image/png": "[encoded data removed]",
      "text/plain": [
       "<matplotlib.figure.Figure at 0x7fd9c43cb2e8>"
      ]
     },
     "metadata": {},
     "output_type": "display_data"
    }
   ],
   "source": [
    "plt.figure()\n",
    "for x_y, path, name in zip(X_r, paths, names):\n",
    "    if name =='panel':\n",
    "        plt.scatter(x_y[0], x_y[1], alpha=.4, c=path_color[path], label=str(path))"
   ]
  },
  {
   "cell_type": "code",
   "execution_count": 84,
   "metadata": {
    "collapsed": false
   },
   "outputs": [
    {
     "data": {
      "image/png": "[encoded data removed]",
      "text/plain": [
       "<matplotlib.figure.Figure at 0x7fd9c6612860>"
      ]
     },
     "metadata": {},
     "output_type": "display_data"
    }
   ],
   "source": [
    "plt.figure()\n",
    "for x_y, path, name in zip(X_r, paths, names):\n",
    "    if name =='clinvar':\n",
    "        plt.scatter(x_y[0], x_y[1], alpha=.4, c=path_color[path], label=str(path))"
   ]
  },
  {
   "cell_type": "code",
   "execution_count": null,
   "metadata": {
    "collapsed": true
   },
   "outputs": [],
   "source": []
  }
 ],
 "metadata": {
  "kernelspec": {
   "display_name": "Python 3",
   "language": "python",
   "name": "python3"
  },
  "language_info": {
   "codemirror_mode": {
    "name": "ipython",
    "version": 3
   },
   "file_extension": ".py",
   "mimetype": "text/x-python",
   "name": "python",
   "nbconvert_exporter": "python",
   "pygments_lexer": "ipython3",
   "version": "3.4.5"
  }
 },
 "nbformat": 4,
 "nbformat_minor": 2
}
