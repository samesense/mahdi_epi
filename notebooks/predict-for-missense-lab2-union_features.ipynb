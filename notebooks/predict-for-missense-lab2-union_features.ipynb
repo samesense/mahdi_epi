{
 "cells": [
  {
   "cell_type": "markdown",
   "metadata": {},
   "source": [
    "### lab 2 missense prediction w/ feature intersection\n",
    "* only missense clinvar\n",
    "* use positions w/ mpc **OR** pathogenic fraction"
   ]
  },
  {
   "cell_type": "code",
   "execution_count": 11,
   "metadata": {
    "collapsed": true
   },
   "outputs": [],
   "source": [
    "import pandas, numpy\n",
    "import pydot, pydotplus, graphviz\n",
    "import matplotlib.pyplot as plt\n",
    "import seaborn as sns\n",
    "from sklearn import linear_model, metrics, tree, svm\n",
    "from sklearn.neural_network import MLPClassifier\n",
    "from sklearn.preprocessing import PolynomialFeatures\n",
    "from sklearn.externals.six import StringIO\n",
    "from IPython.display import HTML\n",
    "%matplotlib inline"
   ]
  },
  {
   "cell_type": "code",
   "execution_count": 2,
   "metadata": {
    "collapsed": false
   },
   "outputs": [],
   "source": [
    "def calc_path_frac(rows):\n",
    "    pfam = list(rows['pfam'].values)[0]\n",
    "    pathogenic = len(rows[ (rows.clin_class=='PATHOGENIC') | (rows.clin_class=='LIKLEY_PATHOGENIC')])\n",
    "    benign = len(rows[ (rows.clin_class=='LIKELY_BENIGN') | (rows.clin_class=='BENIGN')])\n",
    "    frac = -1\n",
    "    if pathogenic+benign:\n",
    "        frac = pathogenic/(pathogenic+benign)\n",
    "    return pandas.Series([frac, len(rows)], index=['path_frac', 'size'])\n",
    "\n",
    "dat_file = '../data/interim/EPIv6.eff.dbnsfp.anno.hHack.dat.xls'\n",
    "df_pre = pandas.read_csv(dat_file, sep='\\t').fillna(0)\n",
    "df = (df_pre['pfam'].str.split(',', expand=True)\n",
    "     .stack()\n",
    "     .reset_index(level=0)\n",
    "     .set_index('level_0')\n",
    "     .rename(columns={0:'pfam'})\n",
    "     .join(df_pre.drop('pfam',1), how='left')\n",
    "     )\n",
    "dd = df.groupby('pfam').apply(calc_path_frac)\n",
    "ff = dd.reset_index()\n",
    "\n",
    "# mk domain features\n",
    "def match(row, domain_info):\n",
    "    ls = []\n",
    "    for pfam in row['pfam'].split(','):\n",
    "        if pfam in domain_info:\n",
    "            if domain_info[pfam][2] == 0:\n",
    "                ls.append(domain_info[pfam])\n",
    "    if len(ls) == 0:\n",
    "        for pfam in row['pfam'].split(','):\n",
    "            if pfam in domain_info:\n",
    "                return domain_info[pfam]\n",
    "        \n",
    "    if len(ls):\n",
    "        return ls[0]\n",
    "    else:\n",
    "        return (0, 0, 1)\n",
    "    \n",
    "ff.loc[:, 'path_na'] = ff.apply(lambda row: 1 if row['path_frac']==-1 else 0, axis=1)\n",
    "domain_info = {pfam:[path_frac, size, path_na]\n",
    "               for pfam, path_frac, size, path_na\n",
    "               in ff.values}\n",
    "\n",
    "df_pre.loc[:, 'path_frac_t'] = df_pre.apply(lambda row: match(row, domain_info)[0], axis=1)\n",
    "df_pre.loc[:, 'size_t'] = df_pre.apply(lambda row: match(row, domain_info)[1], axis=1)\n",
    "df_pre.loc[:, 'path_na_t'] = df_pre.apply(lambda row: match(row, domain_info)[2], axis=1)\n",
    "df_pre.loc[:, 'in_none_pfam'] = df_pre.apply(lambda row: 1 if 'none' in df_pre['pfam'] else 0, axis=1)"
   ]
  },
  {
   "cell_type": "code",
   "execution_count": 6,
   "metadata": {
    "collapsed": false
   },
   "outputs": [
    {
     "name": "stderr",
     "output_type": "stream",
     "text": [
      "/opt/conda/lib/python3.4/site-packages/pandas/core/indexing.py:297: SettingWithCopyWarning: \n",
      "A value is trying to be set on a copy of a slice from a DataFrame.\n",
      "Try using .loc[row_indexer,col_indexer] = value instead\n",
      "\n",
      "See the caveats in the documentation: http://pandas.pydata.org/pandas-docs/stable/indexing.html#indexing-view-versus-copy\n",
      "  self.obj[key] = _infer_fill_value(value)\n",
      "/opt/conda/lib/python3.4/site-packages/pandas/core/indexing.py:477: SettingWithCopyWarning: \n",
      "A value is trying to be set on a copy of a slice from a DataFrame.\n",
      "Try using .loc[row_indexer,col_indexer] = value instead\n",
      "\n",
      "See the caveats in the documentation: http://pandas.pydata.org/pandas-docs/stable/indexing.html#indexing-view-versus-copy\n",
      "  self.obj[item] = s\n"
     ]
    }
   ],
   "source": [
    "# this is for training\n",
    "# use not just missense\n",
    "# I do not need to require an mpc score here anymore\n",
    "df_x_pre = df_pre[ (df_pre.clin_class != 'VUS') & \n",
    "                   (df_pre.mpc>0)]\n",
    "df_s = df_x_pre.groupby('pfam').size().reset_index()\n",
    "multi_pfam = set( df_s[df_s[0]>1]['pfam'].values )\n",
    "df_x_pre.loc[:, 'multi_pfam'] = df_x_pre.apply(lambda row: row['pfam'] in multi_pfam, axis=1)\n",
    "df_x = df_x_pre[df_x_pre.multi_pfam]\n",
    "df_x.loc[:, 'y'] = df_x.apply(lambda row: 1 if row['clin_class'] in ('PATHOGENIC', 'LIKLEY_PATHOGENIC')\n",
    "                            else 0, axis=1)\n",
    "df_x.head()\n",
    "genes = set(df_x['gene'].values)"
   ]
  },
  {
   "cell_type": "code",
   "execution_count": 17,
   "metadata": {
    "collapsed": false
   },
   "outputs": [
    {
     "name": "stderr",
     "output_type": "stream",
     "text": [
      "/opt/conda/lib/python3.4/site-packages/pandas/core/indexing.py:297: SettingWithCopyWarning: \n",
      "A value is trying to be set on a copy of a slice from a DataFrame.\n",
      "Try using .loc[row_indexer,col_indexer] = value instead\n",
      "\n",
      "See the caveats in the documentation: http://pandas.pydata.org/pandas-docs/stable/indexing.html#indexing-view-versus-copy\n",
      "  self.obj[key] = _infer_fill_value(value)\n",
      "/opt/conda/lib/python3.4/site-packages/pandas/core/indexing.py:477: SettingWithCopyWarning: \n",
      "A value is trying to be set on a copy of a slice from a DataFrame.\n",
      "Try using .loc[row_indexer,col_indexer] = value instead\n",
      "\n",
      "See the caveats in the documentation: http://pandas.pydata.org/pandas-docs/stable/indexing.html#indexing-view-versus-copy\n",
      "  self.obj[item] = s\n"
     ]
    }
   ],
   "source": [
    "clin_file = '../data/interim/panel_two.eff.dbnsfp.anno.hHack.dat.xls'\n",
    "clinvar_df_pre_pre = pandas.read_csv(clin_file, sep='\\t').fillna(0)\n",
    "crit = clinvar_df_pre_pre.apply(lambda row: row['gene'] in genes, axis=1)\n",
    "clinvar_df_pre = clinvar_df_pre_pre[crit]\n",
    "\n",
    "def calc_final_sig(row):\n",
    "    if row['clin_class'] in ('pathogenic', 'pathogenic_recessive', 'pathogenic_dominant', 'likely_pathogenic'):\n",
    "        return 1\n",
    "    if row['clin_class'] in ('benign', 'likely_benign'):\n",
    "        return 0\n",
    "    return -1\n",
    "\n",
    "clinvar_df_pre.loc[:, \"y\"] = clinvar_df_pre.apply(calc_final_sig, axis=1)\n",
    "clinvar_df = clinvar_df_pre[(clinvar_df_pre.eff=='missense_variant') \n",
    "                            & (clinvar_df_pre.y!=-1) \n",
    "                            & (clinvar_df_pre.mpc>0)\n",
    "                            & (clinvar_df_pre.pfam != 'fuck')].drop_duplicates()\n",
    "clinvar_df.loc[:, 'path_frac_t'] = clinvar_df.apply(lambda row: match(row, domain_info)[0], axis=1)\n",
    "clinvar_df.loc[:, 'size_t'] = clinvar_df.apply(lambda row: match(row, domain_info)[1], axis=1)\n",
    "clinvar_df.loc[:, 'path_na_t'] = clinvar_df.apply(lambda row: match(row, domain_info)[2], axis=1)\n",
    "clinvar_df.loc[:, 'in_none_pfam'] = clinvar_df.apply(lambda row: 1 if 'none' in row['pfam'] else 0, axis=1)\n",
    "# need a smarter match to domain here\n",
    "#m = pandas.merge(clinvar_df, ff, on='pfam', how='left')\n",
    "#m.head()"
   ]
  },
  {
   "cell_type": "code",
   "execution_count": 18,
   "metadata": {
    "collapsed": false
   },
   "outputs": [
    {
     "name": "stdout",
     "output_type": "stream",
     "text": [
      "102\n",
      "37\n",
      "65\n"
     ]
    }
   ],
   "source": [
    "print(len(clinvar_df))\n",
    "print(len(clinvar_df[clinvar_df.y==1]))\n",
    "print(len(clinvar_df[clinvar_df.y==0]))"
   ]
  },
  {
   "cell_type": "code",
   "execution_count": 9,
   "metadata": {
    "collapsed": false
   },
   "outputs": [
    {
     "data": {
      "text/html": [
       "<div>\n",
       "<table border=\"1\" class=\"dataframe\">\n",
       "  <thead>\n",
       "    <tr style=\"text-align: right;\">\n",
       "      <th></th>\n",
       "      <th>chrom</th>\n",
       "      <th>pos</th>\n",
       "      <th>ref</th>\n",
       "      <th>alt</th>\n",
       "      <th>clin_class</th>\n",
       "      <th>pfam</th>\n",
       "      <th>af_1kg_all</th>\n",
       "      <th>eff</th>\n",
       "      <th>pos_fam</th>\n",
       "      <th>neg_fam</th>\n",
       "      <th>...</th>\n",
       "      <th>exac_cov_frac</th>\n",
       "      <th>kaviar_af</th>\n",
       "      <th>c.</th>\n",
       "      <th>Protein_Change</th>\n",
       "      <th>Hugo_Symbol</th>\n",
       "      <th>y</th>\n",
       "      <th>path_frac_t</th>\n",
       "      <th>size_t</th>\n",
       "      <th>path_na_t</th>\n",
       "      <th>in_none_pfam</th>\n",
       "    </tr>\n",
       "  </thead>\n",
       "  <tbody>\n",
       "    <tr>\n",
       "      <th>129</th>\n",
       "      <td>1</td>\n",
       "      <td>154541950</td>\n",
       "      <td>C</td>\n",
       "      <td>T</td>\n",
       "      <td>likely_benign</td>\n",
       "      <td>none25733</td>\n",
       "      <td>0.000200</td>\n",
       "      <td>missense_variant</td>\n",
       "      <td>3</td>\n",
       "      <td>1461</td>\n",
       "      <td>...</td>\n",
       "      <td>0.9983</td>\n",
       "      <td>0.000746</td>\n",
       "      <td>NM_000748.2:c.77C&gt;T</td>\n",
       "      <td>T26M</td>\n",
       "      <td>CHRNB2</td>\n",
       "      <td>0</td>\n",
       "      <td>-1.000000</td>\n",
       "      <td>2.0</td>\n",
       "      <td>1</td>\n",
       "      <td>1</td>\n",
       "    </tr>\n",
       "    <tr>\n",
       "      <th>138</th>\n",
       "      <td>1</td>\n",
       "      <td>154544158</td>\n",
       "      <td>G</td>\n",
       "      <td>A</td>\n",
       "      <td>pathogenic_dominant</td>\n",
       "      <td>Neur_chan_memb:3</td>\n",
       "      <td>0.000000</td>\n",
       "      <td>missense_variant</td>\n",
       "      <td>1</td>\n",
       "      <td>1463</td>\n",
       "      <td>...</td>\n",
       "      <td>0.9997</td>\n",
       "      <td>0.000006</td>\n",
       "      <td>NM_000748.2:c.859G&gt;A</td>\n",
       "      <td>V287M</td>\n",
       "      <td>CHRNB2</td>\n",
       "      <td>1</td>\n",
       "      <td>0.142857</td>\n",
       "      <td>16.0</td>\n",
       "      <td>0</td>\n",
       "      <td>0</td>\n",
       "    </tr>\n",
       "    <tr>\n",
       "      <th>139</th>\n",
       "      <td>1</td>\n",
       "      <td>154544158</td>\n",
       "      <td>G</td>\n",
       "      <td>T</td>\n",
       "      <td>likely_pathogenic</td>\n",
       "      <td>Neur_chan_memb:3</td>\n",
       "      <td>0.000000</td>\n",
       "      <td>missense_variant</td>\n",
       "      <td>2</td>\n",
       "      <td>1462</td>\n",
       "      <td>...</td>\n",
       "      <td>0.9997</td>\n",
       "      <td>0.000006</td>\n",
       "      <td>NM_000748.2:c.859G&gt;T</td>\n",
       "      <td>V287L</td>\n",
       "      <td>CHRNB2</td>\n",
       "      <td>1</td>\n",
       "      <td>0.142857</td>\n",
       "      <td>16.0</td>\n",
       "      <td>0</td>\n",
       "      <td>0</td>\n",
       "    </tr>\n",
       "    <tr>\n",
       "      <th>143</th>\n",
       "      <td>1</td>\n",
       "      <td>154544490</td>\n",
       "      <td>G</td>\n",
       "      <td>C</td>\n",
       "      <td>benign</td>\n",
       "      <td>Neur_chan_memb:3</td>\n",
       "      <td>0.001797</td>\n",
       "      <td>missense_variant</td>\n",
       "      <td>24</td>\n",
       "      <td>1440</td>\n",
       "      <td>...</td>\n",
       "      <td>0.0726</td>\n",
       "      <td>0.001916</td>\n",
       "      <td>NM_000748.2:c.1191G&gt;C</td>\n",
       "      <td>Q397H</td>\n",
       "      <td>CHRNB2</td>\n",
       "      <td>0</td>\n",
       "      <td>0.142857</td>\n",
       "      <td>16.0</td>\n",
       "      <td>0</td>\n",
       "      <td>0</td>\n",
       "    </tr>\n",
       "    <tr>\n",
       "      <th>145</th>\n",
       "      <td>1</td>\n",
       "      <td>154544534</td>\n",
       "      <td>G</td>\n",
       "      <td>A</td>\n",
       "      <td>benign</td>\n",
       "      <td>Neur_chan_memb:3</td>\n",
       "      <td>0.000000</td>\n",
       "      <td>missense_variant</td>\n",
       "      <td>11</td>\n",
       "      <td>1453</td>\n",
       "      <td>...</td>\n",
       "      <td>0.0673</td>\n",
       "      <td>0.000231</td>\n",
       "      <td>NM_000748.2:c.1235G&gt;A</td>\n",
       "      <td>G412D</td>\n",
       "      <td>CHRNB2</td>\n",
       "      <td>0</td>\n",
       "      <td>0.142857</td>\n",
       "      <td>16.0</td>\n",
       "      <td>0</td>\n",
       "      <td>0</td>\n",
       "    </tr>\n",
       "  </tbody>\n",
       "</table>\n",
       "<p>5 rows × 26 columns</p>\n",
       "</div>"
      ],
      "text/plain": [
       "     chrom        pos ref alt           clin_class              pfam  \\\n",
       "129      1  154541950   C   T        likely_benign         none25733   \n",
       "138      1  154544158   G   A  pathogenic_dominant  Neur_chan_memb:3   \n",
       "139      1  154544158   G   T    likely_pathogenic  Neur_chan_memb:3   \n",
       "143      1  154544490   G   C               benign  Neur_chan_memb:3   \n",
       "145      1  154544534   G   A               benign  Neur_chan_memb:3   \n",
       "\n",
       "     af_1kg_all               eff  pos_fam  neg_fam     ...       \\\n",
       "129    0.000200  missense_variant        3     1461     ...        \n",
       "138    0.000000  missense_variant        1     1463     ...        \n",
       "139    0.000000  missense_variant        2     1462     ...        \n",
       "143    0.001797  missense_variant       24     1440     ...        \n",
       "145    0.000000  missense_variant       11     1453     ...        \n",
       "\n",
       "    exac_cov_frac  kaviar_af                     c.  Protein_Change  \\\n",
       "129        0.9983   0.000746    NM_000748.2:c.77C>T            T26M   \n",
       "138        0.9997   0.000006   NM_000748.2:c.859G>A           V287M   \n",
       "139        0.9997   0.000006   NM_000748.2:c.859G>T           V287L   \n",
       "143        0.0726   0.001916  NM_000748.2:c.1191G>C           Q397H   \n",
       "145        0.0673   0.000231  NM_000748.2:c.1235G>A           G412D   \n",
       "\n",
       "     Hugo_Symbol  y path_frac_t  size_t path_na_t in_none_pfam  \n",
       "129       CHRNB2  0   -1.000000     2.0         1            1  \n",
       "138       CHRNB2  1    0.142857    16.0         0            0  \n",
       "139       CHRNB2  1    0.142857    16.0         0            0  \n",
       "143       CHRNB2  0    0.142857    16.0         0            0  \n",
       "145       CHRNB2  0    0.142857    16.0         0            0  \n",
       "\n",
       "[5 rows x 26 columns]"
      ]
     },
     "execution_count": 9,
     "metadata": {},
     "output_type": "execute_result"
    }
   ],
   "source": [
    "clinvar_df.head()"
   ]
  },
  {
   "cell_type": "code",
   "execution_count": 19,
   "metadata": {
    "collapsed": false
   },
   "outputs": [],
   "source": [
    "# train new tree and apply to clinvar\n",
    "tree_clf = linear_model.LinearRegression(normalize=True, fit_intercept=True)\n",
    "poly = PolynomialFeatures(degree=4, interaction_only=False, include_bias=False)\n",
    "\n",
    "all_preds = []\n",
    "all_truth = []\n",
    "cols = ['mpc', 'size_t', 'path_na_t', 'path_frac_t', 'in_none_pfam']\n",
    "X, y = poly.fit_transform(df_x[cols]), df_x['y']\n",
    "tree_clf.fit(X, y)\n",
    "\n",
    "X_clin, y_clin = poly.fit_transform(clinvar_df[cols]), clinvar_df['y']\n",
    "preds = tree_clf.predict(X_clin)\n",
    "fpr_tree, tpr_tree, _ = metrics.roc_curve(y_clin, preds, pos_label=1)\n",
    "tree_auc = metrics.auc(fpr_tree, tpr_tree)"
   ]
  },
  {
   "cell_type": "code",
   "execution_count": 20,
   "metadata": {
    "collapsed": true
   },
   "outputs": [],
   "source": [
    "# train new tree and apply to clinvar: just pathogenic frac\n",
    "tree_clf = linear_model.LinearRegression(normalize=True, fit_intercept=True)\n",
    "poly = PolynomialFeatures(degree=2, interaction_only=False, include_bias=False)\n",
    "\n",
    "all_preds = []\n",
    "all_truth = []\n",
    "cols = ['size_t', 'path_na_t', 'path_frac_t', 'in_none_pfam']\n",
    "X, y = df_x[cols], df_x['y']\n",
    "tree_clf.fit(X, y)\n",
    "\n",
    "X_clin, y_clin = clinvar_df[cols], clinvar_df['y']\n",
    "preds = tree_clf.predict(X_clin)\n",
    "fpr_tree_nm, tpr_tree_nm, _ = metrics.roc_curve(y_clin, preds, pos_label=1)\n",
    "tree_auc_nm = metrics.auc(fpr_tree_nm, tpr_tree_nm)"
   ]
  },
  {
   "cell_type": "code",
   "execution_count": 21,
   "metadata": {
    "collapsed": true
   },
   "outputs": [],
   "source": [
    "scores = clinvar_df['mpc'].values\n",
    "truth = clinvar_df['y'].values\n",
    "fpr_mpc, tpr_mpc, _ = metrics.roc_curve(truth, scores, pos_label=1)\n",
    "mpc_auc = metrics.auc(fpr_mpc, tpr_mpc)"
   ]
  },
  {
   "cell_type": "code",
   "execution_count": 22,
   "metadata": {
    "collapsed": false
   },
   "outputs": [
    {
     "name": "stdout",
     "output_type": "stream",
     "text": [
      "mpc auc 0.985862785863\n",
      "tree auc 0.756756756757\n",
      "tree-no-mpc auc 0.693555093555\n"
     ]
    },
    {
     "data": {
      "text/plain": [
       "<matplotlib.text.Text at 0x7fe4bcad8ba8>"
      ]
     },
     "execution_count": 22,
     "metadata": {},
     "output_type": "execute_result"
    },
    {
     "data": {
      "image/png": "[encoded data removed]",
      "text/plain": [
       "<matplotlib.figure.Figure at 0x7fe4a8241fd0>"
      ]
     },
     "metadata": {},
     "output_type": "display_data"
    }
   ],
   "source": [
    "#X_clin, y_clin = clinvar_df[cols], clinvar_df['y']\n",
    "#preds = tree_clf.predict_proba(X_clin)\n",
    "#fpr_tree, tpr_tree, _ = metrics.roc_curve(y_clin, [x[1] for x in preds], pos_label=1)\n",
    "#tree_auc = metrics.auc(fpr_tree, tpr_tree)\n",
    "#mpc_auc = metrics.auc(fpr_mpc, tpr_mpc)\n",
    "print('mpc auc', mpc_auc)\n",
    "print('tree auc', tree_auc)\n",
    "print('tree-no-mpc auc', tree_auc_nm)\n",
    "plt.plot(fpr_tree, tpr_tree, label='tree', color='green')\n",
    "plt.plot(fpr_tree_nm, tpr_tree_nm, label='tree-no-mpc', color='orange')\n",
    "plt.plot(fpr_mpc, tpr_mpc, label='mpc', color='black')\n",
    "plt.legend(loc=4)\n",
    "plt.title('Lab 2 missense variant ROC curve')\n",
    "#plt.savefig('../docs/plots/missense_clinvar_roc_feature_union.png')"
   ]
  },
  {
   "cell_type": "code",
   "execution_count": null,
   "metadata": {
    "collapsed": true
   },
   "outputs": [],
   "source": []
  }
 ],
 "metadata": {
  "kernelspec": {
   "display_name": "Python 3",
   "language": "python",
   "name": "python3"
  },
  "language_info": {
   "codemirror_mode": {
    "name": "ipython",
    "version": 3
   },
   "file_extension": ".py",
   "mimetype": "text/x-python",
   "name": "python",
   "nbconvert_exporter": "python",
   "pygments_lexer": "ipython3",
   "version": "3.4.5"
  }
 },
 "nbformat": 4,
 "nbformat_minor": 2
}
