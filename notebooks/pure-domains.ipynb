{
 "cells": [
  {
   "cell_type": "markdown",
   "metadata": {},
   "source": [
    "### find pure domains (mostly path/benign vars)"
   ]
  },
  {
   "cell_type": "code",
   "execution_count": 1,
   "metadata": {
    "collapsed": true
   },
   "outputs": [],
   "source": [
    "import pandas"
   ]
  },
  {
   "cell_type": "code",
   "execution_count": 32,
   "metadata": {
    "collapsed": false
   },
   "outputs": [],
   "source": [
    "def calc_path_frac(rows):\n",
    "    pfam = list(rows['pfam'].values)[0]\n",
    "    pathogenic = len(rows[ (rows.clin_class=='PATHOGENIC') | (rows.clin_class=='LIKLEY_PATHOGENIC')])\n",
    "    benign = len(rows[ (rows.clin_class=='LIKELY_BENIGN') | (rows.clin_class=='BENIGN')])\n",
    "    frac = -1\n",
    "    if pathogenic+benign:\n",
    "        frac = pathogenic/(pathogenic+benign)\n",
    "    return pandas.Series([frac, len(rows)], index=['path_frac', 'size'])\n",
    "\n",
    "dat_file = '../data/interim/EPIv6.eff.dbnsfp.anno.hHack.dat.xls'\n",
    "df_pre = pandas.read_csv(dat_file, sep='\\t')\n",
    "df = (df_pre['pfam'].str.split(',', expand=True)\n",
    "     .stack()\n",
    "     .reset_index(level=0)\n",
    "     .set_index('level_0')\n",
    "     .rename(columns={0:'pfam'})\n",
    "     .join(df_pre.drop('pfam',1), how='left')\n",
    "     )\n",
    "dd = df.groupby('pfam').apply(calc_path_frac)"
   ]
  },
  {
   "cell_type": "code",
   "execution_count": 35,
   "metadata": {
    "collapsed": false
   },
   "outputs": [
    {
     "data": {
      "text/plain": [
       "157"
      ]
     },
     "execution_count": 35,
     "metadata": {},
     "output_type": "execute_result"
    }
   ],
   "source": [
    "ff = dd.reset_index()\n",
    "# mostly path\n",
    "len(ff[(ff.size>4) & (ff.path_frac==1)])"
   ]
  },
  {
   "cell_type": "code",
   "execution_count": 36,
   "metadata": {
    "collapsed": false
   },
   "outputs": [
    {
     "data": {
      "text/plain": [
       "111"
      ]
     },
     "execution_count": 36,
     "metadata": {},
     "output_type": "execute_result"
    }
   ],
   "source": [
    "# mostly benign\n",
    "len(ff[(ff.size>4) & (ff.path_frac==0)])"
   ]
  },
  {
   "cell_type": "code",
   "execution_count": null,
   "metadata": {
    "collapsed": true
   },
   "outputs": [],
   "source": [
    "# predict w/ these?"
   ]
  }
 ],
 "metadata": {
  "kernelspec": {
   "display_name": "Python 3",
   "language": "python",
   "name": "python3"
  },
  "language_info": {
   "codemirror_mode": {
    "name": "ipython",
    "version": 3
   },
   "file_extension": ".py",
   "mimetype": "text/x-python",
   "name": "python",
   "nbconvert_exporter": "python",
   "pygments_lexer": "ipython3",
   "version": "3.4.5"
  }
 },
 "nbformat": 4,
 "nbformat_minor": 2
}
