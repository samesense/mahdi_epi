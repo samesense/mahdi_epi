{
 "cells": [
  {
   "cell_type": "markdown",
   "metadata": {},
   "source": [
    "### find pure domains (mostly path/benign vars)\n",
    "* first show that knowing domain status helps\n",
    "* then leave-one-out-cross-val to show this is realistic"
   ]
  },
  {
   "cell_type": "code",
   "execution_count": 25,
   "metadata": {
    "collapsed": true
   },
   "outputs": [],
   "source": [
    "import pandas, numpy"
   ]
  },
  {
   "cell_type": "code",
   "execution_count": 9,
   "metadata": {
    "collapsed": false
   },
   "outputs": [],
   "source": [
    "def calc_path_frac(rows):\n",
    "    pfam = list(rows['pfam'].values)[0]\n",
    "    pathogenic = len(rows[ (rows.clin_class=='PATHOGENIC') | (rows.clin_class=='LIKLEY_PATHOGENIC')])\n",
    "    benign = len(rows[ (rows.clin_class=='LIKELY_BENIGN') | (rows.clin_class=='BENIGN')])\n",
    "    frac = -1\n",
    "    if pathogenic+benign:\n",
    "        frac = pathogenic/(pathogenic+benign)\n",
    "    return pandas.Series([frac, len(rows)], index=['path_frac', 'size'])\n",
    "\n",
    "dat_file = '../data/interim/EPIv6.eff.dbnsfp.anno.hHack.dat.xls'\n",
    "df_pre = pandas.read_csv(dat_file, sep='\\t')\n",
    "df = (df_pre['pfam'].str.split(',', expand=True)\n",
    "     .stack()\n",
    "     .reset_index(level=0)\n",
    "     .set_index('level_0')\n",
    "     .rename(columns={0:'pfam'})\n",
    "     .join(df_pre.drop('pfam',1), how='left')\n",
    "     )\n",
    "dd = df.groupby('pfam').apply(calc_path_frac)"
   ]
  },
  {
   "cell_type": "code",
   "execution_count": 58,
   "metadata": {
    "collapsed": false
   },
   "outputs": [
    {
     "data": {
      "text/html": [
       "<div>\n",
       "<table border=\"1\" class=\"dataframe\">\n",
       "  <thead>\n",
       "    <tr style=\"text-align: right;\">\n",
       "      <th></th>\n",
       "      <th>chrom</th>\n",
       "      <th>pos</th>\n",
       "      <th>ref</th>\n",
       "      <th>alt</th>\n",
       "      <th>clin_class</th>\n",
       "      <th>pfam</th>\n",
       "      <th>af_1kg_all</th>\n",
       "      <th>eff</th>\n",
       "      <th>pos_fam</th>\n",
       "      <th>neg_fam</th>\n",
       "      <th>...</th>\n",
       "      <th>mpc</th>\n",
       "      <th>exac_af</th>\n",
       "      <th>exac_ac</th>\n",
       "      <th>exac_an</th>\n",
       "      <th>exac_cov_frac</th>\n",
       "      <th>kaviar_af</th>\n",
       "      <th>c.</th>\n",
       "      <th>path_frac_t</th>\n",
       "      <th>size_t</th>\n",
       "      <th>path_na_t</th>\n",
       "    </tr>\n",
       "  </thead>\n",
       "  <tbody>\n",
       "    <tr>\n",
       "      <th>2111</th>\n",
       "      <td>2</td>\n",
       "      <td>166850715</td>\n",
       "      <td>T</td>\n",
       "      <td>A</td>\n",
       "      <td>LIKLEY_PATHOGENIC</td>\n",
       "      <td>Ion_trans:492</td>\n",
       "      <td>0.0</td>\n",
       "      <td>missense_variant</td>\n",
       "      <td>2</td>\n",
       "      <td>8402</td>\n",
       "      <td>...</td>\n",
       "      <td>1.653</td>\n",
       "      <td>0.000009</td>\n",
       "      <td>1</td>\n",
       "      <td>115110</td>\n",
       "      <td>0.9919</td>\n",
       "      <td>0.000013</td>\n",
       "      <td>NM_001165963.1:c.4793A&gt;T</td>\n",
       "      <td>1.0</td>\n",
       "      <td>7.0</td>\n",
       "      <td>0</td>\n",
       "    </tr>\n",
       "  </tbody>\n",
       "</table>\n",
       "<p>1 rows × 21 columns</p>\n",
       "</div>"
      ],
      "text/plain": [
       "     chrom        pos ref alt         clin_class           pfam  af_1kg_all  \\\n",
       "2111     2  166850715   T   A  LIKLEY_PATHOGENIC  Ion_trans:492         0.0   \n",
       "\n",
       "                   eff  pos_fam  neg_fam    ...        mpc   exac_af  exac_ac  \\\n",
       "2111  missense_variant        2     8402    ...      1.653  0.000009        1   \n",
       "\n",
       "      exac_an  exac_cov_frac kaviar_af                        c. path_frac_t  \\\n",
       "2111   115110         0.9919  0.000013  NM_001165963.1:c.4793A>T         1.0   \n",
       "\n",
       "      size_t  path_na_t  \n",
       "2111     7.0          0  \n",
       "\n",
       "[1 rows x 21 columns]"
      ]
     },
     "execution_count": 58,
     "metadata": {},
     "output_type": "execute_result"
    }
   ],
   "source": [
    "df_pre[df_pre.pos==166850715]"
   ]
  },
  {
   "cell_type": "code",
   "execution_count": 3,
   "metadata": {
    "collapsed": false
   },
   "outputs": [],
   "source": [
    "ff = dd.reset_index()\n",
    "# mostly path\n",
    "#len(ff[(ff.size>4) & (ff.path_frac==1)])"
   ]
  },
  {
   "cell_type": "code",
   "execution_count": 4,
   "metadata": {
    "collapsed": false
   },
   "outputs": [
    {
     "data": {
      "text/plain": [
       "111"
      ]
     },
     "execution_count": 4,
     "metadata": {},
     "output_type": "execute_result"
    }
   ],
   "source": [
    "# mostly benign\n",
    "len(ff[(ff.size>4) & (ff.path_frac==0)])"
   ]
  },
  {
   "cell_type": "code",
   "execution_count": 10,
   "metadata": {
    "collapsed": false
   },
   "outputs": [],
   "source": [
    "# mk domain features\n",
    "def match(row, domain_info):\n",
    "    ls = []\n",
    "    for pfam in row['pfam'].split(','):\n",
    "        if domain_info[pfam][2] == 0:\n",
    "            ls.append(domain_info[pfam])\n",
    "    if len(ls) == 0:\n",
    "        for pfam in row['pfam'].split(','):\n",
    "            return domain_info[pfam]\n",
    "        \n",
    "    if len(ls) == 1:\n",
    "        return ls[0]\n",
    "    else:\n",
    "        return ls[0]\n",
    "    \n",
    "ff.loc[:, 'path_na'] = ff.apply(lambda row: 1 if row['path_frac']==-1 else 0, axis=1)\n",
    "domain_info = {pfam:[path_frac, size, path_na]\n",
    "               for pfam, path_frac, size, path_na\n",
    "               in ff.values}\n",
    "\n",
    "df_pre.loc[:, 'path_frac_t'] = df_pre.apply(lambda row: match(row, domain_info)[0], axis=1)\n",
    "df_pre.loc[:, 'size_t'] = df_pre.apply(lambda row: match(row, domain_info)[1], axis=1)\n",
    "df_pre.loc[:, 'path_na_t'] = df_pre.apply(lambda row: match(row, domain_info)[2], axis=1)"
   ]
  },
  {
   "cell_type": "code",
   "execution_count": 11,
   "metadata": {
    "collapsed": true
   },
   "outputs": [],
   "source": [
    "## predict\n",
    "import pandas, pydot, pydotplus, graphviz\n",
    "import matplotlib.pyplot as plt\n",
    "import seaborn as sns\n",
    "from sklearn import linear_model, metrics, tree, svm\n",
    "from sklearn.neural_network import MLPClassifier\n",
    "from sklearn.externals.six import StringIO\n",
    "from IPython.display import HTML\n",
    "%matplotlib inline"
   ]
  },
  {
   "cell_type": "code",
   "execution_count": 19,
   "metadata": {
    "collapsed": false
   },
   "outputs": [
    {
     "name": "stderr",
     "output_type": "stream",
     "text": [
      "/opt/conda/lib/python3.4/site-packages/pandas/core/indexing.py:297: SettingWithCopyWarning: \n",
      "A value is trying to be set on a copy of a slice from a DataFrame.\n",
      "Try using .loc[row_indexer,col_indexer] = value instead\n",
      "\n",
      "See the caveats in the documentation: http://pandas.pydata.org/pandas-docs/stable/indexing.html#indexing-view-versus-copy\n",
      "  self.obj[key] = _infer_fill_value(value)\n",
      "/opt/conda/lib/python3.4/site-packages/pandas/core/indexing.py:477: SettingWithCopyWarning: \n",
      "A value is trying to be set on a copy of a slice from a DataFrame.\n",
      "Try using .loc[row_indexer,col_indexer] = value instead\n",
      "\n",
      "See the caveats in the documentation: http://pandas.pydata.org/pandas-docs/stable/indexing.html#indexing-view-versus-copy\n",
      "  self.obj[item] = s\n"
     ]
    },
    {
     "data": {
      "text/html": [
       "<div>\n",
       "<table border=\"1\" class=\"dataframe\">\n",
       "  <thead>\n",
       "    <tr style=\"text-align: right;\">\n",
       "      <th></th>\n",
       "      <th>chrom</th>\n",
       "      <th>pos</th>\n",
       "      <th>ref</th>\n",
       "      <th>alt</th>\n",
       "      <th>clin_class</th>\n",
       "      <th>pfam</th>\n",
       "      <th>af_1kg_all</th>\n",
       "      <th>eff</th>\n",
       "      <th>pos_fam</th>\n",
       "      <th>neg_fam</th>\n",
       "      <th>...</th>\n",
       "      <th>exac_ac</th>\n",
       "      <th>exac_an</th>\n",
       "      <th>exac_cov_frac</th>\n",
       "      <th>kaviar_af</th>\n",
       "      <th>c.</th>\n",
       "      <th>path_frac_t</th>\n",
       "      <th>size_t</th>\n",
       "      <th>path_na_t</th>\n",
       "      <th>multi_pfam</th>\n",
       "      <th>y</th>\n",
       "    </tr>\n",
       "  </thead>\n",
       "  <tbody>\n",
       "    <tr>\n",
       "      <th>18</th>\n",
       "      <td>1</td>\n",
       "      <td>40557754</td>\n",
       "      <td>A</td>\n",
       "      <td>C</td>\n",
       "      <td>PATHOGENIC</td>\n",
       "      <td>Palm_thioest:10</td>\n",
       "      <td>0.0</td>\n",
       "      <td>missense_variant</td>\n",
       "      <td>1</td>\n",
       "      <td>8544</td>\n",
       "      <td>...</td>\n",
       "      <td>1</td>\n",
       "      <td>121364</td>\n",
       "      <td>0.9998</td>\n",
       "      <td>0.000006</td>\n",
       "      <td>NM_000310.3:c.325T&gt;G</td>\n",
       "      <td>0.5</td>\n",
       "      <td>3.0</td>\n",
       "      <td>0</td>\n",
       "      <td>True</td>\n",
       "      <td>1</td>\n",
       "    </tr>\n",
       "    <tr>\n",
       "      <th>19</th>\n",
       "      <td>1</td>\n",
       "      <td>40557769</td>\n",
       "      <td>T</td>\n",
       "      <td>C</td>\n",
       "      <td>LIKELY_BENIGN</td>\n",
       "      <td>Palm_thioest:10</td>\n",
       "      <td>0.0</td>\n",
       "      <td>missense_variant</td>\n",
       "      <td>2</td>\n",
       "      <td>8543</td>\n",
       "      <td>...</td>\n",
       "      <td>3</td>\n",
       "      <td>121374</td>\n",
       "      <td>1.0000</td>\n",
       "      <td>0.000019</td>\n",
       "      <td>NM_000310.3:c.310A&gt;G</td>\n",
       "      <td>0.5</td>\n",
       "      <td>3.0</td>\n",
       "      <td>0</td>\n",
       "      <td>True</td>\n",
       "      <td>0</td>\n",
       "    </tr>\n",
       "    <tr>\n",
       "      <th>34</th>\n",
       "      <td>1</td>\n",
       "      <td>43393355</td>\n",
       "      <td>C</td>\n",
       "      <td>T</td>\n",
       "      <td>PATHOGENIC</td>\n",
       "      <td>MFS_1:44,Sugar_tr:29</td>\n",
       "      <td>0.0</td>\n",
       "      <td>missense_variant</td>\n",
       "      <td>1</td>\n",
       "      <td>8419</td>\n",
       "      <td>...</td>\n",
       "      <td>0</td>\n",
       "      <td>0</td>\n",
       "      <td>0.9988</td>\n",
       "      <td>0.000000</td>\n",
       "      <td>NM_006516.2:c.1199G&gt;A</td>\n",
       "      <td>1.0</td>\n",
       "      <td>9.0</td>\n",
       "      <td>0</td>\n",
       "      <td>True</td>\n",
       "      <td>1</td>\n",
       "    </tr>\n",
       "    <tr>\n",
       "      <th>35</th>\n",
       "      <td>1</td>\n",
       "      <td>43393356</td>\n",
       "      <td>G</td>\n",
       "      <td>A</td>\n",
       "      <td>PATHOGENIC</td>\n",
       "      <td>MFS_1:44,Sugar_tr:29</td>\n",
       "      <td>0.0</td>\n",
       "      <td>missense_variant</td>\n",
       "      <td>2</td>\n",
       "      <td>8418</td>\n",
       "      <td>...</td>\n",
       "      <td>0</td>\n",
       "      <td>0</td>\n",
       "      <td>0.9986</td>\n",
       "      <td>0.000006</td>\n",
       "      <td>NM_006516.2:c.1198C&gt;T</td>\n",
       "      <td>1.0</td>\n",
       "      <td>9.0</td>\n",
       "      <td>0</td>\n",
       "      <td>True</td>\n",
       "      <td>1</td>\n",
       "    </tr>\n",
       "    <tr>\n",
       "      <th>36</th>\n",
       "      <td>1</td>\n",
       "      <td>43393397</td>\n",
       "      <td>A</td>\n",
       "      <td>C</td>\n",
       "      <td>LIKLEY_PATHOGENIC</td>\n",
       "      <td>MFS_1:44,Sugar_tr:29</td>\n",
       "      <td>0.0</td>\n",
       "      <td>missense_variant</td>\n",
       "      <td>1</td>\n",
       "      <td>8419</td>\n",
       "      <td>...</td>\n",
       "      <td>0</td>\n",
       "      <td>0</td>\n",
       "      <td>0.9986</td>\n",
       "      <td>0.000006</td>\n",
       "      <td>NM_006516.2:c.1157T&gt;G</td>\n",
       "      <td>1.0</td>\n",
       "      <td>9.0</td>\n",
       "      <td>0</td>\n",
       "      <td>True</td>\n",
       "      <td>1</td>\n",
       "    </tr>\n",
       "  </tbody>\n",
       "</table>\n",
       "<p>5 rows × 23 columns</p>\n",
       "</div>"
      ],
      "text/plain": [
       "   chrom       pos ref alt         clin_class                  pfam  \\\n",
       "18     1  40557754   A   C         PATHOGENIC       Palm_thioest:10   \n",
       "19     1  40557769   T   C      LIKELY_BENIGN       Palm_thioest:10   \n",
       "34     1  43393355   C   T         PATHOGENIC  MFS_1:44,Sugar_tr:29   \n",
       "35     1  43393356   G   A         PATHOGENIC  MFS_1:44,Sugar_tr:29   \n",
       "36     1  43393397   A   C  LIKLEY_PATHOGENIC  MFS_1:44,Sugar_tr:29   \n",
       "\n",
       "    af_1kg_all               eff  pos_fam  neg_fam ... exac_ac  exac_an  \\\n",
       "18         0.0  missense_variant        1     8544 ...       1   121364   \n",
       "19         0.0  missense_variant        2     8543 ...       3   121374   \n",
       "34         0.0  missense_variant        1     8419 ...       0        0   \n",
       "35         0.0  missense_variant        2     8418 ...       0        0   \n",
       "36         0.0  missense_variant        1     8419 ...       0        0   \n",
       "\n",
       "    exac_cov_frac  kaviar_af                     c. path_frac_t  size_t  \\\n",
       "18         0.9998   0.000006   NM_000310.3:c.325T>G         0.5     3.0   \n",
       "19         1.0000   0.000019   NM_000310.3:c.310A>G         0.5     3.0   \n",
       "34         0.9988   0.000000  NM_006516.2:c.1199G>A         1.0     9.0   \n",
       "35         0.9986   0.000006  NM_006516.2:c.1198C>T         1.0     9.0   \n",
       "36         0.9986   0.000006  NM_006516.2:c.1157T>G         1.0     9.0   \n",
       "\n",
       "   path_na_t  multi_pfam  y  \n",
       "18         0        True  1  \n",
       "19         0        True  0  \n",
       "34         0        True  1  \n",
       "35         0        True  1  \n",
       "36         0        True  1  \n",
       "\n",
       "[5 rows x 23 columns]"
      ]
     },
     "execution_count": 19,
     "metadata": {},
     "output_type": "execute_result"
    }
   ],
   "source": [
    "df_x_pre = df_pre[ (df_pre.clin_class != 'VUS') & (df_pre.mpc>0) & (df_pre.pfam != 'none')]\n",
    "df_s = df_x_pre.groupby('pfam').size().reset_index()\n",
    "multi_pfam = set( df_s[df_s[0]>1]['pfam'].values )\n",
    "df_x_pre.loc[:, 'multi_pfam'] = df_x_pre.apply(lambda row: row['pfam'] in multi_pfam, axis=1)\n",
    "df_x = df_x_pre[df_x_pre.multi_pfam]\n",
    "df_x.loc[:, 'y'] = df_x.apply(lambda row: 1 if row['clin_class'] in ('PATHOGENIC', 'LIKLEY_PATHOGENIC')\n",
    "                            else 0, axis=1)\n",
    "df_x.head()"
   ]
  },
  {
   "cell_type": "code",
   "execution_count": 89,
   "metadata": {
    "collapsed": true
   },
   "outputs": [],
   "source": [
    "tree_clf = tree.DecisionTreeClassifier(max_depth=2)"
   ]
  },
  {
   "cell_type": "code",
   "execution_count": 22,
   "metadata": {
    "collapsed": false
   },
   "outputs": [
    {
     "data": {
      "text/plain": [
       "[<matplotlib.lines.Line2D at 0x7fdfc980b358>]"
      ]
     },
     "execution_count": 22,
     "metadata": {},
     "output_type": "execute_result"
    },
    {
     "data": {
      "image/png": "[encoded data removed]",
      "text/plain": [
       "<matplotlib.figure.Figure at 0x7fdfc9b58630>"
      ]
     },
     "metadata": {},
     "output_type": "display_data"
    }
   ],
   "source": [
    "# decision tree\n",
    "# only use domains w/ more than one variant\n",
    "all_preds = []\n",
    "all_truth = []\n",
    "cols = ['mpc', 'size_t', 'path_na_t', 'path_frac_t']\n",
    "genes = set(df_x['gene'].values)\n",
    "for gene in genes:\n",
    "    df_train = df_x[df_x.gene!=gene]\n",
    "    df_test = df_x[df_x.gene==gene]\n",
    "    X, y = df_train[cols], df_train['y']\n",
    "    tree_clf.fit(X, y)\n",
    "    dot_data = StringIO()\n",
    "    tree.export_graphviz(tree_clf, feature_names=cols, out_file=dot_data)\n",
    "    graph = pydotplus.graph_from_dot_data( dot_data.getvalue() )\n",
    "    graph.write_pdf('mtr_tree.%s.pdf' % (gene,))\n",
    "    X_test, y_test = df_test[cols], df_test['y']\n",
    "    preds = tree_clf.predict_proba(X_test)\n",
    "    preds_simple = tree_clf.predict(X_test)\n",
    "    tot, good = 0,0\n",
    "    for pred, pred_s, truth in zip(preds, preds_simple, y_test):\n",
    "        all_preds.append(pred[1])\n",
    "        all_truth.append(truth)\n",
    "        tot += 1\n",
    "        if pred_s==truth:\n",
    "            good += 1\n",
    "    #print(gene, tot, good, good/tot)\n",
    "fpr_tree, tpr_tree, _ = metrics.roc_curve(all_truth, all_preds, pos_label=1)\n",
    "plt.plot(fpr_tree, tpr_tree, label='tree', color='orange')"
   ]
  },
  {
   "cell_type": "code",
   "execution_count": 23,
   "metadata": {
    "collapsed": false
   },
   "outputs": [
    {
     "data": {
      "text/html": [
       "<iframe src=./mtr_tree.CDKL5.pdf width=1000 height=500></iframe>"
      ],
      "text/plain": [
       "<IPython.core.display.HTML object>"
      ]
     },
     "execution_count": 23,
     "metadata": {},
     "output_type": "execute_result"
    }
   ],
   "source": [
    "HTML('<iframe src=./mtr_tree.CDKL5.pdf width=1000 height=500></iframe>')"
   ]
  },
  {
   "cell_type": "code",
   "execution_count": 8,
   "metadata": {
    "collapsed": false
   },
   "outputs": [
    {
     "name": "stdout",
     "output_type": "stream",
     "text": [
      "221\n"
     ]
    }
   ],
   "source": [
    "# either predict path/benign\n",
    "# or hold out one at a time and compute fraction?\n",
    "# how do \n",
    "pfam_set = set(df_x['pfam'])\n",
    "print( len(pfam_set) )"
   ]
  },
  {
   "cell_type": "code",
   "execution_count": 17,
   "metadata": {
    "collapsed": false
   },
   "outputs": [
    {
     "data": {
      "text/plain": [
       "130"
      ]
     },
     "execution_count": 17,
     "metadata": {},
     "output_type": "execute_result"
    }
   ],
   "source": [
    "s = df_x.groupby('pfam').size().reset_index()\n",
    "len( s[s[0]==1] )"
   ]
  },
  {
   "cell_type": "code",
   "execution_count": 24,
   "metadata": {
    "collapsed": false
   },
   "outputs": [
    {
     "data": {
      "text/plain": [
       "380"
      ]
     },
     "execution_count": 24,
     "metadata": {},
     "output_type": "execute_result"
    }
   ],
   "source": [
    "len(df_x)"
   ]
  },
  {
   "cell_type": "code",
   "execution_count": 49,
   "metadata": {
    "collapsed": true
   },
   "outputs": [],
   "source": [
    "from collections import Counter"
   ]
  },
  {
   "cell_type": "code",
   "execution_count": 59,
   "metadata": {
    "collapsed": false
   },
   "outputs": [
    {
     "data": {
      "text/html": [
       "<div>\n",
       "<table border=\"1\" class=\"dataframe\">\n",
       "  <thead>\n",
       "    <tr style=\"text-align: right;\">\n",
       "      <th></th>\n",
       "      <th>chrom</th>\n",
       "      <th>pos</th>\n",
       "      <th>ref</th>\n",
       "      <th>alt</th>\n",
       "      <th>clin_class</th>\n",
       "      <th>pfam</th>\n",
       "      <th>af_1kg_all</th>\n",
       "      <th>eff</th>\n",
       "      <th>pos_fam</th>\n",
       "      <th>neg_fam</th>\n",
       "      <th>...</th>\n",
       "      <th>exac_an</th>\n",
       "      <th>exac_cov_frac</th>\n",
       "      <th>kaviar_af</th>\n",
       "      <th>c.</th>\n",
       "      <th>path_frac_t</th>\n",
       "      <th>size_t</th>\n",
       "      <th>path_na_t</th>\n",
       "      <th>multi_pfam</th>\n",
       "      <th>y</th>\n",
       "      <th>is_test</th>\n",
       "    </tr>\n",
       "  </thead>\n",
       "  <tbody>\n",
       "    <tr>\n",
       "      <th>2111</th>\n",
       "      <td>2</td>\n",
       "      <td>166850715</td>\n",
       "      <td>T</td>\n",
       "      <td>A</td>\n",
       "      <td>LIKLEY_PATHOGENIC</td>\n",
       "      <td>Ion_trans:492</td>\n",
       "      <td>0.0</td>\n",
       "      <td>missense_variant</td>\n",
       "      <td>2</td>\n",
       "      <td>8402</td>\n",
       "      <td>...</td>\n",
       "      <td>115110</td>\n",
       "      <td>0.9919</td>\n",
       "      <td>0.000013</td>\n",
       "      <td>NM_001165963.1:c.4793A&gt;T</td>\n",
       "      <td>1.0</td>\n",
       "      <td>7.0</td>\n",
       "      <td>0</td>\n",
       "      <td>True</td>\n",
       "      <td>1</td>\n",
       "      <td>False</td>\n",
       "    </tr>\n",
       "  </tbody>\n",
       "</table>\n",
       "<p>1 rows × 24 columns</p>\n",
       "</div>"
      ],
      "text/plain": [
       "     chrom        pos ref alt         clin_class           pfam  af_1kg_all  \\\n",
       "2111     2  166850715   T   A  LIKLEY_PATHOGENIC  Ion_trans:492         0.0   \n",
       "\n",
       "                   eff  pos_fam  neg_fam   ...    exac_an  exac_cov_frac  \\\n",
       "2111  missense_variant        2     8402   ...     115110         0.9919   \n",
       "\n",
       "      kaviar_af                        c.  path_frac_t size_t  path_na_t  \\\n",
       "2111   0.000013  NM_001165963.1:c.4793A>T          1.0    7.0          0   \n",
       "\n",
       "     multi_pfam  y  is_test  \n",
       "2111       True  1    False  \n",
       "\n",
       "[1 rows x 24 columns]"
      ]
     },
     "execution_count": 59,
     "metadata": {},
     "output_type": "execute_result"
    }
   ],
   "source": [
    "df_x[df_x.pos==166850715]"
   ]
  },
  {
   "cell_type": "code",
   "execution_count": 67,
   "metadata": {
    "collapsed": false
   },
   "outputs": [
    {
     "data": {
      "text/html": [
       "<div>\n",
       "<table border=\"1\" class=\"dataframe\">\n",
       "  <thead>\n",
       "    <tr style=\"text-align: right;\">\n",
       "      <th></th>\n",
       "      <th></th>\n",
       "      <th>chrom</th>\n",
       "      <th>pos</th>\n",
       "      <th>ref</th>\n",
       "      <th>alt</th>\n",
       "    </tr>\n",
       "    <tr>\n",
       "      <th>pfam</th>\n",
       "      <th></th>\n",
       "      <th></th>\n",
       "      <th></th>\n",
       "      <th></th>\n",
       "      <th></th>\n",
       "    </tr>\n",
       "  </thead>\n",
       "  <tbody>\n",
       "    <tr>\n",
       "      <th>Ion_trans:492</th>\n",
       "      <th>2111</th>\n",
       "      <td>2</td>\n",
       "      <td>166850715</td>\n",
       "      <td>T</td>\n",
       "      <td>A</td>\n",
       "    </tr>\n",
       "  </tbody>\n",
       "</table>\n",
       "</div>"
      ],
      "text/plain": [
       "                   chrom        pos ref alt\n",
       "pfam                                       \n",
       "Ion_trans:492 2111     2  166850715   T   A"
      ]
     },
     "execution_count": 67,
     "metadata": {},
     "output_type": "execute_result"
    }
   ],
   "source": [
    "cc = ['chrom','pos','ref','alt']\n",
    "fn = lambda obj: obj.loc[numpy.random.choice(obj.index, 1), cc]\n",
    "y_shit = df_x.groupby('pfam').apply(fn)\n",
    "y_shit[y_shit.pos==166850715]"
   ]
  },
  {
   "cell_type": "code",
   "execution_count": 107,
   "metadata": {
    "collapsed": false
   },
   "outputs": [
    {
     "name": "stderr",
     "output_type": "stream",
     "text": [
      "/opt/conda/lib/python3.4/site-packages/ipykernel/__main__.py:6: SettingWithCopyWarning: \n",
      "A value is trying to be set on a copy of a slice from a DataFrame.\n",
      "Try using .loc[row_indexer,col_indexer] = value instead\n",
      "\n",
      "See the caveats in the documentation: http://pandas.pydata.org/pandas-docs/stable/indexing.html#indexing-view-versus-copy\n",
      "/opt/conda/lib/python3.4/site-packages/pandas/core/indexing.py:297: SettingWithCopyWarning: \n",
      "A value is trying to be set on a copy of a slice from a DataFrame.\n",
      "Try using .loc[row_indexer,col_indexer] = value instead\n",
      "\n",
      "See the caveats in the documentation: http://pandas.pydata.org/pandas-docs/stable/indexing.html#indexing-view-versus-copy\n",
      "  self.obj[key] = _infer_fill_value(value)\n",
      "/opt/conda/lib/python3.4/site-packages/pandas/core/indexing.py:477: SettingWithCopyWarning: \n",
      "A value is trying to be set on a copy of a slice from a DataFrame.\n",
      "Try using .loc[row_indexer,col_indexer] = value instead\n",
      "\n",
      "See the caveats in the documentation: http://pandas.pydata.org/pandas-docs/stable/indexing.html#indexing-view-versus-copy\n",
      "  self.obj[item] = s\n"
     ]
    },
    {
     "data": {
      "image/png": "[encoded data removed]",
      "text/plain": [
       "<matplotlib.figure.Figure at 0x7fdfc9c4c668>"
      ]
     },
     "metadata": {},
     "output_type": "display_data"
    }
   ],
   "source": [
    "def loop(use_cols):\n",
    "    cc = ['chrom','pos','ref','alt']\n",
    "    y_set = {':'.join([str(y) for y in ls]) for ls in \n",
    "             df_x.groupby('pfam').apply(fn).values}\n",
    "    y_eval = df_x.apply(lambda row: ':'.join([str(row[x]) for x in cc]) in y_set, axis=1)\n",
    "    df_x['is_test'] = y_eval\n",
    "    \n",
    "    df_train = df_x[~df_x.is_test]\n",
    "    df_tmp = (df_train['pfam'].str.split(',', expand=True)\n",
    "             .stack()\n",
    "             .reset_index(level=0)\n",
    "             .set_index('level_0')\n",
    "             .rename(columns={0:'pfam'})\n",
    "             .join(df_pre.drop('pfam',1), how='left')\n",
    "             )\n",
    "    dd_tmp = df_tmp.groupby('pfam').apply(calc_path_frac)\n",
    "    ff_tmp = dd_tmp.reset_index()\n",
    "\n",
    "    ff_tmp.loc[:, 'path_na'] = ff_tmp.apply(lambda row: 1 if row['path_frac']==-1 else 0, axis=1)\n",
    "    domain_info = {pfam:[path_frac, size, path_na]\n",
    "                   for pfam, path_frac, size, path_na\n",
    "                   in ff_tmp.values}\n",
    "\n",
    "    df_train.loc[:, 'path_frac_c'] = df_train.apply(lambda row: match(row, domain_info)[0], axis=1)\n",
    "    df_train.loc[:, 'size_c'] = df_train.apply(lambda row: match(row, domain_info)[1], axis=1)\n",
    "    df_train.loc[:, 'path_na_c'] = df_train.apply(lambda row: match(row, domain_info)[2], axis=1)\n",
    "\n",
    "    df_test = df_x[df_x.is_test]\n",
    "    df_test.loc[:, 'path_frac_c'] = df_test.apply(lambda row: match(row, domain_info)[0], axis=1)\n",
    "    df_test.loc[:, 'size_c'] = df_test.apply(lambda row: match(row, domain_info)[1], axis=1)\n",
    "    df_test.loc[:, 'path_na_c'] = df_test.apply(lambda row: match(row, domain_info)[2], axis=1)\n",
    "\n",
    "    cols = use_cols#['mpc', 'size_c', 'path_na_c', 'path_frac_c']\n",
    "    X, y = df_train[cols], df_train['y']\n",
    "    tree_clf.fit(X, y)\n",
    "    dot_data = StringIO()\n",
    "    tree.export_graphviz(tree_clf, feature_names=cols, out_file=dot_data)\n",
    "    graph = pydotplus.graph_from_dot_data( dot_data.getvalue() )\n",
    "    graph.write_pdf('mtr_tree.x.pdf')\n",
    "    X_test, y_test = df_test[cols], df_test['y']\n",
    "    preds = tree_clf.predict_proba(X_test)\n",
    "    fpr_tree, tpr_tree, _ = metrics.roc_curve(list(y_test), [p[1] for p in preds], pos_label=1)\n",
    "    return fpr_tree, tpr_tree\n",
    "\n",
    "for x in range(10):\n",
    "    use_cols = ['mpc', 'size_c', 'path_na_c', 'path_frac_c']\n",
    "    fpr_tree, tpr_tree = loop(use_cols)\n",
    "    plt.plot(fpr_tree, tpr_tree, label='tree', color='green', alpha=0.2)\n",
    "    \n",
    "    use_cols = ['size_c', 'path_na_c', 'path_frac_c']\n",
    "    fpr_tree, tpr_tree = loop(use_cols)\n",
    "    plt.plot(fpr_tree, tpr_tree, label='tree-no-mpc', color='orange', alpha=0.2)    \n",
    "    \n",
    "scores = df_x['mpc'].values\n",
    "truth = df_x['y'].values\n",
    "fpr_mpc, tpr_mpc, _ = metrics.roc_curve(truth, scores, pos_label=1)\n",
    "plt.plot(fpr_mpc, tpr_mpc, label='mpc', color='black')\n",
    "plt.savefig('roc.png')"
   ]
  },
  {
   "cell_type": "code",
   "execution_count": 90,
   "metadata": {
    "collapsed": false
   },
   "outputs": [
    {
     "name": "stdout",
     "output_type": "stream",
     "text": [
      "total pfams 91\n",
      "this many y 91\n",
      "Counter({False: 289, True: 91})\n",
      "Counter({False: 289, True: 91})\n"
     ]
    },
    {
     "name": "stderr",
     "output_type": "stream",
     "text": [
      "/opt/conda/lib/python3.4/site-packages/ipykernel/__main__.py:17: SettingWithCopyWarning: \n",
      "A value is trying to be set on a copy of a slice from a DataFrame.\n",
      "Try using .loc[row_indexer,col_indexer] = value instead\n",
      "\n",
      "See the caveats in the documentation: http://pandas.pydata.org/pandas-docs/stable/indexing.html#indexing-view-versus-copy\n"
     ]
    }
   ],
   "source": [
    "# problem: on y can be in multiple domains\n",
    "# 9:131344110:C:C <- not a change\n",
    "# 2:166850715:A:A <- not a change\n",
    "#  NM_001165963.1:c.4793A>T and NM_001130438.1:c.1511C>T have wrong pattern\n",
    "pfams = set(df_x['pfam'])\n",
    "print('total pfams', len(pfams))\n",
    "cc = ['chrom','pos','ref','alt']\n",
    "y_set = {':'.join([str(y) for y in ls]) for ls in \n",
    "         df_x.groupby('pfam').apply(fn).values}\n",
    "print( 'this many y', len(y_set) )\n",
    "#print(y_set)\n",
    "keys = [':'.join([str(xx) for xx in x]) for x in df_x[cc].values]\n",
    "for y in y_set:\n",
    "    if not y in keys:\n",
    "        print(y)\n",
    "y_eval = df_x.apply(lambda row: ':'.join([str(row[x]) for x in cc]) in y_set, axis=1)\n",
    "df_x['is_test'] = y_eval\n",
    "print( Counter(df_x['is_test']) )\n",
    "print( Counter(y_eval) )"
   ]
  },
  {
   "cell_type": "code",
   "execution_count": 91,
   "metadata": {
    "collapsed": false
   },
   "outputs": [
    {
     "name": "stdout",
     "output_type": "stream",
     "text": [
      "this many domains 105\n"
     ]
    },
    {
     "name": "stderr",
     "output_type": "stream",
     "text": [
      "/opt/conda/lib/python3.4/site-packages/pandas/core/indexing.py:297: SettingWithCopyWarning: \n",
      "A value is trying to be set on a copy of a slice from a DataFrame.\n",
      "Try using .loc[row_indexer,col_indexer] = value instead\n",
      "\n",
      "See the caveats in the documentation: http://pandas.pydata.org/pandas-docs/stable/indexing.html#indexing-view-versus-copy\n",
      "  self.obj[key] = _infer_fill_value(value)\n",
      "/opt/conda/lib/python3.4/site-packages/pandas/core/indexing.py:477: SettingWithCopyWarning: \n",
      "A value is trying to be set on a copy of a slice from a DataFrame.\n",
      "Try using .loc[row_indexer,col_indexer] = value instead\n",
      "\n",
      "See the caveats in the documentation: http://pandas.pydata.org/pandas-docs/stable/indexing.html#indexing-view-versus-copy\n",
      "  self.obj[item] = s\n"
     ]
    },
    {
     "name": "stdout",
     "output_type": "stream",
     "text": [
      "this many vars 380\n",
      "this many train vars 289\n",
      "this many test vars 91\n"
     ]
    },
    {
     "data": {
      "text/plain": [
       "[<matplotlib.lines.Line2D at 0x7fdfc551dcc0>]"
      ]
     },
     "execution_count": 91,
     "metadata": {},
     "output_type": "execute_result"
    },
    {
     "data": {
      "image/png": "[encoded data removed]",
      "text/plain": [
       "<matplotlib.figure.Figure at 0x7fdfc953dbe0>"
      ]
     },
     "metadata": {},
     "output_type": "display_data"
    }
   ],
   "source": [
    "df_train = df_x[~df_x.is_test]\n",
    "# calc fracs\n",
    "df_tmp = (df_train['pfam'].str.split(',', expand=True)\n",
    "         .stack()\n",
    "         .reset_index(level=0)\n",
    "         .set_index('level_0')\n",
    "         .rename(columns={0:'pfam'})\n",
    "         .join(df_pre.drop('pfam',1), how='left')\n",
    "         )\n",
    "dd_tmp = df_tmp.groupby('pfam').apply(calc_path_frac)\n",
    "ff_tmp = dd_tmp.reset_index()\n",
    "print('this many domains', len(ff_tmp))\n",
    "\n",
    "ff_tmp.loc[:, 'path_na'] = ff_tmp.apply(lambda row: 1 if row['path_frac']==-1 else 0, axis=1)\n",
    "domain_info = {pfam:[path_frac, size, path_na]\n",
    "               for pfam, path_frac, size, path_na\n",
    "               in ff_tmp.values}\n",
    "\n",
    "df_train.loc[:, 'path_frac_c'] = df_train.apply(lambda row: match(row, domain_info)[0], axis=1)\n",
    "df_train.loc[:, 'size_c'] = df_train.apply(lambda row: match(row, domain_info)[1], axis=1)\n",
    "df_train.loc[:, 'path_na_c'] = df_train.apply(lambda row: match(row, domain_info)[2], axis=1)\n",
    "\n",
    "df_test = df_x[df_x.is_test]\n",
    "df_test.loc[:, 'path_frac_c'] = df_test.apply(lambda row: match(row, domain_info)[0], axis=1)\n",
    "df_test.loc[:, 'size_c'] = df_test.apply(lambda row: match(row, domain_info)[1], axis=1)\n",
    "df_test.loc[:, 'path_na_c'] = df_test.apply(lambda row: match(row, domain_info)[2], axis=1)\n",
    "\n",
    "print('this many vars', len(df_x))\n",
    "print('this many train vars', len(df_train))\n",
    "print('this many test vars', len(df_test))\n",
    "\n",
    "cols = ['mpc', 'size_c', 'path_na_c', 'path_frac_c']\n",
    "X, y = df_train[cols], df_train['y']\n",
    "tree_clf.fit(X, y)\n",
    "dot_data = StringIO()\n",
    "tree.export_graphviz(tree_clf, feature_names=cols, out_file=dot_data)\n",
    "graph = pydotplus.graph_from_dot_data( dot_data.getvalue() )\n",
    "graph.write_pdf('mtr_tree.x.pdf')\n",
    "X_test, y_test = df_test[cols], df_test['y']\n",
    "preds = tree_clf.predict_proba(X_test)\n",
    "#print(preds)\n",
    "fpr_tree, tpr_tree, _ = metrics.roc_curve(list(y_test), [p[1] for p in preds], pos_label=1)\n",
    "plt.plot(fpr_tree, tpr_tree, label='tree', color='orange')"
   ]
  },
  {
   "cell_type": "code",
   "execution_count": 92,
   "metadata": {
    "collapsed": false
   },
   "outputs": [
    {
     "data": {
      "text/html": [
       "<iframe src=./mtr_tree.x.pdf width=1000 height=500></iframe>"
      ],
      "text/plain": [
       "<IPython.core.display.HTML object>"
      ]
     },
     "execution_count": 92,
     "metadata": {},
     "output_type": "execute_result"
    }
   ],
   "source": [
    "HTML('<iframe src=./mtr_tree.x.pdf width=1000 height=500></iframe>')"
   ]
  },
  {
   "cell_type": "code",
   "execution_count": 106,
   "metadata": {
    "collapsed": false
   },
   "outputs": [],
   "source": [
    "df_x.groupby(['gene','y']).size().reset_index().rename(columns={0:'size'}).to_csv('eval_dat', index=False, sep='\\t')"
   ]
  },
  {
   "cell_type": "code",
   "execution_count": null,
   "metadata": {
    "collapsed": true
   },
   "outputs": [],
   "source": []
  }
 ],
 "metadata": {
  "kernelspec": {
   "display_name": "Python 3",
   "language": "python",
   "name": "python3"
  },
  "language_info": {
   "codemirror_mode": {
    "name": "ipython",
    "version": 3
   },
   "file_extension": ".py",
   "mimetype": "text/x-python",
   "name": "python",
   "nbconvert_exporter": "python",
   "pygments_lexer": "ipython3",
   "version": "3.4.5"
  }
 },
 "nbformat": 4,
 "nbformat_minor": 2
}
