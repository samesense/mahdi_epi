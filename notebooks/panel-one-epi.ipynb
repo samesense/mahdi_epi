{
 "cells": [
  {
   "cell_type": "code",
   "execution_count": 4,
   "metadata": {
    "collapsed": false
   },
   "outputs": [],
   "source": [
    "import pandas as pd\n",
    "import seaborn as sns\n",
    "from collections import Counter\n",
    "import matplotlib.pyplot as plt\n",
    "%matplotlib inline\n",
    "\n",
    "FOCUS_GENES = ('SCN1A','SCN2A','KCNQ2', 'KCNQ3', 'CDKL5',\n",
    "               'PCDH19', 'SCN1B', 'SCN8A', 'SLC2A1',\n",
    "               'SPTAN1', 'STXBP1', 'TSC1')\n",
    "\n",
    "def mk_class(row):\n",
    "    if row['Classification'] in ('Benign', 'BENIGN', 'LIKELY BENIGN'):\n",
    "        return 'B'\n",
    "    elif row['Classification'] in ('LIKLEY PATHOGENIC', 'PATHOGENIC', 'LIKELY PATHOGENIC', 'Reduced function allele'):\n",
    "        return 'P'\n",
    "    elif row['Classification'] in ('VUS', 'VOUS'):\n",
    "        return 'V'\n",
    "    else:\n",
    "        print(row['Classification'])\n",
    "        i = 1/0\n",
    "        \n",
    "afile = '../data/raw/EPIv6.xlsx'\n",
    "df = pd.read_excel(afile)\n",
    "df.loc[:, 'class'] = df.apply(mk_class, axis=1)\n",
    "focus = df[ df.apply(lambda row: str(row['Gene Symbol']) in FOCUS_GENES and row['class'] != 'V', axis=1) ]\n",
    "ss = focus.groupby(['Gene Symbol', 'class']).size().reset_index().rename(columns={0:'size'})"
   ]
  },
  {
   "cell_type": "code",
   "execution_count": 5,
   "metadata": {
    "collapsed": false
   },
   "outputs": [
    {
     "data": {
      "text/html": [
       "<div>\n",
       "<table border=\"1\" class=\"dataframe\">\n",
       "  <thead>\n",
       "    <tr style=\"text-align: right;\">\n",
       "      <th></th>\n",
       "      <th>Gene Symbol</th>\n",
       "      <th>class</th>\n",
       "      <th>size</th>\n",
       "    </tr>\n",
       "  </thead>\n",
       "  <tbody>\n",
       "    <tr>\n",
       "      <th>0</th>\n",
       "      <td>CDKL5</td>\n",
       "      <td>B</td>\n",
       "      <td>6</td>\n",
       "    </tr>\n",
       "    <tr>\n",
       "      <th>1</th>\n",
       "      <td>CDKL5</td>\n",
       "      <td>P</td>\n",
       "      <td>36</td>\n",
       "    </tr>\n",
       "    <tr>\n",
       "      <th>2</th>\n",
       "      <td>KCNQ2</td>\n",
       "      <td>B</td>\n",
       "      <td>12</td>\n",
       "    </tr>\n",
       "    <tr>\n",
       "      <th>3</th>\n",
       "      <td>KCNQ2</td>\n",
       "      <td>P</td>\n",
       "      <td>64</td>\n",
       "    </tr>\n",
       "    <tr>\n",
       "      <th>4</th>\n",
       "      <td>KCNQ3</td>\n",
       "      <td>B</td>\n",
       "      <td>6</td>\n",
       "    </tr>\n",
       "  </tbody>\n",
       "</table>\n",
       "</div>"
      ],
      "text/plain": [
       "  Gene Symbol class  size\n",
       "0       CDKL5     B     6\n",
       "1       CDKL5     P    36\n",
       "2       KCNQ2     B    12\n",
       "3       KCNQ2     P    64\n",
       "4       KCNQ3     B     6"
      ]
     },
     "execution_count": 5,
     "metadata": {},
     "output_type": "execute_result"
    }
   ],
   "source": [
    "ss.head()"
   ]
  },
  {
   "cell_type": "code",
   "execution_count": 6,
   "metadata": {
    "collapsed": false
   },
   "outputs": [
    {
     "data": {
      "text/plain": [
       "(array([ 0,  1,  2,  3,  4,  5,  6,  7,  8,  9, 10, 11]),\n",
       " <a list of 12 Text xticklabel objects>)"
      ]
     },
     "execution_count": 6,
     "metadata": {},
     "output_type": "execute_result"
    },
    {
     "data": {
      "image/png": "[encoded data removed]",
      "text/plain": [
       "<matplotlib.figure.Figure at 0x7f7a76e40278>"
      ]
     },
     "metadata": {},
     "output_type": "display_data"
    }
   ],
   "source": [
    "sns.barplot(x='Gene Symbol', y='size', hue='class', data=ss)\n",
    "plt.xticks(rotation=45)"
   ]
  },
  {
   "cell_type": "code",
   "execution_count": null,
   "metadata": {
    "collapsed": true
   },
   "outputs": [],
   "source": []
  }
 ],
 "metadata": {
  "kernelspec": {
   "display_name": "Python 3",
   "language": "python",
   "name": "python3"
  },
  "language_info": {
   "codemirror_mode": {
    "name": "ipython",
    "version": 3
   },
   "file_extension": ".py",
   "mimetype": "text/x-python",
   "name": "python",
   "nbconvert_exporter": "python",
   "pygments_lexer": "ipython3",
   "version": "3.4.5"
  }
 },
 "nbformat": 4,
 "nbformat_minor": 2
}
