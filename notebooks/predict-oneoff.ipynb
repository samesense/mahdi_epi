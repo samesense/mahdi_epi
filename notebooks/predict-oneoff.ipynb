{
 "cells": [
  {
   "cell_type": "markdown",
   "metadata": {},
   "source": [
    "### run tree to predict for one off queries"
   ]
  },
  {
   "cell_type": "code",
   "execution_count": 1,
   "metadata": {
    "collapsed": true
   },
   "outputs": [],
   "source": [
    "import pandas, numpy\n",
    "import pydot, pydotplus, graphviz\n",
    "import matplotlib.pyplot as plt\n",
    "import seaborn as sns\n",
    "from sklearn import linear_model, metrics, tree, svm\n",
    "from sklearn.neural_network import MLPClassifier\n",
    "from sklearn.externals.six import StringIO\n",
    "from IPython.display import HTML\n",
    "%matplotlib inline"
   ]
  },
  {
   "cell_type": "code",
   "execution_count": 2,
   "metadata": {
    "collapsed": false
   },
   "outputs": [],
   "source": [
    "def calc_path_frac(rows):\n",
    "    pfam = list(rows['pfam'].values)[0]\n",
    "    pathogenic = len(rows[ (rows.clin_class=='PATHOGENIC') | (rows.clin_class=='LIKLEY_PATHOGENIC')])\n",
    "    benign = len(rows[ (rows.clin_class=='LIKELY_BENIGN') | (rows.clin_class=='BENIGN')])\n",
    "    frac = -1\n",
    "    if pathogenic+benign:\n",
    "        frac = pathogenic/(pathogenic+benign)\n",
    "    return pandas.Series([frac, len(rows)], index=['path_frac', 'size'])\n",
    "\n",
    "dat_file = '../data/interim/EPIv6.eff.dbnsfp.anno.hHack.dat.xls'\n",
    "df_pre = pandas.read_csv(dat_file, sep='\\t')\n",
    "df = (df_pre['pfam'].str.split(',', expand=True)\n",
    "     .stack()\n",
    "     .reset_index(level=0)\n",
    "     .set_index('level_0')\n",
    "     .rename(columns={0:'pfam'})\n",
    "     .join(df_pre.drop('pfam',1), how='left')\n",
    "     )\n",
    "dd = df.groupby('pfam').apply(calc_path_frac)\n",
    "ff = dd.reset_index()\n",
    "\n",
    "# mk domain features\n",
    "def match(row, domain_info):\n",
    "    ls = []\n",
    "    for pfam in row['pfam'].split(','):\n",
    "        if pfam in domain_info:\n",
    "            if domain_info[pfam][2] == 0:\n",
    "                ls.append(domain_info[pfam])\n",
    "    if len(ls) == 0:\n",
    "        for pfam in row['pfam'].split(','):\n",
    "            if pfam in domain_info:\n",
    "                return domain_info[pfam]\n",
    "        \n",
    "    if len(ls):\n",
    "        return ls[0]\n",
    "    else:\n",
    "        return (0, 0, 1)\n",
    "    \n",
    "ff.loc[:, 'path_na'] = ff.apply(lambda row: 1 if row['path_frac']==-1 else 0, axis=1)\n",
    "domain_info = {pfam:[path_frac, size, path_na]\n",
    "               for pfam, path_frac, size, path_na\n",
    "               in ff.values}\n",
    "\n",
    "df_pre.loc[:, 'path_frac_t'] = df_pre.apply(lambda row: match(row, domain_info)[0], axis=1)\n",
    "df_pre.loc[:, 'size_t'] = df_pre.apply(lambda row: match(row, domain_info)[1], axis=1)\n",
    "df_pre.loc[:, 'path_na_t'] = df_pre.apply(lambda row: match(row, domain_info)[2], axis=1)"
   ]
  },
  {
   "cell_type": "code",
   "execution_count": 3,
   "metadata": {
    "collapsed": false
   },
   "outputs": [
    {
     "name": "stderr",
     "output_type": "stream",
     "text": [
      "/opt/conda/lib/python3.4/site-packages/pandas/core/indexing.py:297: SettingWithCopyWarning: \n",
      "A value is trying to be set on a copy of a slice from a DataFrame.\n",
      "Try using .loc[row_indexer,col_indexer] = value instead\n",
      "\n",
      "See the caveats in the documentation: http://pandas.pydata.org/pandas-docs/stable/indexing.html#indexing-view-versus-copy\n",
      "  self.obj[key] = _infer_fill_value(value)\n",
      "/opt/conda/lib/python3.4/site-packages/pandas/core/indexing.py:477: SettingWithCopyWarning: \n",
      "A value is trying to be set on a copy of a slice from a DataFrame.\n",
      "Try using .loc[row_indexer,col_indexer] = value instead\n",
      "\n",
      "See the caveats in the documentation: http://pandas.pydata.org/pandas-docs/stable/indexing.html#indexing-view-versus-copy\n",
      "  self.obj[item] = s\n"
     ]
    },
    {
     "data": {
      "text/html": [
       "<div>\n",
       "<table border=\"1\" class=\"dataframe\">\n",
       "  <thead>\n",
       "    <tr style=\"text-align: right;\">\n",
       "      <th></th>\n",
       "      <th>chrom</th>\n",
       "      <th>pos</th>\n",
       "      <th>ref</th>\n",
       "      <th>alt</th>\n",
       "      <th>clin_class</th>\n",
       "      <th>pfam</th>\n",
       "      <th>af_1kg_all</th>\n",
       "      <th>eff</th>\n",
       "      <th>pos_fam</th>\n",
       "      <th>neg_fam</th>\n",
       "      <th>...</th>\n",
       "      <th>exac_ac</th>\n",
       "      <th>exac_an</th>\n",
       "      <th>exac_cov_frac</th>\n",
       "      <th>kaviar_af</th>\n",
       "      <th>c.</th>\n",
       "      <th>path_frac_t</th>\n",
       "      <th>size_t</th>\n",
       "      <th>path_na_t</th>\n",
       "      <th>multi_pfam</th>\n",
       "      <th>y</th>\n",
       "    </tr>\n",
       "  </thead>\n",
       "  <tbody>\n",
       "    <tr>\n",
       "      <th>18</th>\n",
       "      <td>1</td>\n",
       "      <td>40557754</td>\n",
       "      <td>A</td>\n",
       "      <td>C</td>\n",
       "      <td>PATHOGENIC</td>\n",
       "      <td>Palm_thioest:10</td>\n",
       "      <td>0.0</td>\n",
       "      <td>missense_variant</td>\n",
       "      <td>1</td>\n",
       "      <td>8544</td>\n",
       "      <td>...</td>\n",
       "      <td>1</td>\n",
       "      <td>121364</td>\n",
       "      <td>0.9998</td>\n",
       "      <td>0.000006</td>\n",
       "      <td>NM_000310.3:c.325T&gt;G</td>\n",
       "      <td>0.5</td>\n",
       "      <td>3.0</td>\n",
       "      <td>0</td>\n",
       "      <td>True</td>\n",
       "      <td>1</td>\n",
       "    </tr>\n",
       "    <tr>\n",
       "      <th>19</th>\n",
       "      <td>1</td>\n",
       "      <td>40557769</td>\n",
       "      <td>T</td>\n",
       "      <td>C</td>\n",
       "      <td>LIKELY_BENIGN</td>\n",
       "      <td>Palm_thioest:10</td>\n",
       "      <td>0.0</td>\n",
       "      <td>missense_variant</td>\n",
       "      <td>2</td>\n",
       "      <td>8543</td>\n",
       "      <td>...</td>\n",
       "      <td>3</td>\n",
       "      <td>121374</td>\n",
       "      <td>1.0000</td>\n",
       "      <td>0.000019</td>\n",
       "      <td>NM_000310.3:c.310A&gt;G</td>\n",
       "      <td>0.5</td>\n",
       "      <td>3.0</td>\n",
       "      <td>0</td>\n",
       "      <td>True</td>\n",
       "      <td>0</td>\n",
       "    </tr>\n",
       "    <tr>\n",
       "      <th>34</th>\n",
       "      <td>1</td>\n",
       "      <td>43393355</td>\n",
       "      <td>C</td>\n",
       "      <td>T</td>\n",
       "      <td>PATHOGENIC</td>\n",
       "      <td>MFS_1:44,Sugar_tr:29</td>\n",
       "      <td>0.0</td>\n",
       "      <td>missense_variant</td>\n",
       "      <td>1</td>\n",
       "      <td>8419</td>\n",
       "      <td>...</td>\n",
       "      <td>0</td>\n",
       "      <td>0</td>\n",
       "      <td>0.9988</td>\n",
       "      <td>0.000000</td>\n",
       "      <td>NM_006516.2:c.1199G&gt;A</td>\n",
       "      <td>1.0</td>\n",
       "      <td>9.0</td>\n",
       "      <td>0</td>\n",
       "      <td>True</td>\n",
       "      <td>1</td>\n",
       "    </tr>\n",
       "    <tr>\n",
       "      <th>35</th>\n",
       "      <td>1</td>\n",
       "      <td>43393356</td>\n",
       "      <td>G</td>\n",
       "      <td>A</td>\n",
       "      <td>PATHOGENIC</td>\n",
       "      <td>MFS_1:44,Sugar_tr:29</td>\n",
       "      <td>0.0</td>\n",
       "      <td>missense_variant</td>\n",
       "      <td>2</td>\n",
       "      <td>8418</td>\n",
       "      <td>...</td>\n",
       "      <td>0</td>\n",
       "      <td>0</td>\n",
       "      <td>0.9986</td>\n",
       "      <td>0.000006</td>\n",
       "      <td>NM_006516.2:c.1198C&gt;T</td>\n",
       "      <td>1.0</td>\n",
       "      <td>9.0</td>\n",
       "      <td>0</td>\n",
       "      <td>True</td>\n",
       "      <td>1</td>\n",
       "    </tr>\n",
       "    <tr>\n",
       "      <th>36</th>\n",
       "      <td>1</td>\n",
       "      <td>43393397</td>\n",
       "      <td>A</td>\n",
       "      <td>C</td>\n",
       "      <td>LIKLEY_PATHOGENIC</td>\n",
       "      <td>MFS_1:44,Sugar_tr:29</td>\n",
       "      <td>0.0</td>\n",
       "      <td>missense_variant</td>\n",
       "      <td>1</td>\n",
       "      <td>8419</td>\n",
       "      <td>...</td>\n",
       "      <td>0</td>\n",
       "      <td>0</td>\n",
       "      <td>0.9986</td>\n",
       "      <td>0.000006</td>\n",
       "      <td>NM_006516.2:c.1157T&gt;G</td>\n",
       "      <td>1.0</td>\n",
       "      <td>9.0</td>\n",
       "      <td>0</td>\n",
       "      <td>True</td>\n",
       "      <td>1</td>\n",
       "    </tr>\n",
       "  </tbody>\n",
       "</table>\n",
       "<p>5 rows × 23 columns</p>\n",
       "</div>"
      ],
      "text/plain": [
       "   chrom       pos ref alt         clin_class                  pfam  \\\n",
       "18     1  40557754   A   C         PATHOGENIC       Palm_thioest:10   \n",
       "19     1  40557769   T   C      LIKELY_BENIGN       Palm_thioest:10   \n",
       "34     1  43393355   C   T         PATHOGENIC  MFS_1:44,Sugar_tr:29   \n",
       "35     1  43393356   G   A         PATHOGENIC  MFS_1:44,Sugar_tr:29   \n",
       "36     1  43393397   A   C  LIKLEY_PATHOGENIC  MFS_1:44,Sugar_tr:29   \n",
       "\n",
       "    af_1kg_all               eff  pos_fam  neg_fam ... exac_ac  exac_an  \\\n",
       "18         0.0  missense_variant        1     8544 ...       1   121364   \n",
       "19         0.0  missense_variant        2     8543 ...       3   121374   \n",
       "34         0.0  missense_variant        1     8419 ...       0        0   \n",
       "35         0.0  missense_variant        2     8418 ...       0        0   \n",
       "36         0.0  missense_variant        1     8419 ...       0        0   \n",
       "\n",
       "    exac_cov_frac  kaviar_af                     c. path_frac_t  size_t  \\\n",
       "18         0.9998   0.000006   NM_000310.3:c.325T>G         0.5     3.0   \n",
       "19         1.0000   0.000019   NM_000310.3:c.310A>G         0.5     3.0   \n",
       "34         0.9988   0.000000  NM_006516.2:c.1199G>A         1.0     9.0   \n",
       "35         0.9986   0.000006  NM_006516.2:c.1198C>T         1.0     9.0   \n",
       "36         0.9986   0.000006  NM_006516.2:c.1157T>G         1.0     9.0   \n",
       "\n",
       "   path_na_t  multi_pfam  y  \n",
       "18         0        True  1  \n",
       "19         0        True  0  \n",
       "34         0        True  1  \n",
       "35         0        True  1  \n",
       "36         0        True  1  \n",
       "\n",
       "[5 rows x 23 columns]"
      ]
     },
     "execution_count": 3,
     "metadata": {},
     "output_type": "execute_result"
    }
   ],
   "source": [
    "df_x_pre = df_pre[ (df_pre.clin_class != 'VUS') & (df_pre.mpc>0) & (df_pre.pfam != 'none')]\n",
    "df_s = df_x_pre.groupby('pfam').size().reset_index()\n",
    "multi_pfam = set( df_s[df_s[0]>1]['pfam'].values )\n",
    "df_x_pre.loc[:, 'multi_pfam'] = df_x_pre.apply(lambda row: row['pfam'] in multi_pfam, axis=1)\n",
    "df_x = df_x_pre[df_x_pre.multi_pfam]\n",
    "df_x.loc[:, 'y'] = df_x.apply(lambda row: 1 if row['clin_class'] in ('PATHOGENIC', 'LIKLEY_PATHOGENIC')\n",
    "                            else 0, axis=1)\n",
    "df_x.head()"
   ]
  },
  {
   "cell_type": "code",
   "execution_count": 9,
   "metadata": {
    "collapsed": false
   },
   "outputs": [
    {
     "data": {
      "text/html": [
       "<div>\n",
       "<table border=\"1\" class=\"dataframe\">\n",
       "  <thead>\n",
       "    <tr style=\"text-align: right;\">\n",
       "      <th></th>\n",
       "      <th>chrom</th>\n",
       "      <th>pos</th>\n",
       "      <th>ref</th>\n",
       "      <th>alt</th>\n",
       "      <th>pfam</th>\n",
       "      <th>eff</th>\n",
       "      <th>af_1kg_all</th>\n",
       "      <th>gene</th>\n",
       "      <th>mpc</th>\n",
       "      <th>path_frac_t</th>\n",
       "      <th>size_t</th>\n",
       "      <th>path_na_t</th>\n",
       "    </tr>\n",
       "  </thead>\n",
       "  <tbody>\n",
       "    <tr>\n",
       "      <th>0</th>\n",
       "      <td>2</td>\n",
       "      <td>166231468</td>\n",
       "      <td>C</td>\n",
       "      <td>T</td>\n",
       "      <td>Ion_trans:486</td>\n",
       "      <td>missense_variant</td>\n",
       "      <td>0</td>\n",
       "      <td>SCN2A</td>\n",
       "      <td>2.1384</td>\n",
       "      <td>1.0</td>\n",
       "      <td>9.0</td>\n",
       "      <td>0</td>\n",
       "    </tr>\n",
       "  </tbody>\n",
       "</table>\n",
       "</div>"
      ],
      "text/plain": [
       "   chrom        pos ref alt           pfam               eff  af_1kg_all  \\\n",
       "0      2  166231468   C   T  Ion_trans:486  missense_variant           0   \n",
       "\n",
       "    gene     mpc  path_frac_t  size_t  path_na_t  \n",
       "0  SCN2A  2.1384          1.0     9.0          0  "
      ]
     },
     "execution_count": 9,
     "metadata": {},
     "output_type": "execute_result"
    }
   ],
   "source": [
    "clin_file = '../data/raw/imterim/queries/q.dat'\n",
    "clinvar_df = pandas.read_csv(clin_file, sep='\\t')\n",
    "clinvar_df.loc[:, 'path_frac_t'] = clinvar_df.apply(lambda row: match(row, domain_info)[0], axis=1)\n",
    "clinvar_df.loc[:, 'size_t'] = clinvar_df.apply(lambda row: match(row, domain_info)[1], axis=1)\n",
    "clinvar_df.loc[:, 'path_na_t'] = clinvar_df.apply(lambda row: match(row, domain_info)[2], axis=1)\n",
    "clinvar_df.head()"
   ]
  },
  {
   "cell_type": "code",
   "execution_count": 10,
   "metadata": {
    "collapsed": false
   },
   "outputs": [
    {
     "data": {
      "text/html": [
       "<iframe src=./mtr_tree.full.pdf width=1000 height=500></iframe>"
      ],
      "text/plain": [
       "<IPython.core.display.HTML object>"
      ]
     },
     "execution_count": 10,
     "metadata": {},
     "output_type": "execute_result"
    }
   ],
   "source": [
    "# train new tree and apply to clinvar\n",
    "tree_clf = tree.DecisionTreeClassifier(max_depth=3)\n",
    "all_preds = []\n",
    "all_truth = []\n",
    "cols = ['mpc', 'size_t', 'path_na_t', 'path_frac_t']\n",
    "X, y = df_x[cols], df_x['y']\n",
    "tree_clf.fit(X, y)\n",
    "dot_data = StringIO()\n",
    "tree.export_graphviz(tree_clf, feature_names=cols, out_file=dot_data)\n",
    "graph = pydotplus.graph_from_dot_data( dot_data.getvalue() )\n",
    "graph.write_pdf('mtr_tree.full.pdf')\n",
    "HTML('<iframe src=./mtr_tree.full.pdf width=1000 height=500></iframe>')"
   ]
  },
  {
   "cell_type": "code",
   "execution_count": 13,
   "metadata": {
    "collapsed": false
   },
   "outputs": [
    {
     "name": "stdout",
     "output_type": "stream",
     "text": [
      "[[ 0.00364964  0.99635036]]\n"
     ]
    }
   ],
   "source": [
    "preds = tree_clf.predict_proba(clinvar_df[cols])\n",
    "print(preds)"
   ]
  },
  {
   "cell_type": "code",
   "execution_count": null,
   "metadata": {
    "collapsed": true
   },
   "outputs": [],
   "source": []
  }
 ],
 "metadata": {
  "kernelspec": {
   "display_name": "Python 3",
   "language": "python",
   "name": "python3"
  },
  "language_info": {
   "codemirror_mode": {
    "name": "ipython",
    "version": 3
   },
   "file_extension": ".py",
   "mimetype": "text/x-python",
   "name": "python",
   "nbconvert_exporter": "python",
   "pygments_lexer": "ipython3",
   "version": "3.4.5"
  }
 },
 "nbformat": 4,
 "nbformat_minor": 2
}
