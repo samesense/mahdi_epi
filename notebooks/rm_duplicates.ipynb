{
 "cells": [
  {
   "cell_type": "markdown",
   "metadata": {},
   "source": [
    "### rm duplicates"
   ]
  },
  {
   "cell_type": "code",
   "execution_count": 1,
   "metadata": {
    "collapsed": true
   },
   "outputs": [],
   "source": [
    "import pandas"
   ]
  },
  {
   "cell_type": "code",
   "execution_count": 2,
   "metadata": {
    "collapsed": true
   },
   "outputs": [],
   "source": [
    "dat_file = '../data/interim/EPIv6.tab'\n",
    "df = pandas.read_csv(dat_file, sep='\\t')"
   ]
  },
  {
   "cell_type": "code",
   "execution_count": 5,
   "metadata": {
    "collapsed": false
   },
   "outputs": [
    {
     "data": {
      "text/html": [
       "<div>\n",
       "<table border=\"1\" class=\"dataframe\">\n",
       "  <thead>\n",
       "    <tr style=\"text-align: right;\">\n",
       "      <th></th>\n",
       "      <th>chrom</th>\n",
       "      <th>pos</th>\n",
       "      <th>ref</th>\n",
       "      <th>alt</th>\n",
       "      <th>input_var</th>\n",
       "      <th>clin_class</th>\n",
       "      <th>pos_fam</th>\n",
       "      <th>neg_fam</th>\n",
       "      <th>hom_fam</th>\n",
       "    </tr>\n",
       "  </thead>\n",
       "  <tbody>\n",
       "    <tr>\n",
       "      <th>0</th>\n",
       "      <td>1</td>\n",
       "      <td>40539750</td>\n",
       "      <td>T</td>\n",
       "      <td>C</td>\n",
       "      <td>NM_000310.3:c.904A&gt;G</td>\n",
       "      <td>VUS</td>\n",
       "      <td>16</td>\n",
       "      <td>8529</td>\n",
       "      <td>0</td>\n",
       "    </tr>\n",
       "    <tr>\n",
       "      <th>1</th>\n",
       "      <td>1</td>\n",
       "      <td>40539840</td>\n",
       "      <td>T</td>\n",
       "      <td>G</td>\n",
       "      <td>NM_000310.3:c.814A&gt;C</td>\n",
       "      <td>VUS</td>\n",
       "      <td>1</td>\n",
       "      <td>8544</td>\n",
       "      <td>0</td>\n",
       "    </tr>\n",
       "    <tr>\n",
       "      <th>2</th>\n",
       "      <td>1</td>\n",
       "      <td>40542543</td>\n",
       "      <td>G</td>\n",
       "      <td>T</td>\n",
       "      <td>NM_000310.3:c.769C&gt;A</td>\n",
       "      <td>VUS</td>\n",
       "      <td>1</td>\n",
       "      <td>8544</td>\n",
       "      <td>0</td>\n",
       "    </tr>\n",
       "    <tr>\n",
       "      <th>3</th>\n",
       "      <td>1</td>\n",
       "      <td>40542550</td>\n",
       "      <td>T</td>\n",
       "      <td>G</td>\n",
       "      <td>NM_000310.3:c.762A&gt;C</td>\n",
       "      <td>VUS</td>\n",
       "      <td>2</td>\n",
       "      <td>8543</td>\n",
       "      <td>0</td>\n",
       "    </tr>\n",
       "    <tr>\n",
       "      <th>4</th>\n",
       "      <td>1</td>\n",
       "      <td>40542572</td>\n",
       "      <td>T</td>\n",
       "      <td>C</td>\n",
       "      <td>NM_000310.3:c.740A&gt;G</td>\n",
       "      <td>PATHOGENIC</td>\n",
       "      <td>1</td>\n",
       "      <td>8544</td>\n",
       "      <td>1</td>\n",
       "    </tr>\n",
       "  </tbody>\n",
       "</table>\n",
       "</div>"
      ],
      "text/plain": [
       "  chrom       pos ref alt             input_var  clin_class  pos_fam  neg_fam  \\\n",
       "0     1  40539750   T   C  NM_000310.3:c.904A>G         VUS       16     8529   \n",
       "1     1  40539840   T   G  NM_000310.3:c.814A>C         VUS        1     8544   \n",
       "2     1  40542543   G   T  NM_000310.3:c.769C>A         VUS        1     8544   \n",
       "3     1  40542550   T   G  NM_000310.3:c.762A>C         VUS        2     8543   \n",
       "4     1  40542572   T   C  NM_000310.3:c.740A>G  PATHOGENIC        1     8544   \n",
       "\n",
       "   hom_fam  \n",
       "0        0  \n",
       "1        0  \n",
       "2        0  \n",
       "3        0  \n",
       "4        1  "
      ]
     },
     "execution_count": 5,
     "metadata": {},
     "output_type": "execute_result"
    }
   ],
   "source": [
    "df.head()"
   ]
  },
  {
   "cell_type": "code",
   "execution_count": 53,
   "metadata": {
    "collapsed": true
   },
   "outputs": [],
   "source": [
    "new_cols = ['input_var', 'clin_class', 'pos_fam', 'neg_fam', 'hom_fam']\n",
    "def process_multi(r):\n",
    "    rr = r[r.clin_class=='PATHOGENIC']\n",
    "    if len(rr) == 1:\n",
    "        return rr[new_cols]\n",
    "    \n",
    "    rr = r[r.clin_class=='BENIGN']\n",
    "    if len(rr) == 1:\n",
    "        return rr[new_cols]\n",
    "    \n",
    "    r.loc[:, 'pos_sum'] = r.apply(lambda row: row['hom_fam'] + row['pos_fam'], axis=1)\n",
    "    max_pos = max(r['pos_sum'].values)\n",
    "    rr = r[r.pos_sum==max_pos]\n",
    "    if len(rr)==1:\n",
    "        return rr[new_cols]\n",
    "    else:\n",
    "        i = 1/0\n",
    "        \n",
    "def choose_one(rows):\n",
    "    if len(rows) == 1:\n",
    "        return rows[new_cols]\n",
    "    else:\n",
    "        r = rows[rows.clin_class != 'VUS']\n",
    "        if not r.empty:\n",
    "            if len(r) == 1:\n",
    "                return r[new_cols]\n",
    "            else:\n",
    "                return process_multi(r)\n",
    "        else:\n",
    "            # only vus\n",
    "            process_multi(rows)"
   ]
  },
  {
   "cell_type": "code",
   "execution_count": 55,
   "metadata": {
    "collapsed": false
   },
   "outputs": [],
   "source": [
    "g_cols = ('chrom', 'pos', 'ref', 'alt')\n",
    "d = df.groupby(g_cols).apply(choose_one).reset_index()"
   ]
  },
  {
   "cell_type": "code",
   "execution_count": 56,
   "metadata": {
    "collapsed": false
   },
   "outputs": [
    {
     "data": {
      "text/html": [
       "<div>\n",
       "<table border=\"1\" class=\"dataframe\">\n",
       "  <thead>\n",
       "    <tr style=\"text-align: right;\">\n",
       "      <th></th>\n",
       "      <th>chrom</th>\n",
       "      <th>pos</th>\n",
       "      <th>ref</th>\n",
       "      <th>alt</th>\n",
       "      <th>level_4</th>\n",
       "      <th>input_var</th>\n",
       "      <th>clin_class</th>\n",
       "      <th>pos_fam</th>\n",
       "      <th>neg_fam</th>\n",
       "      <th>hom_fam</th>\n",
       "    </tr>\n",
       "  </thead>\n",
       "  <tbody>\n",
       "    <tr>\n",
       "      <th>3701</th>\n",
       "      <td>X</td>\n",
       "      <td>99662302</td>\n",
       "      <td>T</td>\n",
       "      <td>C</td>\n",
       "      <td>3729</td>\n",
       "      <td>NM_001184880.1:c.1294A&gt;G</td>\n",
       "      <td>LIKELY_BENIGN</td>\n",
       "      <td>5</td>\n",
       "      <td>8399</td>\n",
       "      <td>0</td>\n",
       "    </tr>\n",
       "  </tbody>\n",
       "</table>\n",
       "</div>"
      ],
      "text/plain": [
       "     chrom       pos ref alt  level_4                 input_var  \\\n",
       "3701     X  99662302   T   C     3729  NM_001184880.1:c.1294A>G   \n",
       "\n",
       "         clin_class  pos_fam  neg_fam  hom_fam  \n",
       "3701  LIKELY_BENIGN        5     8399        0  "
      ]
     },
     "execution_count": 56,
     "metadata": {},
     "output_type": "execute_result"
    }
   ],
   "source": [
    "d[d.pos==99662302]"
   ]
  },
  {
   "cell_type": "code",
   "execution_count": null,
   "metadata": {
    "collapsed": true
   },
   "outputs": [],
   "source": []
  }
 ],
 "metadata": {
  "kernelspec": {
   "display_name": "Python 3",
   "language": "python",
   "name": "python3"
  },
  "language_info": {
   "codemirror_mode": {
    "name": "ipython",
    "version": 3
   },
   "file_extension": ".py",
   "mimetype": "text/x-python",
   "name": "python",
   "nbconvert_exporter": "python",
   "pygments_lexer": "ipython3",
   "version": "3.4.5"
  }
 },
 "nbformat": 4,
 "nbformat_minor": 2
}
