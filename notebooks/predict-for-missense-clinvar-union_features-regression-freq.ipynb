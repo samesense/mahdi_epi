{
 "cells": [
  {
   "cell_type": "markdown",
   "metadata": {},
   "source": [
    "### clinvar missense prediction w/ feature intersection\n",
    "* only use consistent positions\n",
    "* only missense clinvar\n",
    "* use positions w/ mpc **OR** pathogenic fraction\n",
    "* calc path freq using counts\n",
    "* total path freq\n",
    "* total benign freq"
   ]
  },
  {
   "cell_type": "code",
   "execution_count": 7,
   "metadata": {
    "collapsed": false
   },
   "outputs": [
    {
     "name": "stderr",
     "output_type": "stream",
     "text": [
      "/opt/conda/lib/python3.4/site-packages/matplotlib/font_manager.py:273: UserWarning: Matplotlib is building the font cache using fc-list. This may take a moment.\n",
      "  warnings.warn('Matplotlib is building the font cache using fc-list. This may take a moment.')\n",
      "/opt/conda/lib/python3.4/site-packages/matplotlib/font_manager.py:273: UserWarning: Matplotlib is building the font cache using fc-list. This may take a moment.\n",
      "  warnings.warn('Matplotlib is building the font cache using fc-list. This may take a moment.')\n"
     ]
    }
   ],
   "source": [
    "import pandas, numpy\n",
    "import pydot, pydotplus, graphviz\n",
    "import matplotlib.pyplot as plt\n",
    "import matplotlib as mpl\n",
    "import seaborn as sns\n",
    "from sklearn import linear_model, metrics, tree, svm\n",
    "from sklearn.neural_network import MLPClassifier\n",
    "from sklearn.externals.six import StringIO\n",
    "from sklearn.preprocessing import PolynomialFeatures\n",
    "from IPython.display import HTML\n",
    "%matplotlib inline"
   ]
  },
  {
   "cell_type": "code",
   "execution_count": 8,
   "metadata": {
    "collapsed": false
   },
   "outputs": [],
   "source": [
    "def calc_path_freq(rows):\n",
    "    # sum of freqs for path\n",
    "    pathogenic_sum = sum(rows[ (rows.clin_class=='PATHOGENIC') |\n",
    "                               (rows.clin_class=='LIKLEY_PATHOGENIC')]['freq'])\n",
    "#    print(rows[ (rows.clin_class=='PATHOGENIC') |\n",
    " #                              (rows.clin_class=='LIKLEY_PATHOGENIC')]['freq'])\n",
    "  #  print('debug', pathogenic_sum)\n",
    "    neg = sum(rows[ (rows.clin_class=='PATHOGENIC') |\n",
    "                               (rows.clin_class=='LIKLEY_PATHOGENIC')]['neg_fam'])\n",
    "    #if neg+pathogenic_sum:\n",
    "    #    return float(pathogenic_sum)/sum([neg, pathogenic_sum])\n",
    "    return pathogenic_sum\n",
    "\n",
    "def calc_benign_freq(rows):\n",
    "    # sum of freqs for \n",
    "    benign_sum = sum(rows[ (rows.clin_class=='LIKELY_BENIGN') |\n",
    "                           (rows.clin_class=='BENIGN')]['freq'])\n",
    "    neg = sum(rows[ (rows.clin_class=='LIKELY_BENIGN') |\n",
    "                               (rows.clin_class=='BENIGN')]['neg_fam'])\n",
    "    return benign_sum\n",
    "\n",
    "def calc_path_frac(rows):\n",
    "    pfam = list(rows['pfam'].values)[0]\n",
    "    pathogenic = len(rows[ (rows.clin_class=='PATHOGENIC') | (rows.clin_class=='LIKLEY_PATHOGENIC')])\n",
    "    benign = len(rows[ (rows.clin_class=='LIKELY_BENIGN') | (rows.clin_class=='BENIGN')])\n",
    "    frac = -1\n",
    "    if pathogenic+benign:\n",
    "        frac = pathogenic/(pathogenic+benign)\n",
    "    return pandas.Series([frac, len(rows), calc_path_freq(rows), calc_benign_freq(rows)],\n",
    "                         index=['path_frac', 'size', 'path_freq', 'benign_freq'])\n",
    "\n",
    "def calc_tot_freq_ratio(rows):\n",
    "    path_sum = calc_path_freq(rows)\n",
    "    benign_sum = calc_benign_freq(rows)\n",
    "    return path_sum/benign_sum\n",
    "\n",
    "dat_file = '../data/interim/EPIv6.eff.dbnsfp.anno.hHack.dat.xls'\n",
    "df_pre = pandas.read_csv(dat_file, sep='\\t').fillna(0)\n",
    "df_pre.loc[:, 'freq'] = df_pre['pos_fam']/(df_pre['pos_fam']+df_pre['neg_fam'])\n",
    "df = (df_pre['pfam'].str.split(',', expand=True)\n",
    "     .stack()\n",
    "     .reset_index(level=0)\n",
    "     .set_index('level_0')\n",
    "     .rename(columns={0:'pfam'})\n",
    "     .join(df_pre.drop('pfam',1), how='left')\n",
    "     )\n",
    "dd = df.groupby('pfam').apply(calc_path_frac)\n",
    "ff = dd.reset_index()\n",
    "\n",
    "# mk domain features\n",
    "def match(row, domain_info):\n",
    "    ls = []\n",
    "    for pfam in row['pfam'].split(','):\n",
    "        if pfam in domain_info:\n",
    "            if domain_info[pfam][2] == 0:\n",
    "                ls.append(domain_info[pfam])\n",
    "    if len(ls) == 0:\n",
    "        for pfam in row['pfam'].split(','):\n",
    "            if pfam in domain_info:\n",
    "                return domain_info[pfam]\n",
    "        \n",
    "    if len(ls):\n",
    "        return ls[0]\n",
    "    else:\n",
    "        return (0, 0, 0, 0, 1)\n",
    "    \n",
    "ff.loc[:, 'path_na'] = ff.apply(lambda row: 1 if row['path_frac']==-1 else 0, axis=1)\n",
    "domain_info = {pfam:[path_frac, size, path_freq, b_freq, path_na]\n",
    "               for pfam, path_frac, size, path_freq, b_freq, path_na\n",
    "               in ff.values}\n",
    "\n",
    "df_pre.loc[:, 'path_frac_t'] = df_pre.apply(lambda row: match(row, domain_info)[0], axis=1)\n",
    "df_pre.loc[:, 'size_t'] = df_pre.apply(lambda row: match(row, domain_info)[1], axis=1)\n",
    "df_pre.loc[:, 'path_na_t'] = df_pre.apply(lambda row: match(row, domain_info)[-1], axis=1)\n",
    "df_pre.loc[:, 'in_none_pfam'] = df_pre.apply(lambda row: 1 if 'none' in df_pre['pfam'] else 0, axis=1)\n",
    "\n",
    "# use patient counts\n",
    "df_pre.loc[:, 'path_freq'] = df_pre.apply(lambda row: match(row, domain_info)[2], axis=1)\n",
    "df_pre.loc[:, 'benign_freq'] = df_pre.apply(lambda row: match(row, domain_info)[3], axis=1)\n",
    "#df_pre.loc[:, 'path_na_t'] = df_pre.apply(lambda row: match(row, domain_info)[2], axis=1)"
   ]
  },
  {
   "cell_type": "code",
   "execution_count": 9,
   "metadata": {
    "collapsed": false
   },
   "outputs": [
    {
     "name": "stderr",
     "output_type": "stream",
     "text": [
      "/opt/conda/lib/python3.4/site-packages/pandas/core/indexing.py:297: SettingWithCopyWarning: \n",
      "A value is trying to be set on a copy of a slice from a DataFrame.\n",
      "Try using .loc[row_indexer,col_indexer] = value instead\n",
      "\n",
      "See the caveats in the documentation: http://pandas.pydata.org/pandas-docs/stable/indexing.html#indexing-view-versus-copy\n",
      "  self.obj[key] = _infer_fill_value(value)\n",
      "/opt/conda/lib/python3.4/site-packages/pandas/core/indexing.py:477: SettingWithCopyWarning: \n",
      "A value is trying to be set on a copy of a slice from a DataFrame.\n",
      "Try using .loc[row_indexer,col_indexer] = value instead\n",
      "\n",
      "See the caveats in the documentation: http://pandas.pydata.org/pandas-docs/stable/indexing.html#indexing-view-versus-copy\n",
      "  self.obj[item] = s\n"
     ]
    },
    {
     "data": {
      "text/html": [
       "<div>\n",
       "<table border=\"1\" class=\"dataframe\">\n",
       "  <thead>\n",
       "    <tr style=\"text-align: right;\">\n",
       "      <th></th>\n",
       "      <th>chrom</th>\n",
       "      <th>pos</th>\n",
       "      <th>ref</th>\n",
       "      <th>alt</th>\n",
       "      <th>clin_class</th>\n",
       "      <th>pfam</th>\n",
       "      <th>af_1kg_all</th>\n",
       "      <th>eff</th>\n",
       "      <th>pos_fam</th>\n",
       "      <th>neg_fam</th>\n",
       "      <th>...</th>\n",
       "      <th>Hugo_Symbol</th>\n",
       "      <th>freq</th>\n",
       "      <th>path_frac_t</th>\n",
       "      <th>size_t</th>\n",
       "      <th>path_na_t</th>\n",
       "      <th>in_none_pfam</th>\n",
       "      <th>path_freq</th>\n",
       "      <th>benign_freq</th>\n",
       "      <th>multi_pfam</th>\n",
       "      <th>y</th>\n",
       "    </tr>\n",
       "  </thead>\n",
       "  <tbody>\n",
       "    <tr>\n",
       "      <th>18</th>\n",
       "      <td>1</td>\n",
       "      <td>40557754</td>\n",
       "      <td>A</td>\n",
       "      <td>C</td>\n",
       "      <td>PATHOGENIC</td>\n",
       "      <td>Palm_thioest:10</td>\n",
       "      <td>0.0</td>\n",
       "      <td>missense_variant</td>\n",
       "      <td>1</td>\n",
       "      <td>8544</td>\n",
       "      <td>...</td>\n",
       "      <td>PPT1</td>\n",
       "      <td>0.000117</td>\n",
       "      <td>0.5</td>\n",
       "      <td>3.0</td>\n",
       "      <td>0</td>\n",
       "      <td>0</td>\n",
       "      <td>0.000117</td>\n",
       "      <td>0.000234</td>\n",
       "      <td>True</td>\n",
       "      <td>1</td>\n",
       "    </tr>\n",
       "    <tr>\n",
       "      <th>19</th>\n",
       "      <td>1</td>\n",
       "      <td>40557769</td>\n",
       "      <td>T</td>\n",
       "      <td>C</td>\n",
       "      <td>LIKELY_BENIGN</td>\n",
       "      <td>Palm_thioest:10</td>\n",
       "      <td>0.0</td>\n",
       "      <td>missense_variant</td>\n",
       "      <td>2</td>\n",
       "      <td>8543</td>\n",
       "      <td>...</td>\n",
       "      <td>PPT1</td>\n",
       "      <td>0.000234</td>\n",
       "      <td>0.5</td>\n",
       "      <td>3.0</td>\n",
       "      <td>0</td>\n",
       "      <td>0</td>\n",
       "      <td>0.000117</td>\n",
       "      <td>0.000234</td>\n",
       "      <td>True</td>\n",
       "      <td>0</td>\n",
       "    </tr>\n",
       "    <tr>\n",
       "      <th>34</th>\n",
       "      <td>1</td>\n",
       "      <td>43393355</td>\n",
       "      <td>C</td>\n",
       "      <td>T</td>\n",
       "      <td>PATHOGENIC</td>\n",
       "      <td>MFS_1:44,Sugar_tr:29</td>\n",
       "      <td>0.0</td>\n",
       "      <td>missense_variant</td>\n",
       "      <td>1</td>\n",
       "      <td>8419</td>\n",
       "      <td>...</td>\n",
       "      <td>SLC2A1</td>\n",
       "      <td>0.000119</td>\n",
       "      <td>1.0</td>\n",
       "      <td>9.0</td>\n",
       "      <td>0</td>\n",
       "      <td>0</td>\n",
       "      <td>0.000594</td>\n",
       "      <td>0.000000</td>\n",
       "      <td>True</td>\n",
       "      <td>1</td>\n",
       "    </tr>\n",
       "    <tr>\n",
       "      <th>35</th>\n",
       "      <td>1</td>\n",
       "      <td>43393356</td>\n",
       "      <td>G</td>\n",
       "      <td>A</td>\n",
       "      <td>PATHOGENIC</td>\n",
       "      <td>MFS_1:44,Sugar_tr:29</td>\n",
       "      <td>0.0</td>\n",
       "      <td>missense_variant</td>\n",
       "      <td>2</td>\n",
       "      <td>8418</td>\n",
       "      <td>...</td>\n",
       "      <td>SLC2A1</td>\n",
       "      <td>0.000238</td>\n",
       "      <td>1.0</td>\n",
       "      <td>9.0</td>\n",
       "      <td>0</td>\n",
       "      <td>0</td>\n",
       "      <td>0.000594</td>\n",
       "      <td>0.000000</td>\n",
       "      <td>True</td>\n",
       "      <td>1</td>\n",
       "    </tr>\n",
       "    <tr>\n",
       "      <th>36</th>\n",
       "      <td>1</td>\n",
       "      <td>43393397</td>\n",
       "      <td>A</td>\n",
       "      <td>C</td>\n",
       "      <td>LIKLEY_PATHOGENIC</td>\n",
       "      <td>MFS_1:44,Sugar_tr:29</td>\n",
       "      <td>0.0</td>\n",
       "      <td>missense_variant</td>\n",
       "      <td>1</td>\n",
       "      <td>8419</td>\n",
       "      <td>...</td>\n",
       "      <td>SLC2A1</td>\n",
       "      <td>0.000119</td>\n",
       "      <td>1.0</td>\n",
       "      <td>9.0</td>\n",
       "      <td>0</td>\n",
       "      <td>0</td>\n",
       "      <td>0.000594</td>\n",
       "      <td>0.000000</td>\n",
       "      <td>True</td>\n",
       "      <td>1</td>\n",
       "    </tr>\n",
       "  </tbody>\n",
       "</table>\n",
       "<p>5 rows × 30 columns</p>\n",
       "</div>"
      ],
      "text/plain": [
       "   chrom       pos ref alt         clin_class                  pfam  \\\n",
       "18     1  40557754   A   C         PATHOGENIC       Palm_thioest:10   \n",
       "19     1  40557769   T   C      LIKELY_BENIGN       Palm_thioest:10   \n",
       "34     1  43393355   C   T         PATHOGENIC  MFS_1:44,Sugar_tr:29   \n",
       "35     1  43393356   G   A         PATHOGENIC  MFS_1:44,Sugar_tr:29   \n",
       "36     1  43393397   A   C  LIKLEY_PATHOGENIC  MFS_1:44,Sugar_tr:29   \n",
       "\n",
       "    af_1kg_all               eff  pos_fam  neg_fam ... Hugo_Symbol      freq  \\\n",
       "18         0.0  missense_variant        1     8544 ...        PPT1  0.000117   \n",
       "19         0.0  missense_variant        2     8543 ...        PPT1  0.000234   \n",
       "34         0.0  missense_variant        1     8419 ...      SLC2A1  0.000119   \n",
       "35         0.0  missense_variant        2     8418 ...      SLC2A1  0.000238   \n",
       "36         0.0  missense_variant        1     8419 ...      SLC2A1  0.000119   \n",
       "\n",
       "    path_frac_t  size_t  path_na_t  in_none_pfam path_freq  benign_freq  \\\n",
       "18          0.5     3.0          0             0  0.000117     0.000234   \n",
       "19          0.5     3.0          0             0  0.000117     0.000234   \n",
       "34          1.0     9.0          0             0  0.000594     0.000000   \n",
       "35          1.0     9.0          0             0  0.000594     0.000000   \n",
       "36          1.0     9.0          0             0  0.000594     0.000000   \n",
       "\n",
       "   multi_pfam  y  \n",
       "18       True  1  \n",
       "19       True  0  \n",
       "34       True  1  \n",
       "35       True  1  \n",
       "36       True  1  \n",
       "\n",
       "[5 rows x 30 columns]"
      ]
     },
     "execution_count": 9,
     "metadata": {},
     "output_type": "execute_result"
    }
   ],
   "source": [
    "# this is for training\n",
    "# use not just missense\n",
    "# I do not need to require an mpc score here anymore\n",
    "df_x_pre = df_pre[ (df_pre.clin_class != 'VUS') & \n",
    "                   (df_pre.mpc>0)]\n",
    "df_s = df_x_pre.groupby('pfam').size().reset_index()\n",
    "multi_pfam = set( df_s[df_s[0]>1]['pfam'].values )\n",
    "df_x_pre.loc[:, 'multi_pfam'] = df_x_pre.apply(lambda row: row['pfam'] in multi_pfam, axis=1)\n",
    "df_x = df_x_pre[df_x_pre.multi_pfam]\n",
    "df_x.loc[:, 'y'] = df_x.apply(lambda row: 1 if row['clin_class'] in ('PATHOGENIC', 'LIKLEY_PATHOGENIC')\n",
    "                            else 0, axis=1)\n",
    "df_x.head()"
   ]
  },
  {
   "cell_type": "code",
   "execution_count": 12,
   "metadata": {
    "collapsed": false
   },
   "outputs": [
    {
     "name": "stdout",
     "output_type": "stream",
     "text": [
      "787\n"
     ]
    }
   ],
   "source": [
    "train_keys = {':'.join([str(x) for x in v]):True for v in df_x[['chrom', 'pos', 'ref', 'alt']].values}\n",
    "print(len(train_keys))"
   ]
  },
  {
   "cell_type": "code",
   "execution_count": 61,
   "metadata": {
    "collapsed": false
   },
   "outputs": [
    {
     "name": "stdout",
     "output_type": "stream",
     "text": [
      "610\n"
     ]
    }
   ],
   "source": [
    "clin_file = '../data/interim/clinvar/clinvar.dat'\n",
    "clinvar_df_pre = pandas.read_csv(clin_file, sep='\\t').fillna(0)\n",
    "def calc_final_sig(row):\n",
    "    sig_set = set(str(row['clinSig'].split('|')))\n",
    "    has_benign = '2' in sig_set or '3' in sig_set\n",
    "    has_path = '4' in sig_set or '5' in sig_set\n",
    "    if has_path and not has_benign:\n",
    "        return 1\n",
    "    if not has_path and has_benign:\n",
    "        return 0\n",
    "    return -1\n",
    "focus_gene_ls = ('SCN1A','SCN2A','KCNQ2', 'KCNQ3', 'CDKL5', 'PCDH19', 'SCN1B', 'SCN8A', 'SLC2A1', 'SPTAN1', 'STXBP1', 'TSC1')\n",
    "clinvar_df_pre.loc[:, \"y\"] = clinvar_df_pre.apply(calc_final_sig, axis=1)\n",
    "clinvar_df_pre.loc[:, \"key\"] = clinvar_df_pre.apply(lambda row: ':'.join([str(row[x]) for x in ['chrom', 'pos', 'ref', 'alt']]), axis=1)\n",
    "clinvar_df_pre.loc[:, \"not_in_training\"] = clinvar_df_pre.apply(lambda row: not row['key'] in train_keys, axis=1)\n",
    "clinvar_df_pre.loc[:, \"is_focus\"] = clinvar_df_pre.apply(lambda row: row['gene'] in focus_gene_ls, axis=1)\n",
    "print(len(clinvar_df_pre[~clinvar_df_pre.not_in_training]))\n",
    "clinvar_df = clinvar_df_pre[(clinvar_df_pre.eff=='missense_variant') \n",
    "                            & (clinvar_df_pre.y!=-1) \n",
    "                            & (clinvar_df_pre.mpc>0)\n",
    "                            & (clinvar_df_pre.not_in_training)\n",
    "                            & (clinvar_df_pre.is_focus)\n",
    "                            & (clinvar_df_pre.pfam != 'fuck')].drop_duplicates()\n",
    "clinvar_df.loc[:, 'path_frac_t'] = clinvar_df.apply(lambda row: match(row, domain_info)[0], axis=1)\n",
    "clinvar_df.loc[:, 'size_t'] = clinvar_df.apply(lambda row: match(row, domain_info)[1], axis=1)\n",
    "clinvar_df.loc[:, 'path_freq'] = clinvar_df.apply(lambda row: match(row, domain_info)[2], axis=1)\n",
    "clinvar_df.loc[:, 'benign_freq'] = clinvar_df.apply(lambda row: match(row, domain_info)[3], axis=1)\n",
    "clinvar_df.loc[:, 'path_na_t'] = clinvar_df.apply(lambda row: match(row, domain_info)[-1], axis=1)\n",
    "clinvar_df.loc[:, 'in_none_pfam'] = clinvar_df.apply(lambda row: 1 if 'none' in row['pfam'] else 0, axis=1)\n",
    "# need a smarter match to domain here\n",
    "#m = pandas.merge(clinvar_df, ff, on='pfam', how='left')\n",
    "#m.head()"
   ]
  },
  {
   "cell_type": "code",
   "execution_count": 62,
   "metadata": {
    "collapsed": false
   },
   "outputs": [
    {
     "name": "stdout",
     "output_type": "stream",
     "text": [
      "366\n",
      "293\n",
      "73\n"
     ]
    }
   ],
   "source": [
    "print(len(clinvar_df))\n",
    "print(len(clinvar_df[clinvar_df.y==1]))\n",
    "print(len(clinvar_df[clinvar_df.y==0]))"
   ]
  },
  {
   "cell_type": "code",
   "execution_count": 89,
   "metadata": {
    "collapsed": false
   },
   "outputs": [],
   "source": [
    "def eval_pred(row):\n",
    "    if (row['tree_pred']>.9 and row['y']==1) or (row['tree_pred']<.1 and row['y']==0):\n",
    "        return 'right'\n",
    "    if (row['tree_pred']>.9 and row['y']==0) or (row['tree_pred']<.1 and row['y']==1):\n",
    "        return 'wrong'\n",
    "    return 'vus'\n",
    "\n",
    "# train new tree and apply to clinvar\n",
    "tree_clf = linear_model.LogisticRegression(penalty='l1', fit_intercept=True)\n",
    "poly = PolynomialFeatures(degree=6, interaction_only=False, include_bias=False)\n",
    "\n",
    "all_preds = []\n",
    "all_truth = []\n",
    "cols = ['mpc', 'size_t', 'path_na_t', 'path_frac_t', 'in_none_pfam', 'path_freq', 'benign_freq']\n",
    "X, y = poly.fit_transform(df_x[cols]), df_x['y']\n",
    "tree_clf.fit(X, y)\n",
    "\n",
    "X_clin, y_clin = poly.fit_transform(clinvar_df[cols]), clinvar_df['y']\n",
    "preds = [ x[1] for x in tree_clf.predict_proba(X_clin) ]\n",
    "clinvar_df['tree_pred'] = preds\n",
    "clinvar_df.loc[:, 'tree_correct'] = clinvar_df.apply(eval_pred, axis=1)\n",
    "fpr_tree, tpr_tree, _ = metrics.roc_curve(y_clin, preds, pos_label=1)\n",
    "tree_auc = metrics.auc(fpr_tree, tpr_tree)"
   ]
  },
  {
   "cell_type": "code",
   "execution_count": 90,
   "metadata": {
    "collapsed": false
   },
   "outputs": [
    {
     "data": {
      "image/png": "[encoded data removed]",
      "text/plain": [
       "<matplotlib.figure.Figure at 0x7fdfc04c5358>"
      ]
     },
     "metadata": {},
     "output_type": "display_data"
    }
   ],
   "source": [
    "#plt.rcParams['figure.figsize'] = 20, 6\n",
    "#plt.figure(figsize=(40,6))\n",
    "#f, ax = plt.subplots(figsize=(40,6))\n",
    "#sns.set_context(\"talk\")\n",
    "g_df = (clinvar_df[['gene', 'chrom', 'pos', 'ref', 'alt', 'tree_correct']]\n",
    "        .groupby(['gene','tree_correct'])\n",
    "        .size().reset_index().rename(columns={0:'size'}))\n",
    "dd = g_df.groupby('gene').sum().reset_index()\n",
    "use_genes = set(dd[dd['size']>10]['gene'].values)\n",
    "g_df.loc[:, 'keep'] = g_df.apply(lambda row: row['gene'] in use_genes, axis=1)\n",
    "ss = sns.factorplot(x='gene', hue='tree_correct', y='size', data=g_df[g_df['keep']],\n",
    "               kind='bar', palette='muted', size=5, aspect=6)\n",
    "ss.savefig(\"../docs/plots/clinvar_gene_eval.png\")\n",
    "#plt.figure(figsize=(50, 3))"
   ]
  },
  {
   "cell_type": "code",
   "execution_count": 91,
   "metadata": {
    "collapsed": true
   },
   "outputs": [],
   "source": [
    "# train new tree and apply to clinvar: just pathogenic frac\n",
    "tree_clf = linear_model.LogisticRegression(penalty='l1', fit_intercept=True)\n",
    "poly = PolynomialFeatures(degree=6, interaction_only=False, include_bias=False)\n",
    "\n",
    "all_preds = []\n",
    "all_truth = []\n",
    "cols = ['size_t', 'path_na_t', 'path_frac_t', 'path_freq', 'benign_freq', 'in_none_pfam',]\n",
    "X, y = poly.fit_transform(df_x[cols]), df_x['y'] #X, y = df_x[cols], df_x['y']\n",
    "tree_clf.fit(X, y)\n",
    "\n",
    "X_clin, y_clin = poly.fit_transform(clinvar_df[cols]), clinvar_df['y'] #clinvar_df[cols], clinvar_df['y']\n",
    "preds = [ x[1] for x in tree_clf.predict_proba(X_clin) ]\n",
    "fpr_tree_nm, tpr_tree_nm, _ = metrics.roc_curve(y_clin, preds, pos_label=1)\n",
    "tree_auc_nm = metrics.auc(fpr_tree_nm, tpr_tree_nm)"
   ]
  },
  {
   "cell_type": "code",
   "execution_count": 92,
   "metadata": {
    "collapsed": true
   },
   "outputs": [],
   "source": [
    "scores = clinvar_df['mpc'].values\n",
    "truth = clinvar_df['y'].values\n",
    "fpr_mpc, tpr_mpc, _ = metrics.roc_curve(truth, scores, pos_label=1)\n",
    "mpc_auc = metrics.auc(fpr_mpc, tpr_mpc)"
   ]
  },
  {
   "cell_type": "code",
   "execution_count": 93,
   "metadata": {
    "collapsed": false
   },
   "outputs": [
    {
     "name": "stdout",
     "output_type": "stream",
     "text": [
      "mpc auc 0.888330450231\n",
      "tree auc 0.910935527608\n",
      "tree-no-mpc auc 0.896044695872\n"
     ]
    },
    {
     "data": {
      "text/plain": [
       "<matplotlib.text.Text at 0x7fdf302aa2e8>"
      ]
     },
     "execution_count": 93,
     "metadata": {},
     "output_type": "execute_result"
    },
    {
     "data": {
      "image/png": "[encoded data removed]",
      "text/plain": [
       "<matplotlib.figure.Figure at 0x7fdf742e8860>"
      ]
     },
     "metadata": {},
     "output_type": "display_data"
    }
   ],
   "source": [
    "#X_clin, y_clin = clinvar_df[cols], clinvar_df['y']\n",
    "#preds = tree_clf.predict_proba(X_clin)\n",
    "#fpr_tree, tpr_tree, _ = metrics.roc_curve(y_clin, [x[1] for x in preds], pos_label=1)\n",
    "#tree_auc = metrics.auc(fpr_tree, tpr_tree)\n",
    "#mpc_auc = metrics.auc(fpr_mpc, tpr_mpc)\n",
    "print('mpc auc', mpc_auc)\n",
    "print('tree auc', tree_auc)\n",
    "print('tree-no-mpc auc', tree_auc_nm)\n",
    "plt.plot(fpr_tree, tpr_tree, label='tree', color='green')\n",
    "plt.plot(fpr_tree_nm, tpr_tree_nm, label='tree-no-mpc', color='orange')\n",
    "plt.plot(fpr_mpc, tpr_mpc, label='mpc', color='black')\n",
    "plt.legend(loc=4)\n",
    "plt.title('ClinVar missense variant ROC curve')\n",
    "#plt.savefig('../docs/plots/missense_clinvar_roc_feature_union.png')"
   ]
  },
  {
   "cell_type": "code",
   "execution_count": null,
   "metadata": {
    "collapsed": true
   },
   "outputs": [],
   "source": []
  }
 ],
 "metadata": {
  "kernelspec": {
   "display_name": "Python 3",
   "language": "python",
   "name": "python3"
  },
  "language_info": {
   "codemirror_mode": {
    "name": "ipython",
    "version": 3
   },
   "file_extension": ".py",
   "mimetype": "text/x-python",
   "name": "python",
   "nbconvert_exporter": "python",
   "pygments_lexer": "ipython3",
   "version": "3.4.5"
  }
 },
 "nbformat": 4,
 "nbformat_minor": 2
}
