{
 "cells": [
  {
   "cell_type": "code",
   "execution_count": 1,
   "metadata": {
    "collapsed": false
   },
   "outputs": [
    {
     "name": "stderr",
     "output_type": "stream",
     "text": [
      "/opt/conda/lib/python3.4/site-packages/matplotlib/font_manager.py:273: UserWarning: Matplotlib is building the font cache using fc-list. This may take a moment.\n",
      "  warnings.warn('Matplotlib is building the font cache using fc-list. This may take a moment.')\n",
      "/opt/conda/lib/python3.4/site-packages/matplotlib/font_manager.py:273: UserWarning: Matplotlib is building the font cache using fc-list. This may take a moment.\n",
      "  warnings.warn('Matplotlib is building the font cache using fc-list. This may take a moment.')\n"
     ]
    }
   ],
   "source": [
    "import numpy as np\n",
    "import matplotlib.pyplot as plt\n",
    "import pandas as pd\n",
    "\n",
    "from sklearn.datasets import make_classification\n",
    "from sklearn.ensemble import ExtraTreesClassifier"
   ]
  },
  {
   "cell_type": "code",
   "execution_count": 9,
   "metadata": {
    "collapsed": false
   },
   "outputs": [
    {
     "data": {
      "text/html": [
       "<div>\n",
       "<table border=\"1\" class=\"dataframe\">\n",
       "  <thead>\n",
       "    <tr style=\"text-align: right;\">\n",
       "      <th></th>\n",
       "      <th>chrom</th>\n",
       "      <th>pos</th>\n",
       "      <th>ref</th>\n",
       "      <th>alt</th>\n",
       "      <th>clin_class</th>\n",
       "      <th>pfam</th>\n",
       "      <th>eff</th>\n",
       "      <th>gene</th>\n",
       "      <th>esp_af_max</th>\n",
       "      <th>ccr</th>\n",
       "      <th>fathmm</th>\n",
       "      <th>vest</th>\n",
       "      <th>missense_badness</th>\n",
       "      <th>missense_depletion</th>\n",
       "      <th>class</th>\n",
       "      <th>in_hgmd_dm</th>\n",
       "      <th>is_domain</th>\n",
       "      <th>y</th>\n",
       "      <th>in_uniprot_benign</th>\n",
       "    </tr>\n",
       "  </thead>\n",
       "  <tbody>\n",
       "    <tr>\n",
       "      <th>0</th>\n",
       "      <td>1</td>\n",
       "      <td>40542572</td>\n",
       "      <td>T</td>\n",
       "      <td>C</td>\n",
       "      <td>PATHOGENIC</td>\n",
       "      <td>Palm_thioest:3</td>\n",
       "      <td>missense_variant</td>\n",
       "      <td>PPT1</td>\n",
       "      <td>0.000000</td>\n",
       "      <td>0.0000</td>\n",
       "      <td>-4.47</td>\n",
       "      <td>0.805</td>\n",
       "      <td>0.5888</td>\n",
       "      <td>1.0504</td>\n",
       "      <td>P</td>\n",
       "      <td>False</td>\n",
       "      <td>1</td>\n",
       "      <td>1</td>\n",
       "      <td>False</td>\n",
       "    </tr>\n",
       "    <tr>\n",
       "      <th>1</th>\n",
       "      <td>1</td>\n",
       "      <td>40557769</td>\n",
       "      <td>T</td>\n",
       "      <td>C</td>\n",
       "      <td>LIKELY_BENIGN</td>\n",
       "      <td>Palm_thioest:10</td>\n",
       "      <td>missense_variant</td>\n",
       "      <td>PPT1</td>\n",
       "      <td>0.000077</td>\n",
       "      <td>0.0000</td>\n",
       "      <td>-4.35</td>\n",
       "      <td>0.163</td>\n",
       "      <td>0.7114</td>\n",
       "      <td>1.0504</td>\n",
       "      <td>B</td>\n",
       "      <td>True</td>\n",
       "      <td>1</td>\n",
       "      <td>0</td>\n",
       "      <td>False</td>\n",
       "    </tr>\n",
       "    <tr>\n",
       "      <th>2</th>\n",
       "      <td>1</td>\n",
       "      <td>43393397</td>\n",
       "      <td>A</td>\n",
       "      <td>C</td>\n",
       "      <td>LIKLEY_PATHOGENIC</td>\n",
       "      <td>MFS_1:44,Sugar_tr:29</td>\n",
       "      <td>missense_variant</td>\n",
       "      <td>SLC2A1</td>\n",
       "      <td>0.000000</td>\n",
       "      <td>95.6379</td>\n",
       "      <td>-1.08</td>\n",
       "      <td>0.866</td>\n",
       "      <td>0.7627</td>\n",
       "      <td>0.4825</td>\n",
       "      <td>P</td>\n",
       "      <td>False</td>\n",
       "      <td>1</td>\n",
       "      <td>1</td>\n",
       "      <td>False</td>\n",
       "    </tr>\n",
       "    <tr>\n",
       "      <th>3</th>\n",
       "      <td>1</td>\n",
       "      <td>43395283</td>\n",
       "      <td>T</td>\n",
       "      <td>C</td>\n",
       "      <td>PATHOGENIC</td>\n",
       "      <td>MFS_1:47,Sugar_tr:32</td>\n",
       "      <td>missense_variant</td>\n",
       "      <td>SLC2A1</td>\n",
       "      <td>0.000000</td>\n",
       "      <td>96.3719</td>\n",
       "      <td>-1.46</td>\n",
       "      <td>0.883</td>\n",
       "      <td>0.4280</td>\n",
       "      <td>0.4825</td>\n",
       "      <td>P</td>\n",
       "      <td>False</td>\n",
       "      <td>1</td>\n",
       "      <td>1</td>\n",
       "      <td>False</td>\n",
       "    </tr>\n",
       "    <tr>\n",
       "      <th>4</th>\n",
       "      <td>1</td>\n",
       "      <td>43395386</td>\n",
       "      <td>G</td>\n",
       "      <td>A</td>\n",
       "      <td>LIKLEY_PATHOGENIC</td>\n",
       "      <td>MFS_1:47,Sugar_tr:32</td>\n",
       "      <td>missense_variant</td>\n",
       "      <td>SLC2A1</td>\n",
       "      <td>0.000000</td>\n",
       "      <td>55.9748</td>\n",
       "      <td>-0.84</td>\n",
       "      <td>0.414</td>\n",
       "      <td>0.3941</td>\n",
       "      <td>0.4825</td>\n",
       "      <td>P</td>\n",
       "      <td>False</td>\n",
       "      <td>1</td>\n",
       "      <td>1</td>\n",
       "      <td>False</td>\n",
       "    </tr>\n",
       "  </tbody>\n",
       "</table>\n",
       "</div>"
      ],
      "text/plain": [
       "   chrom       pos ref alt         clin_class                  pfam  \\\n",
       "0      1  40542572   T   C         PATHOGENIC        Palm_thioest:3   \n",
       "1      1  40557769   T   C      LIKELY_BENIGN       Palm_thioest:10   \n",
       "2      1  43393397   A   C  LIKLEY_PATHOGENIC  MFS_1:44,Sugar_tr:29   \n",
       "3      1  43395283   T   C         PATHOGENIC  MFS_1:47,Sugar_tr:32   \n",
       "4      1  43395386   G   A  LIKLEY_PATHOGENIC  MFS_1:47,Sugar_tr:32   \n",
       "\n",
       "                eff    gene  esp_af_max      ccr  fathmm   vest  \\\n",
       "0  missense_variant    PPT1    0.000000   0.0000   -4.47  0.805   \n",
       "1  missense_variant    PPT1    0.000077   0.0000   -4.35  0.163   \n",
       "2  missense_variant  SLC2A1    0.000000  95.6379   -1.08  0.866   \n",
       "3  missense_variant  SLC2A1    0.000000  96.3719   -1.46  0.883   \n",
       "4  missense_variant  SLC2A1    0.000000  55.9748   -0.84  0.414   \n",
       "\n",
       "   missense_badness  missense_depletion class in_hgmd_dm  is_domain  y  \\\n",
       "0            0.5888              1.0504     P      False          1  1   \n",
       "1            0.7114              1.0504     B       True          1  0   \n",
       "2            0.7627              0.4825     P      False          1  1   \n",
       "3            0.4280              0.4825     P      False          1  1   \n",
       "4            0.3941              0.4825     P      False          1  1   \n",
       "\n",
       "  in_uniprot_benign  \n",
       "0             False  \n",
       "1             False  \n",
       "2             False  \n",
       "3             False  \n",
       "4             False  "
      ]
     },
     "execution_count": 9,
     "metadata": {},
     "output_type": "execute_result"
    }
   ],
   "source": [
    "afile = '../data/interim/epi/EPIv6.eff.dbnsfp.anno.dat.limit.xls'\n",
    "df = pd.read_csv(afile, sep='\\t')\n",
    "cols = ['ccr', 'fathmm', 'vest', 'missense_badness', 'missense_depletion', 'is_domain']\n",
    "X = df[cols]\n",
    "y = df['y']\n",
    "df.head()"
   ]
  },
  {
   "cell_type": "code",
   "execution_count": 11,
   "metadata": {
    "collapsed": false
   },
   "outputs": [
    {
     "name": "stdout",
     "output_type": "stream",
     "text": [
      "Feature ranking:\n",
      "1. ccr (0.340406)\n",
      "2. vest (0.317401)\n",
      "3. fathmm (0.163914)\n",
      "4. missense_depletion (0.098057)\n",
      "5. missense_badness (0.048257)\n",
      "6. is_domain (0.031965)\n"
     ]
    },
    {
     "data": {
      "image/png": "[encoded data removed]",
      "text/plain": [
       "<matplotlib.figure.Figure at 0x7fd39c09b470>"
      ]
     },
     "metadata": {},
     "output_type": "display_data"
    }
   ],
   "source": [
    "# Build a forest and compute the feature importances\n",
    "forest = ExtraTreesClassifier(n_estimators=250,\n",
    "                              random_state=0)\n",
    "\n",
    "forest.fit(X, y)\n",
    "importances = forest.feature_importances_\n",
    "std = np.std([tree.feature_importances_ for tree in forest.estimators_],\n",
    "             axis=0)\n",
    "indices = np.argsort(importances)[::-1]\n",
    "\n",
    "# Print the feature ranking\n",
    "print(\"Feature ranking:\")\n",
    "\n",
    "for f in range(X.shape[1]):\n",
    "    print(\"%d. %s (%f)\" % (f + 1, cols[indices[f]], importances[indices[f]]))\n",
    "\n",
    "# Plot the feature importances of the forest\n",
    "plt.figure()\n",
    "plt.title(\"Feature importances\")\n",
    "plt.bar(range(X.shape[1]), importances[indices],\n",
    "       color=\"r\", yerr=std[indices], align=\"center\")\n",
    "plt.xticks(range(X.shape[1]), indices)\n",
    "plt.xlim([-1, X.shape[1]])\n",
    "plt.show()"
   ]
  },
  {
   "cell_type": "code",
   "execution_count": null,
   "metadata": {
    "collapsed": true
   },
   "outputs": [],
   "source": []
  }
 ],
 "metadata": {
  "kernelspec": {
   "display_name": "Python 3",
   "language": "python",
   "name": "python3"
  },
  "language_info": {
   "codemirror_mode": {
    "name": "ipython",
    "version": 3
   },
   "file_extension": ".py",
   "mimetype": "text/x-python",
   "name": "python",
   "nbconvert_exporter": "python",
   "pygments_lexer": "ipython3",
   "version": "3.4.5"
  }
 },
 "nbformat": 4,
 "nbformat_minor": 2
}
