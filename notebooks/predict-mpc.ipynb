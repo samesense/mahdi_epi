{
 "cells": [
  {
   "cell_type": "markdown",
   "metadata": {},
   "source": [
    "### predict path/benign w/ mpc score\n",
    "* hold out one gene at a time?"
   ]
  },
  {
   "cell_type": "code",
   "execution_count": 15,
   "metadata": {
    "collapsed": true
   },
   "outputs": [],
   "source": [
    "import pandas\n",
    "import matplotlib.pyplot as plt\n",
    "from sklearn import linear_model, metrics\n",
    "%matplotlib inline"
   ]
  },
  {
   "cell_type": "code",
   "execution_count": 19,
   "metadata": {
    "collapsed": false
   },
   "outputs": [
    {
     "name": "stderr",
     "output_type": "stream",
     "text": [
      "/opt/conda/lib/python3.4/site-packages/IPython/core/interactiveshell.py:2717: DtypeWarning: Columns (0) have mixed types. Specify dtype option on import or set low_memory=False.\n",
      "  interactivity=interactivity, compiler=compiler, result=result)\n",
      "/opt/conda/lib/python3.4/site-packages/pandas/core/indexing.py:297: SettingWithCopyWarning: \n",
      "A value is trying to be set on a copy of a slice from a DataFrame.\n",
      "Try using .loc[row_indexer,col_indexer] = value instead\n",
      "\n",
      "See the caveats in the documentation: http://pandas.pydata.org/pandas-docs/stable/indexing.html#indexing-view-versus-copy\n",
      "  self.obj[key] = _infer_fill_value(value)\n",
      "/opt/conda/lib/python3.4/site-packages/pandas/core/indexing.py:477: SettingWithCopyWarning: \n",
      "A value is trying to be set on a copy of a slice from a DataFrame.\n",
      "Try using .loc[row_indexer,col_indexer] = value instead\n",
      "\n",
      "See the caveats in the documentation: http://pandas.pydata.org/pandas-docs/stable/indexing.html#indexing-view-versus-copy\n",
      "  self.obj[item] = s\n"
     ]
    },
    {
     "data": {
      "text/html": [
       "<div>\n",
       "<table border=\"1\" class=\"dataframe\">\n",
       "  <thead>\n",
       "    <tr style=\"text-align: right;\">\n",
       "      <th></th>\n",
       "      <th>chrom</th>\n",
       "      <th>pos</th>\n",
       "      <th>ref</th>\n",
       "      <th>alt</th>\n",
       "      <th>clin_class</th>\n",
       "      <th>pfam</th>\n",
       "      <th>af_1kg_all</th>\n",
       "      <th>eff</th>\n",
       "      <th>pos_fam</th>\n",
       "      <th>neg_fam</th>\n",
       "      <th>gene</th>\n",
       "      <th>mpc</th>\n",
       "      <th>all_fg_gtr</th>\n",
       "      <th>all_qval</th>\n",
       "      <th>y</th>\n",
       "    </tr>\n",
       "  </thead>\n",
       "  <tbody>\n",
       "    <tr>\n",
       "      <th>6</th>\n",
       "      <td>1</td>\n",
       "      <td>40542572</td>\n",
       "      <td>T</td>\n",
       "      <td>C</td>\n",
       "      <td>PATHOGENIC</td>\n",
       "      <td>Palm_thioest:3</td>\n",
       "      <td>0.000000</td>\n",
       "      <td>missense_variant</td>\n",
       "      <td>2</td>\n",
       "      <td>8544</td>\n",
       "      <td>PPT1</td>\n",
       "      <td>0.6458</td>\n",
       "      <td>True</td>\n",
       "      <td>0.043341</td>\n",
       "      <td>1</td>\n",
       "    </tr>\n",
       "    <tr>\n",
       "      <th>16</th>\n",
       "      <td>1</td>\n",
       "      <td>40555089</td>\n",
       "      <td>G</td>\n",
       "      <td>C</td>\n",
       "      <td>PATHOGENIC</td>\n",
       "      <td>Palm_thioest:6</td>\n",
       "      <td>0.000000</td>\n",
       "      <td>missense_variant</td>\n",
       "      <td>1</td>\n",
       "      <td>8544</td>\n",
       "      <td>PPT1</td>\n",
       "      <td>0.6009</td>\n",
       "      <td>False</td>\n",
       "      <td>0.053245</td>\n",
       "      <td>1</td>\n",
       "    </tr>\n",
       "    <tr>\n",
       "      <th>17</th>\n",
       "      <td>1</td>\n",
       "      <td>40555089</td>\n",
       "      <td>G</td>\n",
       "      <td>C</td>\n",
       "      <td>PATHOGENIC</td>\n",
       "      <td>Palm_thioest:7</td>\n",
       "      <td>0.000000</td>\n",
       "      <td>missense_variant</td>\n",
       "      <td>1</td>\n",
       "      <td>8544</td>\n",
       "      <td>PPT1</td>\n",
       "      <td>0.6009</td>\n",
       "      <td>False</td>\n",
       "      <td>0.053245</td>\n",
       "      <td>1</td>\n",
       "    </tr>\n",
       "    <tr>\n",
       "      <th>22</th>\n",
       "      <td>1</td>\n",
       "      <td>40557070</td>\n",
       "      <td>T</td>\n",
       "      <td>A</td>\n",
       "      <td>PATHOGENIC</td>\n",
       "      <td>Palm_thioest:9</td>\n",
       "      <td>0.000599</td>\n",
       "      <td>missense_variant</td>\n",
       "      <td>2</td>\n",
       "      <td>8543</td>\n",
       "      <td>PPT1</td>\n",
       "      <td>0.5571</td>\n",
       "      <td>False</td>\n",
       "      <td>0.000233</td>\n",
       "      <td>1</td>\n",
       "    </tr>\n",
       "    <tr>\n",
       "      <th>24</th>\n",
       "      <td>1</td>\n",
       "      <td>40557754</td>\n",
       "      <td>A</td>\n",
       "      <td>C</td>\n",
       "      <td>PATHOGENIC</td>\n",
       "      <td>Palm_thioest:10</td>\n",
       "      <td>0.000000</td>\n",
       "      <td>missense_variant</td>\n",
       "      <td>1</td>\n",
       "      <td>8544</td>\n",
       "      <td>PPT1</td>\n",
       "      <td>0.7771</td>\n",
       "      <td>True</td>\n",
       "      <td>0.799538</td>\n",
       "      <td>1</td>\n",
       "    </tr>\n",
       "  </tbody>\n",
       "</table>\n",
       "</div>"
      ],
      "text/plain": [
       "   chrom       pos ref alt  clin_class             pfam  af_1kg_all  \\\n",
       "6      1  40542572   T   C  PATHOGENIC   Palm_thioest:3    0.000000   \n",
       "16     1  40555089   G   C  PATHOGENIC   Palm_thioest:6    0.000000   \n",
       "17     1  40555089   G   C  PATHOGENIC   Palm_thioest:7    0.000000   \n",
       "22     1  40557070   T   A  PATHOGENIC   Palm_thioest:9    0.000599   \n",
       "24     1  40557754   A   C  PATHOGENIC  Palm_thioest:10    0.000000   \n",
       "\n",
       "                 eff  pos_fam  neg_fam  gene     mpc all_fg_gtr  all_qval  y  \n",
       "6   missense_variant        2     8544  PPT1  0.6458       True  0.043341  1  \n",
       "16  missense_variant        1     8544  PPT1  0.6009      False  0.053245  1  \n",
       "17  missense_variant        1     8544  PPT1  0.6009      False  0.053245  1  \n",
       "22  missense_variant        2     8543  PPT1  0.5571      False  0.000233  1  \n",
       "24  missense_variant        1     8544  PPT1  0.7771       True  0.799538  1  "
      ]
     },
     "execution_count": 19,
     "metadata": {},
     "output_type": "execute_result"
    }
   ],
   "source": [
    "f = '../data/interim/sig_flagged/EPIv6.eff.dbnsfp.anno.hHack.splitPfam.all.dat'\n",
    "df_pre = pandas.read_csv(f, delimiter='\\t')\n",
    "\n",
    "# not VUS, and mpc needs to be available\n",
    "df = df_pre[ (df_pre.clin_class != 'VUS') & (df_pre.mpc>0)]\n",
    "df.loc[:, 'y'] = df.apply(lambda row: 1 if row['clin_class'] in ('PATHOGENIC', 'LIKLEY_PATHOGENIC')\n",
    "                          else 0, axis=1)\n",
    "df.head()"
   ]
  },
  {
   "cell_type": "code",
   "execution_count": 20,
   "metadata": {
    "collapsed": false
   },
   "outputs": [
    {
     "data": {
      "text/plain": [
       "gene      y\n",
       "ADSL      0     101\n",
       "          1    1010\n",
       "ALDH7A1   0     105\n",
       "          1      14\n",
       "ARX       0     404\n",
       "          1       1\n",
       "ATP1A2    0       4\n",
       "          1     105\n",
       "ATP6AP2   0     103\n",
       "CACNB4    0       2\n",
       "CDKL5     0     406\n",
       "          1     133\n",
       "CHRNA2    0     110\n",
       "CHRNA4    0     416\n",
       "          1       2\n",
       "CHRNB2    0       7\n",
       "          1       2\n",
       "CLN3      0       6\n",
       "          1       1\n",
       "CLN5      0     909\n",
       "          1     303\n",
       "CLN6      0     505\n",
       "          1     606\n",
       "CLN8      0     202\n",
       "          1     101\n",
       "CNTNAP2   0     823\n",
       "CSTB      0       3\n",
       "CTSD      0     205\n",
       "          1       2\n",
       "EFHC1     0     405\n",
       "               ... \n",
       "PRRT2     0     404\n",
       "          1     101\n",
       "SCARB2    0       3\n",
       "SCN1A     0     404\n",
       "          1    4026\n",
       "SCN1B     0     406\n",
       "          1       7\n",
       "SCN2A     0     305\n",
       "          1    1054\n",
       "SCN8A     1    1023\n",
       "SLC25A22  0       9\n",
       "SLC2A1    1      50\n",
       "SLC9A6    0     203\n",
       "          1     102\n",
       "SPTAN1    0     950\n",
       "          1       2\n",
       "SRPX2     0     306\n",
       "STXBP1    0       6\n",
       "          1      16\n",
       "SYN1      0     102\n",
       "TBC1D24   0     608\n",
       "          1     404\n",
       "TCF4      0     404\n",
       "          1       3\n",
       "TPP1      0     808\n",
       "          1    1010\n",
       "TSC1      0    1139\n",
       "UBE3A     0     404\n",
       "          1       1\n",
       "ZEB2      0    2425\n",
       "dtype: int64"
      ]
     },
     "execution_count": 20,
     "metadata": {},
     "output_type": "execute_result"
    }
   ],
   "source": [
    "df.groupby(['gene', 'y']).size()"
   ]
  },
  {
   "cell_type": "code",
   "execution_count": 21,
   "metadata": {
    "collapsed": false
   },
   "outputs": [
    {
     "data": {
      "text/plain": [
       "[<matplotlib.lines.Line2D at 0x7f7ce6a505f8>]"
      ]
     },
     "execution_count": 21,
     "metadata": {},
     "output_type": "execute_result"
    },
    {
     "data": {
      "image/png": "[encoded data removed]",
      "text/plain": [
       "<matplotlib.figure.Figure at 0x7f7d0d46bc50>"
      ]
     },
     "metadata": {},
     "output_type": "display_data"
    }
   ],
   "source": [
    "scores = df['mpc'].values\n",
    "truth = df['y'].values\n",
    "fpr, tpr, thresh_roc = metrics.roc_curve(truth, scores, pos_label=1)\n",
    "pre, rec, thresh_pr = metrics.precision_recall_curve(truth, scores, pos_label=1)\n",
    "plt.plot(fpr, tpr)"
   ]
  },
  {
   "cell_type": "code",
   "execution_count": 22,
   "metadata": {
    "collapsed": false
   },
   "outputs": [
    {
     "data": {
      "text/plain": [
       "array([[<matplotlib.axes._subplots.AxesSubplot object at 0x7f7ce6ab0748>]], dtype=object)"
      ]
     },
     "execution_count": 22,
     "metadata": {},
     "output_type": "execute_result"
    },
    {
     "data": {
      "image/png": "[encoded data removed]",
      "text/plain": [
       "<matplotlib.figure.Figure at 0x7f7cd98a5128>"
      ]
     },
     "metadata": {},
     "output_type": "display_data"
    }
   ],
   "source": [
    "df.hist(column='mpc')"
   ]
  },
  {
   "cell_type": "code",
   "execution_count": null,
   "metadata": {
    "collapsed": true
   },
   "outputs": [],
   "source": []
  }
 ],
 "metadata": {
  "kernelspec": {
   "display_name": "Python 3",
   "language": "python",
   "name": "python3"
  },
  "language_info": {
   "codemirror_mode": {
    "name": "ipython",
    "version": 3
   },
   "file_extension": ".py",
   "mimetype": "text/x-python",
   "name": "python",
   "nbconvert_exporter": "python",
   "pygments_lexer": "ipython3",
   "version": "3.4.5"
  }
 },
 "nbformat": 4,
 "nbformat_minor": 2
}
