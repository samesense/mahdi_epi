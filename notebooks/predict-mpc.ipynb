{
 "cells": [
  {
   "cell_type": "markdown",
   "metadata": {},
   "source": [
    "### predict path/benign w/ mpc score\n",
    "* hold out one gene at a time\n",
    "* eval on just domains looks very bad for my score\n",
    "* nn and decision tree do not help"
   ]
  },
  {
   "cell_type": "code",
   "execution_count": 108,
   "metadata": {
    "collapsed": false
   },
   "outputs": [],
   "source": [
    "import pandas, pydot, pydotplus, graphviz\n",
    "import matplotlib.pyplot as plt\n",
    "from sklearn import linear_model, metrics, tree\n",
    "from sklearn.neural_network import MLPClassifier\n",
    "from sklearn.externals.six import StringIO\n",
    "from IPython.display import HTML\n",
    "%matplotlib inline"
   ]
  },
  {
   "cell_type": "code",
   "execution_count": 105,
   "metadata": {
    "collapsed": false
   },
   "outputs": [
    {
     "name": "stdout",
     "output_type": "stream",
     "text": [
      "Fetching package metadata ...........\n",
      "Solving package specifications: .\n",
      "\n",
      "Package plan for installation in environment /opt/conda:\n",
      "\n",
      "The following NEW packages will be INSTALLED:\n",
      "\n",
      "    expat:    2.1.0-0     \n",
      "    graphviz: 2.38.0-5    \n",
      "    libtool:  2.4.2-0     \n",
      "\n",
      "The following packages will be UPDATED:\n",
      "\n",
      "    conda:    4.3.9-py34_0 --> 4.3.25-py34_0\n",
      "\n",
      "expat-2.1.0-0. 100% |################################| Time: 0:00:00   4.02 MB/s\n",
      "libtool-2.4.2- 100% |################################| Time: 0:00:00   5.10 MB/s\n",
      "conda-4.3.25-p 100% |################################| Time: 0:00:00   4.95 MB/s\n",
      "graphviz-2.38. 100% |################################| Time: 0:00:02   4.89 MB/s\n"
     ]
    }
   ],
   "source": [
    "#!pip install pydot\n",
    "#!pip install pydotplus\n",
    "#!pip install graphviz\n",
    "!conda install graphviz -y"
   ]
  },
  {
   "cell_type": "code",
   "execution_count": 143,
   "metadata": {
    "collapsed": false
   },
   "outputs": [],
   "source": [
    "# hidden_layer_sizes=(2,1,)\n",
    "clf = MLPClassifier(solver='lbfgs', alpha=1e-5,\n",
    "                    random_state=1)\n",
    "tree_clf = tree.DecisionTreeClassifier(max_depth=3)"
   ]
  },
  {
   "cell_type": "code",
   "execution_count": 145,
   "metadata": {
    "collapsed": false
   },
   "outputs": [
    {
     "name": "stderr",
     "output_type": "stream",
     "text": [
      "/opt/conda/lib/python3.4/site-packages/IPython/core/interactiveshell.py:2717: DtypeWarning: Columns (0) have mixed types. Specify dtype option on import or set low_memory=False.\n",
      "  interactivity=interactivity, compiler=compiler, result=result)\n",
      "/opt/conda/lib/python3.4/site-packages/pandas/core/indexing.py:297: SettingWithCopyWarning: \n",
      "A value is trying to be set on a copy of a slice from a DataFrame.\n",
      "Try using .loc[row_indexer,col_indexer] = value instead\n",
      "\n",
      "See the caveats in the documentation: http://pandas.pydata.org/pandas-docs/stable/indexing.html#indexing-view-versus-copy\n",
      "  self.obj[key] = _infer_fill_value(value)\n",
      "/opt/conda/lib/python3.4/site-packages/pandas/core/indexing.py:477: SettingWithCopyWarning: \n",
      "A value is trying to be set on a copy of a slice from a DataFrame.\n",
      "Try using .loc[row_indexer,col_indexer] = value instead\n",
      "\n",
      "See the caveats in the documentation: http://pandas.pydata.org/pandas-docs/stable/indexing.html#indexing-view-versus-copy\n",
      "  self.obj[item] = s\n"
     ]
    },
    {
     "data": {
      "text/html": [
       "<div>\n",
       "<table border=\"1\" class=\"dataframe\">\n",
       "  <thead>\n",
       "    <tr style=\"text-align: right;\">\n",
       "      <th></th>\n",
       "      <th>chrom</th>\n",
       "      <th>pos</th>\n",
       "      <th>ref</th>\n",
       "      <th>alt</th>\n",
       "      <th>clin_class</th>\n",
       "      <th>pfam</th>\n",
       "      <th>af_1kg_all</th>\n",
       "      <th>eff</th>\n",
       "      <th>pos_fam</th>\n",
       "      <th>neg_fam</th>\n",
       "      <th>...</th>\n",
       "      <th>all_bgtot</th>\n",
       "      <th>all_fg_gtr</th>\n",
       "      <th>all_qval</th>\n",
       "      <th>none_domain</th>\n",
       "      <th>is_sig</th>\n",
       "      <th>y</th>\n",
       "      <th>fg_gtr</th>\n",
       "      <th>exac:fg</th>\n",
       "      <th>fg_frac</th>\n",
       "      <th>bg_frac</th>\n",
       "    </tr>\n",
       "  </thead>\n",
       "  <tbody>\n",
       "    <tr>\n",
       "      <th>6</th>\n",
       "      <td>1</td>\n",
       "      <td>40542572</td>\n",
       "      <td>T</td>\n",
       "      <td>C</td>\n",
       "      <td>PATHOGENIC</td>\n",
       "      <td>Palm_thioest:3</td>\n",
       "      <td>0.000000</td>\n",
       "      <td>missense_variant</td>\n",
       "      <td>2</td>\n",
       "      <td>8544</td>\n",
       "      <td>...</td>\n",
       "      <td>1062100.0</td>\n",
       "      <td>True</td>\n",
       "      <td>0.043341</td>\n",
       "      <td>False</td>\n",
       "      <td>0</td>\n",
       "      <td>1</td>\n",
       "      <td>1</td>\n",
       "      <td>0.225658</td>\n",
       "      <td>0.000058</td>\n",
       "      <td>0.000013</td>\n",
       "    </tr>\n",
       "    <tr>\n",
       "      <th>16</th>\n",
       "      <td>1</td>\n",
       "      <td>40555089</td>\n",
       "      <td>G</td>\n",
       "      <td>C</td>\n",
       "      <td>PATHOGENIC</td>\n",
       "      <td>Palm_thioest:6</td>\n",
       "      <td>0.000000</td>\n",
       "      <td>missense_variant</td>\n",
       "      <td>1</td>\n",
       "      <td>8544</td>\n",
       "      <td>...</td>\n",
       "      <td>4885660.0</td>\n",
       "      <td>False</td>\n",
       "      <td>0.053245</td>\n",
       "      <td>False</td>\n",
       "      <td>0</td>\n",
       "      <td>1</td>\n",
       "      <td>0</td>\n",
       "      <td>2.029511</td>\n",
       "      <td>0.000032</td>\n",
       "      <td>0.000065</td>\n",
       "    </tr>\n",
       "    <tr>\n",
       "      <th>17</th>\n",
       "      <td>1</td>\n",
       "      <td>40555089</td>\n",
       "      <td>G</td>\n",
       "      <td>C</td>\n",
       "      <td>PATHOGENIC</td>\n",
       "      <td>Palm_thioest:7</td>\n",
       "      <td>0.000000</td>\n",
       "      <td>missense_variant</td>\n",
       "      <td>1</td>\n",
       "      <td>8544</td>\n",
       "      <td>...</td>\n",
       "      <td>4885660.0</td>\n",
       "      <td>False</td>\n",
       "      <td>0.053245</td>\n",
       "      <td>False</td>\n",
       "      <td>0</td>\n",
       "      <td>1</td>\n",
       "      <td>0</td>\n",
       "      <td>2.029511</td>\n",
       "      <td>0.000032</td>\n",
       "      <td>0.000065</td>\n",
       "    </tr>\n",
       "    <tr>\n",
       "      <th>22</th>\n",
       "      <td>1</td>\n",
       "      <td>40557070</td>\n",
       "      <td>T</td>\n",
       "      <td>A</td>\n",
       "      <td>PATHOGENIC</td>\n",
       "      <td>Palm_thioest:9</td>\n",
       "      <td>0.000599</td>\n",
       "      <td>missense_variant</td>\n",
       "      <td>2</td>\n",
       "      <td>8543</td>\n",
       "      <td>...</td>\n",
       "      <td>2124152.0</td>\n",
       "      <td>False</td>\n",
       "      <td>0.000233</td>\n",
       "      <td>False</td>\n",
       "      <td>1</td>\n",
       "      <td>1</td>\n",
       "      <td>0</td>\n",
       "      <td>5.124508</td>\n",
       "      <td>0.000023</td>\n",
       "      <td>0.000120</td>\n",
       "    </tr>\n",
       "    <tr>\n",
       "      <th>24</th>\n",
       "      <td>1</td>\n",
       "      <td>40557754</td>\n",
       "      <td>A</td>\n",
       "      <td>C</td>\n",
       "      <td>PATHOGENIC</td>\n",
       "      <td>Palm_thioest:10</td>\n",
       "      <td>0.000000</td>\n",
       "      <td>missense_variant</td>\n",
       "      <td>1</td>\n",
       "      <td>8544</td>\n",
       "      <td>...</td>\n",
       "      <td>2549040.0</td>\n",
       "      <td>True</td>\n",
       "      <td>0.799538</td>\n",
       "      <td>False</td>\n",
       "      <td>0</td>\n",
       "      <td>1</td>\n",
       "      <td>1</td>\n",
       "      <td>0.789145</td>\n",
       "      <td>0.000032</td>\n",
       "      <td>0.000025</td>\n",
       "    </tr>\n",
       "  </tbody>\n",
       "</table>\n",
       "<p>5 rows × 25 columns</p>\n",
       "</div>"
      ],
      "text/plain": [
       "   chrom       pos ref alt  clin_class             pfam  af_1kg_all  \\\n",
       "6      1  40542572   T   C  PATHOGENIC   Palm_thioest:3    0.000000   \n",
       "16     1  40555089   G   C  PATHOGENIC   Palm_thioest:6    0.000000   \n",
       "17     1  40555089   G   C  PATHOGENIC   Palm_thioest:7    0.000000   \n",
       "22     1  40557070   T   A  PATHOGENIC   Palm_thioest:9    0.000599   \n",
       "24     1  40557754   A   C  PATHOGENIC  Palm_thioest:10    0.000000   \n",
       "\n",
       "                 eff  pos_fam  neg_fam    ...     all_bgtot  all_fg_gtr  \\\n",
       "6   missense_variant        2     8544    ...     1062100.0        True   \n",
       "16  missense_variant        1     8544    ...     4885660.0       False   \n",
       "17  missense_variant        1     8544    ...     4885660.0       False   \n",
       "22  missense_variant        2     8543    ...     2124152.0       False   \n",
       "24  missense_variant        1     8544    ...     2549040.0        True   \n",
       "\n",
       "    all_qval  none_domain  is_sig  y fg_gtr   exac:fg   fg_frac   bg_frac  \n",
       "6   0.043341        False       0  1      1  0.225658  0.000058  0.000013  \n",
       "16  0.053245        False       0  1      0  2.029511  0.000032  0.000065  \n",
       "17  0.053245        False       0  1      0  2.029511  0.000032  0.000065  \n",
       "22  0.000233        False       1  1      0  5.124508  0.000023  0.000120  \n",
       "24  0.799538        False       0  1      1  0.789145  0.000032  0.000025  \n",
       "\n",
       "[5 rows x 25 columns]"
      ]
     },
     "execution_count": 145,
     "metadata": {},
     "output_type": "execute_result"
    }
   ],
   "source": [
    "f = '../data/interim/sig_flagged/EPIv6.eff.dbnsfp.anno.hHack.splitPfam.all.dat'\n",
    "df_pre = pandas.read_csv(f, delimiter='\\t')\n",
    "\n",
    "# not VUS, and mpc needs to be available\n",
    "df = df_pre[ (df_pre.clin_class != 'VUS') & (df_pre.mpc>0) & (df_pre.pfam!='none')]\n",
    "df.loc[:, 'none_domain'] = df.apply(lambda row: row['pfam']=='none', axis=1)\n",
    "df.loc[:, 'is_sig'] = df.apply(lambda row: 1 if row['all_qval']<.01 else 0, axis=1)\n",
    "df.loc[:, 'y'] = df.apply(lambda row: 1 if row['clin_class'] in ('PATHOGENIC', 'LIKLEY_PATHOGENIC')\n",
    "                          else 0, axis=1)\n",
    "df.loc[:, 'fg_gtr'] = df.apply(lambda row: 1 if row['all_fg_gtr'] else 0, axis=1)\n",
    "df.loc[:, 'exac:fg'] = (df['all_bg']/df['all_bgtot']) / (df['all_fg']/df['all_fgtot'])\n",
    "df.loc[:, 'fg_frac'] = df['all_fg']/df['all_fgtot']\n",
    "df.loc[:, 'bg_frac'] = df['all_bg']/df['all_bgtot']\n",
    "genes = set(df['gene'])\n",
    "df.head()"
   ]
  },
  {
   "cell_type": "code",
   "execution_count": 55,
   "metadata": {
    "collapsed": false
   },
   "outputs": [
    {
     "data": {
      "text/plain": [
       "gene      y\n",
       "ALDH7A1   0     4\n",
       "          1    14\n",
       "ARX       1     1\n",
       "ATP1A2    0     4\n",
       "          1     4\n",
       "ATP6AP2   0     2\n",
       "CACNB4    0     2\n",
       "CDKL5     0     2\n",
       "          1    32\n",
       "CHRNA2    0     9\n",
       "CHRNA4    0    12\n",
       "          1     2\n",
       "CHRNB2    0     7\n",
       "          1     2\n",
       "CLN3      0     6\n",
       "          1     1\n",
       "CNTNAP2   0    15\n",
       "CSTB      0     3\n",
       "CTSD      0     3\n",
       "          1     2\n",
       "EFHC1     0     1\n",
       "EPM2A     1     1\n",
       "FOLR1     0     2\n",
       "GABRA1    1     8\n",
       "GABRG2    1    11\n",
       "GOSR2     0     1\n",
       "GRIN2A    0     1\n",
       "          1     7\n",
       "GRIN2B    1     1\n",
       "KCNJ10    0     3\n",
       "               ..\n",
       "PNKP      0     3\n",
       "          1     2\n",
       "PNPO      1     1\n",
       "POLG      0     5\n",
       "          1    27\n",
       "PPT1      0     1\n",
       "          1     7\n",
       "PRICKLE1  0     1\n",
       "SCARB2    0     3\n",
       "SCN1A     1    87\n",
       "SCN1B     0     2\n",
       "          1     7\n",
       "SCN2A     0     2\n",
       "          1    44\n",
       "SCN8A     1    13\n",
       "SLC25A22  0     9\n",
       "SLC2A1    1    50\n",
       "SLC9A6    0     1\n",
       "          1     1\n",
       "SPTAN1    0    41\n",
       "          1     2\n",
       "SRPX2     0     3\n",
       "STXBP1    0     6\n",
       "          1    16\n",
       "SYN1      0     1\n",
       "TBC1D24   0     2\n",
       "TCF4      1     3\n",
       "TSC1      0    28\n",
       "UBE3A     1     1\n",
       "ZEB2      0     1\n",
       "dtype: int64"
      ]
     },
     "execution_count": 55,
     "metadata": {},
     "output_type": "execute_result"
    }
   ],
   "source": [
    "df.groupby(['gene', 'y']).size()"
   ]
  },
  {
   "cell_type": "code",
   "execution_count": 56,
   "metadata": {
    "collapsed": false
   },
   "outputs": [
    {
     "data": {
      "text/plain": [
       "[<matplotlib.lines.Line2D at 0x7f7c8c1f4160>]"
      ]
     },
     "execution_count": 56,
     "metadata": {},
     "output_type": "execute_result"
    },
    {
     "data": {
      "image/png": "[encoded data removed]",
      "text/plain": [
       "<matplotlib.figure.Figure at 0x7f7ce5f1e240>"
      ]
     },
     "metadata": {},
     "output_type": "display_data"
    }
   ],
   "source": [
    "scores = df['mpc'].values\n",
    "truth = df['y'].values\n",
    "fpr_mpc, tpr_mpc, _ = metrics.roc_curve(truth, scores, pos_label=1)\n",
    "#pre, rec, thresh_pr = metrics.precision_recall_curve(truth, scores, pos_label=1)\n",
    "plt.plot(fpr_mpc, tpr_mpc)"
   ]
  },
  {
   "cell_type": "code",
   "execution_count": 57,
   "metadata": {
    "collapsed": false
   },
   "outputs": [
    {
     "data": {
      "text/plain": [
       "array([[<matplotlib.axes._subplots.AxesSubplot object at 0x7f7c382da080>]], dtype=object)"
      ]
     },
     "execution_count": 57,
     "metadata": {},
     "output_type": "execute_result"
    },
    {
     "data": {
      "image/png": "[encoded data removed]",
      "text/plain": [
       "<matplotlib.figure.Figure at 0x7f7c8c147be0>"
      ]
     },
     "metadata": {},
     "output_type": "display_data"
    }
   ],
   "source": [
    "df.hist(column='mpc')"
   ]
  },
  {
   "cell_type": "code",
   "execution_count": 146,
   "metadata": {
    "collapsed": false
   },
   "outputs": [],
   "source": [
    "# nn\n",
    "all_preds = []\n",
    "all_truth = []\n",
    "# all_qval, 'none_domain', is_sig\n",
    "cols = ['mpc', 'fg_gtr', 'all_qval', 'is_sig', 'exac:fg', 'all_fg', 'all_bg', 'fg_frac', 'bg_frac']\n",
    "for gene in genes:\n",
    "    df_train = df[df.gene!=gene]\n",
    "    df_test = df[df.gene==gene]\n",
    "    X, y = df_train[cols], df_train['y']\n",
    "    clf.fit(X, y)\n",
    "    X_test, y_test = df_test[cols], df_test['y']\n",
    "    preds = clf.predict_proba(X_test)\n",
    "    preds_simple = clf.predict(X_test)\n",
    "    tot, good = 0,0\n",
    "    for pred, pred_s, truth in zip(preds, preds_simple, y_test):\n",
    "        all_preds.append(pred[1])\n",
    "        all_truth.append(truth)\n",
    "        tot += 1\n",
    "        if pred_s==truth:\n",
    "            good += 1\n",
    "    #print(gene, tot, good, good/tot)\n",
    "fpr, tpr, _ = metrics.roc_curve(all_truth, all_preds, pos_label=1)\n",
    "#plt.plot(fpr, tpr)       "
   ]
  },
  {
   "cell_type": "code",
   "execution_count": 152,
   "metadata": {
    "collapsed": false
   },
   "outputs": [],
   "source": [
    "# decision tree\n",
    "all_preds = []\n",
    "all_truth = []\n",
    "cols = ['mpc', 'fg_gtr', 'all_qval', 'is_sig', 'exac:fg', 'fg_frac', 'bg_frac', 'all_fg', 'all_bg']\n",
    "for gene in genes:\n",
    "    df_train = df[df.gene!=gene]\n",
    "    df_test = df[df.gene==gene]\n",
    "    X, y = df_train[cols], df_train['y']\n",
    "    tree_clf.fit(X, y)\n",
    "    dot_data = StringIO()\n",
    "    tree.export_graphviz(tree_clf, feature_names=cols, out_file=dot_data)\n",
    "    graph = pydotplus.graph_from_dot_data( dot_data.getvalue() )\n",
    "    graph.write_pdf('mtr_tree.%s.pdf' % (gene,))\n",
    "    X_test, y_test = df_test[cols], df_test['y']\n",
    "    preds = tree_clf.predict_proba(X_test)\n",
    "    preds_simple = tree_clf.predict(X_test)\n",
    "    tot, good = 0,0\n",
    "    for pred, pred_s, truth in zip(preds, preds_simple, y_test):\n",
    "        all_preds.append(pred[1])\n",
    "        all_truth.append(truth)\n",
    "        tot += 1\n",
    "        if pred_s==truth:\n",
    "            good += 1\n",
    "    #print(gene, tot, good, good/tot)\n",
    "fpr_tree, tpr_tree, _ = metrics.roc_curve(all_truth, all_preds, pos_label=1)"
   ]
  },
  {
   "cell_type": "code",
   "execution_count": 149,
   "metadata": {
    "collapsed": false
   },
   "outputs": [
    {
     "data": {
      "text/html": [
       "<iframe src=./mtr_tree.ALDH7A1.pdf width=1000 height=500></iframe>"
      ],
      "text/plain": [
       "<IPython.core.display.HTML object>"
      ]
     },
     "execution_count": 149,
     "metadata": {},
     "output_type": "execute_result"
    }
   ],
   "source": [
    "HTML('<iframe src=./mtr_tree.ALDH7A1.pdf width=1000 height=500></iframe>')"
   ]
  },
  {
   "cell_type": "code",
   "execution_count": 153,
   "metadata": {
    "collapsed": false
   },
   "outputs": [
    {
     "data": {
      "text/plain": [
       "[<matplotlib.lines.Line2D at 0x7f7c302043c8>]"
      ]
     },
     "execution_count": 153,
     "metadata": {},
     "output_type": "execute_result"
    },
    {
     "data": {
      "image/png": "[encoded data removed]",
      "text/plain": [
       "<matplotlib.figure.Figure at 0x7f7c300340f0>"
      ]
     },
     "metadata": {},
     "output_type": "display_data"
    }
   ],
   "source": [
    "plt.plot(fpr_mpc, tpr_mpc, label='mpc', color='black')\n",
    "plt.plot(fpr, tpr, label='nn', color='green')\n",
    "plt.plot(fpr_tree, tpr_tree, label='tree', color='orange')"
   ]
  },
  {
   "cell_type": "code",
   "execution_count": 60,
   "metadata": {
    "collapsed": false
   },
   "outputs": [
    {
     "data": {
      "text/plain": [
       "gene     pfam               y\n",
       "ALDH7A1  Aldedh:172         0     2\n",
       "         Aldedh:173         1     2\n",
       "         Aldedh:177         1     5\n",
       "         Aldedh:178         1     5\n",
       "         Aldedh:182         0     2\n",
       "         Aldedh:188         1     2\n",
       "ARX      Homeobox:423       1     1\n",
       "ATP1A2   Cation_ATPase_C:8  1     1\n",
       "         Cation_ATPase_C:9  1     1\n",
       "         Cation_ATPase_N:6  0     1\n",
       "         E1-E2_ATPase:12    0     1\n",
       "         E1-E2_ATPase:13    0     1\n",
       "         Hydrolase:25       1     2\n",
       "         Hydrolase:29       0     1\n",
       "ATP6AP2  Renin_r:1          0     1\n",
       "         Renin_r:2          0     1\n",
       "CACNB4   Ca_channel_B:33    0     1\n",
       "         Ca_channel_B:34    0     1\n",
       "CDKL5    Pkinase:3571       1     1\n",
       "         Pkinase:3572       1     1\n",
       "         Pkinase:3573       1     1\n",
       "         Pkinase:3574       1     5\n",
       "         Pkinase:3575       1     4\n",
       "         Pkinase:3576       0     1\n",
       "                            1     4\n",
       "         Pkinase:3577       1     3\n",
       "         Pkinase:3579       1     1\n",
       "         Pkinase_Tyr:2431   1     1\n",
       "         Pkinase_Tyr:2432   1     1\n",
       "         Pkinase_Tyr:2433   1     1\n",
       "                                 ..\n",
       "STXBP1   Sec1:138           1     1\n",
       "         Sec1:139           0     3\n",
       "         Sec1:140           1     1\n",
       "         Sec1:141           1     2\n",
       "         Sec1:143           1     1\n",
       "         Sec1:144           1     3\n",
       "         Sec1:146           1     1\n",
       "         Sec1:148           1     2\n",
       "         Sec1:149           0     2\n",
       "                            1     1\n",
       "         Sec1:150           0     1\n",
       "                            1     1\n",
       "         Sec1:152           1     3\n",
       "SYN1     Synapsin_N:10      0     1\n",
       "TBC1D24  TLD:5              0     2\n",
       "TCF4     HLH:83             1     3\n",
       "TSC1     Hamartin:0         0     1\n",
       "         Hamartin:1         0     1\n",
       "         Hamartin:10        0     2\n",
       "         Hamartin:11        0     2\n",
       "         Hamartin:15        0     1\n",
       "         Hamartin:19        0     2\n",
       "         Hamartin:3         0    11\n",
       "         Hamartin:4         0     1\n",
       "         Hamartin:6         0     1\n",
       "         Hamartin:7         0     1\n",
       "         Hamartin:8         0     1\n",
       "         Hamartin:9         0     4\n",
       "UBE3A    HECT:63            1     1\n",
       "ZEB2     zf-C2H2:3935       0     1\n",
       "dtype: int64"
      ]
     },
     "execution_count": 60,
     "metadata": {},
     "output_type": "execute_result"
    }
   ],
   "source": [
    "df.groupby(['gene','pfam','y']).size()"
   ]
  },
  {
   "cell_type": "code",
   "execution_count": null,
   "metadata": {
    "collapsed": true
   },
   "outputs": [],
   "source": []
  }
 ],
 "metadata": {
  "kernelspec": {
   "display_name": "Python 3",
   "language": "python",
   "name": "python3"
  },
  "language_info": {
   "codemirror_mode": {
    "name": "ipython",
    "version": 3
   },
   "file_extension": ".py",
   "mimetype": "text/x-python",
   "name": "python",
   "nbconvert_exporter": "python",
   "pygments_lexer": "ipython3",
   "version": "3.4.5"
  }
 },
 "nbformat": 4,
 "nbformat_minor": 2
}
