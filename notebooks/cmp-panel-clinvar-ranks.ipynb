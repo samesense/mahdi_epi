{
 "cells": [
  {
   "cell_type": "markdown",
   "metadata": {},
   "source": [
    "### compare ranks from clinvar and panel"
   ]
  },
  {
   "cell_type": "code",
   "execution_count": 6,
   "metadata": {
    "collapsed": false
   },
   "outputs": [],
   "source": [
    "import pandas as pd\n",
    "afile = '/mnt/isilon/cbmi/variome/perry/projects/sarmadi/mahdi_epi/work/cc'\n",
    "df = pd.read_csv(afile, sep='\\t')"
   ]
  },
  {
   "cell_type": "code",
   "execution_count": 7,
   "metadata": {
    "collapsed": false
   },
   "outputs": [
    {
     "data": {
      "text/html": [
       "<div>\n",
       "<table border=\"1\" class=\"dataframe\">\n",
       "  <thead>\n",
       "    <tr style=\"text-align: right;\">\n",
       "      <th></th>\n",
       "      <th>disease</th>\n",
       "      <th>score_type</th>\n",
       "      <th>percent_wrong_path</th>\n",
       "      <th>percent_wrong_benign</th>\n",
       "      <th>percent_wrong</th>\n",
       "      <th>tot_vars</th>\n",
       "      <th>color</th>\n",
       "      <th>st</th>\n",
       "      <th>dis</th>\n",
       "      <th>dis_junk</th>\n",
       "      <th>min</th>\n",
       "      <th>dis_order</th>\n",
       "      <th>Classifier</th>\n",
       "      <th>is_best</th>\n",
       "    </tr>\n",
       "  </thead>\n",
       "  <tbody>\n",
       "    <tr>\n",
       "      <th>0</th>\n",
       "      <td>Cardiomyopathy</td>\n",
       "      <td>global_PredictionStatusMPC</td>\n",
       "      <td>0.176871</td>\n",
       "      <td>0.103774</td>\n",
       "      <td>0.140322</td>\n",
       "      <td>359</td>\n",
       "      <td>predict_panel</td>\n",
       "      <td>TRAINED_mpc</td>\n",
       "      <td>Cardiomyopathy</td>\n",
       "      <td>Cardiomyopathy</td>\n",
       "      <td>0.102089</td>\n",
       "      <td>1</td>\n",
       "      <td>Trained</td>\n",
       "      <td>False</td>\n",
       "    </tr>\n",
       "    <tr>\n",
       "      <th>1</th>\n",
       "      <td>Cardiomyopathy</td>\n",
       "      <td>global_PredictionStatusMPC&gt;2</td>\n",
       "      <td>0.598639</td>\n",
       "      <td>0.004717</td>\n",
       "      <td>0.301678</td>\n",
       "      <td>359</td>\n",
       "      <td>predict_panel</td>\n",
       "      <td>BASE_mpc</td>\n",
       "      <td>Cardiomyopathy</td>\n",
       "      <td>Cardiomyopathy</td>\n",
       "      <td>0.102089</td>\n",
       "      <td>1</td>\n",
       "      <td>Baseline</td>\n",
       "      <td>False</td>\n",
       "    </tr>\n",
       "    <tr>\n",
       "      <th>2</th>\n",
       "      <td>Rasopathies</td>\n",
       "      <td>global_PredictionStatusMPC</td>\n",
       "      <td>0.021277</td>\n",
       "      <td>0.227273</td>\n",
       "      <td>0.124275</td>\n",
       "      <td>69</td>\n",
       "      <td>predict_panel</td>\n",
       "      <td>TRAINED_mpc</td>\n",
       "      <td>Rasopathies</td>\n",
       "      <td>Rasopathies</td>\n",
       "      <td>0.010638</td>\n",
       "      <td>4</td>\n",
       "      <td>Trained</td>\n",
       "      <td>False</td>\n",
       "    </tr>\n",
       "    <tr>\n",
       "      <th>3</th>\n",
       "      <td>Rasopathies</td>\n",
       "      <td>global_PredictionStatusMPC&gt;2</td>\n",
       "      <td>0.468085</td>\n",
       "      <td>0.000000</td>\n",
       "      <td>0.234043</td>\n",
       "      <td>69</td>\n",
       "      <td>predict_panel</td>\n",
       "      <td>BASE_mpc</td>\n",
       "      <td>Rasopathies</td>\n",
       "      <td>Rasopathies</td>\n",
       "      <td>0.010638</td>\n",
       "      <td>4</td>\n",
       "      <td>Baseline</td>\n",
       "      <td>False</td>\n",
       "    </tr>\n",
       "    <tr>\n",
       "      <th>4</th>\n",
       "      <td>genedx-epi</td>\n",
       "      <td>global_PredictionStatusMPC</td>\n",
       "      <td>0.242826</td>\n",
       "      <td>0.252280</td>\n",
       "      <td>0.247553</td>\n",
       "      <td>782</td>\n",
       "      <td>predict_panel</td>\n",
       "      <td>TRAINED_mpc</td>\n",
       "      <td>Epilepsy</td>\n",
       "      <td>genedx-epi</td>\n",
       "      <td>0.069188</td>\n",
       "      <td>2</td>\n",
       "      <td>Trained</td>\n",
       "      <td>False</td>\n",
       "    </tr>\n",
       "  </tbody>\n",
       "</table>\n",
       "</div>"
      ],
      "text/plain": [
       "          disease                    score_type  percent_wrong_path  \\\n",
       "0  Cardiomyopathy    global_PredictionStatusMPC            0.176871   \n",
       "1  Cardiomyopathy  global_PredictionStatusMPC>2            0.598639   \n",
       "2     Rasopathies    global_PredictionStatusMPC            0.021277   \n",
       "3     Rasopathies  global_PredictionStatusMPC>2            0.468085   \n",
       "4      genedx-epi    global_PredictionStatusMPC            0.242826   \n",
       "\n",
       "   percent_wrong_benign  percent_wrong  tot_vars          color           st  \\\n",
       "0              0.103774       0.140322       359  predict_panel  TRAINED_mpc   \n",
       "1              0.004717       0.301678       359  predict_panel     BASE_mpc   \n",
       "2              0.227273       0.124275        69  predict_panel  TRAINED_mpc   \n",
       "3              0.000000       0.234043        69  predict_panel     BASE_mpc   \n",
       "4              0.252280       0.247553       782  predict_panel  TRAINED_mpc   \n",
       "\n",
       "              dis        dis_junk       min  dis_order Classifier is_best  \n",
       "0  Cardiomyopathy  Cardiomyopathy  0.102089          1    Trained   False  \n",
       "1  Cardiomyopathy  Cardiomyopathy  0.102089          1   Baseline   False  \n",
       "2     Rasopathies     Rasopathies  0.010638          4    Trained   False  \n",
       "3     Rasopathies     Rasopathies  0.010638          4   Baseline   False  \n",
       "4        Epilepsy      genedx-epi  0.069188          2    Trained   False  "
      ]
     },
     "execution_count": 7,
     "metadata": {},
     "output_type": "execute_result"
    }
   ],
   "source": []
  },
  {
   "cell_type": "code",
   "execution_count": null,
   "metadata": {
    "collapsed": true
   },
   "outputs": [],
   "source": []
  }
 ],
 "metadata": {
  "kernelspec": {
   "display_name": "Python 3",
   "language": "python",
   "name": "python3"
  },
  "language_info": {
   "codemirror_mode": {
    "name": "ipython",
    "version": 3
   },
   "file_extension": ".py",
   "mimetype": "text/x-python",
   "name": "python",
   "nbconvert_exporter": "python",
   "pygments_lexer": "ipython3",
   "version": "3.4.5"
  }
 },
 "nbformat": 4,
 "nbformat_minor": 2
}
