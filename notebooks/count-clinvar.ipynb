{
 "cells": [
  {
   "cell_type": "markdown",
   "metadata": {},
   "source": [
    "### count clinvar variants\n",
    "* [count summary](https://docs.google.com/document/d/1XexRyu7gULSjbIMiUc2q98ZYlPfk8BOuYBQBRNSDwwI/edit)"
   ]
  },
  {
   "cell_type": "code",
   "execution_count": 1,
   "metadata": {
    "collapsed": true
   },
   "outputs": [],
   "source": [
    "import pandas"
   ]
  },
  {
   "cell_type": "code",
   "execution_count": 19,
   "metadata": {
    "collapsed": true
   },
   "outputs": [],
   "source": [
    "clin_file = '../data/interim/clinvar/clinvar.dat'\n",
    "clinvar_df_pre = pandas.read_csv(clin_file, sep='\\t').fillna(0)"
   ]
  },
  {
   "cell_type": "code",
   "execution_count": 20,
   "metadata": {
    "collapsed": false
   },
   "outputs": [
    {
     "name": "stdout",
     "output_type": "stream",
     "text": [
      "# total clinvar variants 10806\n",
      "# total clinvar positions 9234\n"
     ]
    }
   ],
   "source": [
    "print('# total clinvar variants', len(clinvar_df_pre))\n",
    "print('# total clinvar positions', len(clinvar_df_pre[['chrom','pos']].drop_duplicates()))"
   ]
  },
  {
   "cell_type": "code",
   "execution_count": 21,
   "metadata": {
    "collapsed": false
   },
   "outputs": [
    {
     "name": "stdout",
     "output_type": "stream",
     "text": [
      "# clinvar variants with all pathogenic 2517\n",
      "# clinvar variants with all benign 2050\n",
      "# clinvar positions with all pathogenic 2350\n",
      "# clinvar positions with all benign 1997\n"
     ]
    }
   ],
   "source": [
    "def calc_final_sig(row):\n",
    "    sig_set = set(str(row['clinSig'].split('|')))\n",
    "    has_benign = '2' in sig_set or '3' in sig_set\n",
    "    has_path = '4' in sig_set or '5' in sig_set\n",
    "    if has_path and not has_benign:\n",
    "        return 1\n",
    "    if not has_path and has_benign:\n",
    "        return 0\n",
    "    return -1\n",
    "\n",
    "clinvar_df_pre.loc[:, \"y\"] = clinvar_df_pre.apply(calc_final_sig, axis=1)\n",
    "p = len(clinvar_df_pre[clinvar_df_pre.y==1])\n",
    "b = len(clinvar_df_pre[clinvar_df_pre.y==0])\n",
    "print('# clinvar variants with all pathogenic', p)\n",
    "print('# clinvar variants with all benign', b)\n",
    "\n",
    "p = len(clinvar_df_pre[clinvar_df_pre.y==1][['chrom','pos']].drop_duplicates())\n",
    "b = len(clinvar_df_pre[clinvar_df_pre.y==0][['chrom','pos']].drop_duplicates())\n",
    "print('# clinvar positions with all pathogenic', p)\n",
    "print('# clinvar positions with all benign', b)"
   ]
  },
  {
   "cell_type": "code",
   "execution_count": 26,
   "metadata": {
    "collapsed": false
   },
   "outputs": [
    {
     "name": "stdout",
     "output_type": "stream",
     "text": [
      "# clinvar variants with all pathogenic missense 1059\n",
      "# clinvar variants with all benign missense 523\n",
      "# clinvar positions with all pathogenic missesne 1023\n",
      "# clinvar positions with all benign missense 518\n"
     ]
    }
   ],
   "source": [
    "p = clinvar_df_pre[ (clinvar_df_pre.y==1) & (clinvar_df_pre.eff=='missense_variant')]\n",
    "b = clinvar_df_pre[ (clinvar_df_pre.y==0) & (clinvar_df_pre.eff=='missense_variant')]\n",
    "print('# clinvar variants with all pathogenic missense', len(p))\n",
    "print('# clinvar variants with all benign missense', len(b))\n",
    "\n",
    "p = len(p[['chrom','pos']].drop_duplicates())\n",
    "b = len(b[['chrom','pos']].drop_duplicates())\n",
    "print('# clinvar positions with all pathogenic missesne', p)\n",
    "print('# clinvar positions with all benign missense', b)"
   ]
  },
  {
   "cell_type": "code",
   "execution_count": 30,
   "metadata": {
    "collapsed": false
   },
   "outputs": [
    {
     "name": "stdout",
     "output_type": "stream",
     "text": [
      "# clinvar variants with all pathogenic and mpc score in pfam domain 652\n",
      "# clinvar variants with all benign and mpc score in pfam domain 154\n",
      "# clinvar positions with missense pathogenic and mpc score in pfam domain 627\n",
      "# clinvar positions with missense benign and mpc score in pfam domain 154\n"
     ]
    }
   ],
   "source": [
    "p = clinvar_df_pre[ (clinvar_df_pre.y==1) & (clinvar_df_pre.mpc>0) & (clinvar_df_pre.pfam!='none') & (clinvar_df_pre.eff=='missense_variant')]\n",
    "b = clinvar_df_pre[ (clinvar_df_pre.y==0) & (clinvar_df_pre.mpc>0) & (clinvar_df_pre.pfam!='none') & (clinvar_df_pre.eff=='missense_variant')]\n",
    "print('# clinvar variants with all pathogenic and mpc score in pfam domain', len(p))\n",
    "print('# clinvar variants with all benign and mpc score in pfam domain', len(b))\n",
    "\n",
    "p = len(p[['chrom','pos']].drop_duplicates())\n",
    "b = len(b[['chrom','pos']].drop_duplicates())\n",
    "print('# clinvar positions with missense pathogenic and mpc score in pfam domain', p)\n",
    "print('# clinvar positions with missense benign and mpc score in pfam domain', b)"
   ]
  },
  {
   "cell_type": "code",
   "execution_count": 31,
   "metadata": {
    "collapsed": false
   },
   "outputs": [
    {
     "name": "stdout",
     "output_type": "stream",
     "text": [
      "# clinvar variants with all pathogenic and mpc score or in pfam domain 1029\n",
      "# clinvar variants with all benign and mpc score or in pfam domain 396\n",
      "# clinvar positions with missense pathogenic and mpc score or in pfam domain 994\n",
      "# clinvar positions with missense benign and mpc score or in pfam domain 393\n"
     ]
    }
   ],
   "source": [
    "p = clinvar_df_pre[ (clinvar_df_pre.y==1) & ((clinvar_df_pre.mpc>0) | (clinvar_df_pre.pfam!='none')) & (clinvar_df_pre.eff=='missense_variant')]\n",
    "b = clinvar_df_pre[ (clinvar_df_pre.y==0) & ((clinvar_df_pre.mpc>0) | (clinvar_df_pre.pfam!='none')) & (clinvar_df_pre.eff=='missense_variant')]\n",
    "print('# clinvar variants with all pathogenic and mpc score or in pfam domain', len(p))\n",
    "print('# clinvar variants with all benign and mpc score or in pfam domain', len(b))\n",
    "\n",
    "p = len(p[['chrom','pos']].drop_duplicates())\n",
    "b = len(b[['chrom','pos']].drop_duplicates())\n",
    "print('# clinvar positions with missense pathogenic and mpc score or in pfam domain', p)\n",
    "print('# clinvar positions with missense benign and mpc score or in pfam domain', b)"
   ]
  },
  {
   "cell_type": "code",
   "execution_count": 27,
   "metadata": {
    "collapsed": false
   },
   "outputs": [
    {
     "name": "stdout",
     "output_type": "stream",
     "text": [
      "# clinvar variants with missesense pathogenic and mpc score 966\n",
      "# clinvar variants with missense benign and mpc score 374\n",
      "# clinvar positions with missesnse pathogenic and mpc score 934\n",
      "# clinvar positions with missense benign and mpc score 371\n"
     ]
    }
   ],
   "source": [
    "p = clinvar_df_pre[ (clinvar_df_pre.y==1) & (clinvar_df_pre.mpc>0) & (clinvar_df_pre.eff=='missense_variant')]\n",
    "b = clinvar_df_pre[ (clinvar_df_pre.y==0) & (clinvar_df_pre.mpc>0) & (clinvar_df_pre.eff=='missense_variant')]\n",
    "print('# clinvar variants with missesense pathogenic and mpc score', len(p))\n",
    "print('# clinvar variants with missense benign and mpc score', len(b))\n",
    "\n",
    "p = len(p[['chrom','pos']].drop_duplicates())\n",
    "b = len(b[['chrom','pos']].drop_duplicates())\n",
    "print('# clinvar positions with missesnse pathogenic and mpc score', p)\n",
    "print('# clinvar positions with missense benign and mpc score', b)"
   ]
  },
  {
   "cell_type": "code",
   "execution_count": 23,
   "metadata": {
    "collapsed": false
   },
   "outputs": [
    {
     "data": {
      "text/plain": [
       "eff\n",
       "3_prime_UTR_variant                                           1\n",
       "disruptive_inframe_deletion                                  11\n",
       "disruptive_inframe_deletion+synonymous_variant                1\n",
       "disruptive_inframe_insertion                                 10\n",
       "downstream_gene_variant                                       5\n",
       "frameshift_variant                                          694\n",
       "frameshift_variant+missense_variant                          17\n",
       "frameshift_variant+stop_gained                                9\n",
       "frameshift_variant+stop_gained+missense_variant               1\n",
       "frameshift_variant+synonymous_variant                         4\n",
       "inframe_deletion                                             30\n",
       "inframe_insertion                                             5\n",
       "initiator_codon_variant                                       3\n",
       "intragenic_variant                                            7\n",
       "intron_variant                                                7\n",
       "missense_variant                                             93\n",
       "missense_variant+inframe_deletion                             1\n",
       "splice_acceptor_variant                                      73\n",
       "splice_donor_variant                                         97\n",
       "splice_region_variant                                        47\n",
       "start_lost                                                    9\n",
       "stop_gained                                                 405\n",
       "stop_gained+missense_variant+disruptive_inframe_deletion      1\n",
       "stop_lost                                                     2\n",
       "stop_lost+inframe_deletion                                    1\n",
       "synonymous_variant                                           11\n",
       "upstream_gene_variant                                         6\n",
       "dtype: int64"
      ]
     },
     "execution_count": 23,
     "metadata": {},
     "output_type": "execute_result"
    }
   ],
   "source": [
    "clinvar_df_pre[ (clinvar_df_pre.y==1) & (clinvar_df_pre.mpc==0)].groupby('eff').size()"
   ]
  },
  {
   "cell_type": "code",
   "execution_count": 18,
   "metadata": {
    "collapsed": false
   },
   "outputs": [
    {
     "data": {
      "text/html": [
       "<div>\n",
       "<table border=\"1\" class=\"dataframe\">\n",
       "  <thead>\n",
       "    <tr style=\"text-align: right;\">\n",
       "      <th></th>\n",
       "      <th>chrom</th>\n",
       "      <th>pos</th>\n",
       "      <th>ref</th>\n",
       "      <th>alt</th>\n",
       "      <th>pfam</th>\n",
       "      <th>eff</th>\n",
       "      <th>clinSig</th>\n",
       "      <th>af_1kg_all</th>\n",
       "      <th>gene</th>\n",
       "      <th>mpc</th>\n",
       "      <th>y</th>\n",
       "    </tr>\n",
       "  </thead>\n",
       "  <tbody>\n",
       "    <tr>\n",
       "      <th>321</th>\n",
       "      <td>1</td>\n",
       "      <td>43395364</td>\n",
       "      <td>TT</td>\n",
       "      <td>AC</td>\n",
       "      <td>MFS_1:47,Sugar_tr:32</td>\n",
       "      <td>missense_variant</td>\n",
       "      <td>5|0</td>\n",
       "      <td>0.0</td>\n",
       "      <td>SLC2A1</td>\n",
       "      <td>0.0</td>\n",
       "      <td>1</td>\n",
       "    </tr>\n",
       "    <tr>\n",
       "      <th>366</th>\n",
       "      <td>1</td>\n",
       "      <td>43396529</td>\n",
       "      <td>GA</td>\n",
       "      <td>AT</td>\n",
       "      <td>MFS_1:49,Sugar_tr:34</td>\n",
       "      <td>missense_variant</td>\n",
       "      <td>5</td>\n",
       "      <td>0.0</td>\n",
       "      <td>SLC2A1</td>\n",
       "      <td>0.0</td>\n",
       "      <td>1</td>\n",
       "    </tr>\n",
       "    <tr>\n",
       "      <th>1804</th>\n",
       "      <td>2</td>\n",
       "      <td>166165903</td>\n",
       "      <td>T</td>\n",
       "      <td>G</td>\n",
       "      <td>Ion_trans:475</td>\n",
       "      <td>missense_variant</td>\n",
       "      <td>4</td>\n",
       "      <td>0.0</td>\n",
       "      <td>SCN2A</td>\n",
       "      <td>0.0</td>\n",
       "      <td>1</td>\n",
       "    </tr>\n",
       "    <tr>\n",
       "      <th>1805</th>\n",
       "      <td>2</td>\n",
       "      <td>166165903</td>\n",
       "      <td>T</td>\n",
       "      <td>G</td>\n",
       "      <td>Ion_trans:475</td>\n",
       "      <td>missense_variant</td>\n",
       "      <td>4</td>\n",
       "      <td>0.0</td>\n",
       "      <td>SCN2A</td>\n",
       "      <td>0.0</td>\n",
       "      <td>1</td>\n",
       "    </tr>\n",
       "    <tr>\n",
       "      <th>1806</th>\n",
       "      <td>2</td>\n",
       "      <td>166165903</td>\n",
       "      <td>T</td>\n",
       "      <td>G</td>\n",
       "      <td>Ion_trans:475</td>\n",
       "      <td>missense_variant</td>\n",
       "      <td>4</td>\n",
       "      <td>0.0</td>\n",
       "      <td>SCN2A</td>\n",
       "      <td>0.0</td>\n",
       "      <td>1</td>\n",
       "    </tr>\n",
       "    <tr>\n",
       "      <th>1807</th>\n",
       "      <td>2</td>\n",
       "      <td>166165924</td>\n",
       "      <td>G</td>\n",
       "      <td>A</td>\n",
       "      <td>Ion_trans:475</td>\n",
       "      <td>missense_variant</td>\n",
       "      <td>5</td>\n",
       "      <td>0.0</td>\n",
       "      <td>SCN2A</td>\n",
       "      <td>0.0</td>\n",
       "      <td>1</td>\n",
       "    </tr>\n",
       "    <tr>\n",
       "      <th>1808</th>\n",
       "      <td>2</td>\n",
       "      <td>166165924</td>\n",
       "      <td>G</td>\n",
       "      <td>A</td>\n",
       "      <td>Ion_trans:475</td>\n",
       "      <td>missense_variant</td>\n",
       "      <td>5</td>\n",
       "      <td>0.0</td>\n",
       "      <td>SCN2A</td>\n",
       "      <td>0.0</td>\n",
       "      <td>1</td>\n",
       "    </tr>\n",
       "    <tr>\n",
       "      <th>1809</th>\n",
       "      <td>2</td>\n",
       "      <td>166165924</td>\n",
       "      <td>G</td>\n",
       "      <td>A</td>\n",
       "      <td>Ion_trans:475</td>\n",
       "      <td>missense_variant</td>\n",
       "      <td>5</td>\n",
       "      <td>0.0</td>\n",
       "      <td>SCN2A</td>\n",
       "      <td>0.0</td>\n",
       "      <td>1</td>\n",
       "    </tr>\n",
       "    <tr>\n",
       "      <th>1813</th>\n",
       "      <td>2</td>\n",
       "      <td>166166853</td>\n",
       "      <td>GC</td>\n",
       "      <td>TT</td>\n",
       "      <td>Ion_trans:476</td>\n",
       "      <td>missense_variant</td>\n",
       "      <td>4</td>\n",
       "      <td>0.0</td>\n",
       "      <td>SCN2A</td>\n",
       "      <td>0.0</td>\n",
       "      <td>1</td>\n",
       "    </tr>\n",
       "    <tr>\n",
       "      <th>1814</th>\n",
       "      <td>2</td>\n",
       "      <td>166166853</td>\n",
       "      <td>GC</td>\n",
       "      <td>TT</td>\n",
       "      <td>Ion_trans:476</td>\n",
       "      <td>missense_variant</td>\n",
       "      <td>4</td>\n",
       "      <td>0.0</td>\n",
       "      <td>SCN2A</td>\n",
       "      <td>0.0</td>\n",
       "      <td>1</td>\n",
       "    </tr>\n",
       "    <tr>\n",
       "      <th>1815</th>\n",
       "      <td>2</td>\n",
       "      <td>166166853</td>\n",
       "      <td>GC</td>\n",
       "      <td>TT</td>\n",
       "      <td>Ion_trans:476</td>\n",
       "      <td>missense_variant</td>\n",
       "      <td>4</td>\n",
       "      <td>0.0</td>\n",
       "      <td>SCN2A</td>\n",
       "      <td>0.0</td>\n",
       "      <td>1</td>\n",
       "    </tr>\n",
       "    <tr>\n",
       "      <th>7611</th>\n",
       "      <td>7</td>\n",
       "      <td>66098397</td>\n",
       "      <td>C</td>\n",
       "      <td>T</td>\n",
       "      <td>K_tetra:67</td>\n",
       "      <td>missense_variant</td>\n",
       "      <td>5</td>\n",
       "      <td>0.0</td>\n",
       "      <td>KCTD7</td>\n",
       "      <td>0.0</td>\n",
       "      <td>1</td>\n",
       "    </tr>\n",
       "    <tr>\n",
       "      <th>7612</th>\n",
       "      <td>7</td>\n",
       "      <td>66098397</td>\n",
       "      <td>C</td>\n",
       "      <td>T</td>\n",
       "      <td>K_tetra:67</td>\n",
       "      <td>missense_variant</td>\n",
       "      <td>5</td>\n",
       "      <td>0.0</td>\n",
       "      <td>KCTD7</td>\n",
       "      <td>0.0</td>\n",
       "      <td>1</td>\n",
       "    </tr>\n",
       "    <tr>\n",
       "      <th>7617</th>\n",
       "      <td>7</td>\n",
       "      <td>66103247</td>\n",
       "      <td>C</td>\n",
       "      <td>A</td>\n",
       "      <td>K_tetra:68</td>\n",
       "      <td>missense_variant</td>\n",
       "      <td>5</td>\n",
       "      <td>0.0</td>\n",
       "      <td>KCTD7</td>\n",
       "      <td>0.0</td>\n",
       "      <td>1</td>\n",
       "    </tr>\n",
       "    <tr>\n",
       "      <th>7618</th>\n",
       "      <td>7</td>\n",
       "      <td>66103247</td>\n",
       "      <td>C</td>\n",
       "      <td>A</td>\n",
       "      <td>K_tetra:68</td>\n",
       "      <td>missense_variant</td>\n",
       "      <td>5</td>\n",
       "      <td>0.0</td>\n",
       "      <td>KCTD7</td>\n",
       "      <td>0.0</td>\n",
       "      <td>1</td>\n",
       "    </tr>\n",
       "    <tr>\n",
       "      <th>7619</th>\n",
       "      <td>7</td>\n",
       "      <td>66103260</td>\n",
       "      <td>G</td>\n",
       "      <td>A</td>\n",
       "      <td>K_tetra:68</td>\n",
       "      <td>missense_variant</td>\n",
       "      <td>4</td>\n",
       "      <td>0.0</td>\n",
       "      <td>KCTD7</td>\n",
       "      <td>0.0</td>\n",
       "      <td>1</td>\n",
       "    </tr>\n",
       "    <tr>\n",
       "      <th>7620</th>\n",
       "      <td>7</td>\n",
       "      <td>66103260</td>\n",
       "      <td>G</td>\n",
       "      <td>A</td>\n",
       "      <td>K_tetra:68</td>\n",
       "      <td>missense_variant</td>\n",
       "      <td>4</td>\n",
       "      <td>0.0</td>\n",
       "      <td>KCTD7</td>\n",
       "      <td>0.0</td>\n",
       "      <td>1</td>\n",
       "    </tr>\n",
       "    <tr>\n",
       "      <th>7621</th>\n",
       "      <td>7</td>\n",
       "      <td>66103268</td>\n",
       "      <td>G</td>\n",
       "      <td>T</td>\n",
       "      <td>K_tetra:68</td>\n",
       "      <td>missense_variant</td>\n",
       "      <td>5</td>\n",
       "      <td>0.0</td>\n",
       "      <td>KCTD7</td>\n",
       "      <td>0.0</td>\n",
       "      <td>1</td>\n",
       "    </tr>\n",
       "    <tr>\n",
       "      <th>7622</th>\n",
       "      <td>7</td>\n",
       "      <td>66103268</td>\n",
       "      <td>G</td>\n",
       "      <td>T</td>\n",
       "      <td>K_tetra:68</td>\n",
       "      <td>missense_variant</td>\n",
       "      <td>5</td>\n",
       "      <td>0.0</td>\n",
       "      <td>KCTD7</td>\n",
       "      <td>0.0</td>\n",
       "      <td>1</td>\n",
       "    </tr>\n",
       "    <tr>\n",
       "      <th>7624</th>\n",
       "      <td>7</td>\n",
       "      <td>66103287</td>\n",
       "      <td>G</td>\n",
       "      <td>T</td>\n",
       "      <td>K_tetra:68</td>\n",
       "      <td>missense_variant</td>\n",
       "      <td>4</td>\n",
       "      <td>0.0</td>\n",
       "      <td>KCTD7</td>\n",
       "      <td>0.0</td>\n",
       "      <td>1</td>\n",
       "    </tr>\n",
       "  </tbody>\n",
       "</table>\n",
       "</div>"
      ],
      "text/plain": [
       "     chrom        pos ref alt                  pfam               eff clinSig  \\\n",
       "321      1   43395364  TT  AC  MFS_1:47,Sugar_tr:32  missense_variant     5|0   \n",
       "366      1   43396529  GA  AT  MFS_1:49,Sugar_tr:34  missense_variant       5   \n",
       "1804     2  166165903   T   G         Ion_trans:475  missense_variant       4   \n",
       "1805     2  166165903   T   G         Ion_trans:475  missense_variant       4   \n",
       "1806     2  166165903   T   G         Ion_trans:475  missense_variant       4   \n",
       "1807     2  166165924   G   A         Ion_trans:475  missense_variant       5   \n",
       "1808     2  166165924   G   A         Ion_trans:475  missense_variant       5   \n",
       "1809     2  166165924   G   A         Ion_trans:475  missense_variant       5   \n",
       "1813     2  166166853  GC  TT         Ion_trans:476  missense_variant       4   \n",
       "1814     2  166166853  GC  TT         Ion_trans:476  missense_variant       4   \n",
       "1815     2  166166853  GC  TT         Ion_trans:476  missense_variant       4   \n",
       "7611     7   66098397   C   T            K_tetra:67  missense_variant       5   \n",
       "7612     7   66098397   C   T            K_tetra:67  missense_variant       5   \n",
       "7617     7   66103247   C   A            K_tetra:68  missense_variant       5   \n",
       "7618     7   66103247   C   A            K_tetra:68  missense_variant       5   \n",
       "7619     7   66103260   G   A            K_tetra:68  missense_variant       4   \n",
       "7620     7   66103260   G   A            K_tetra:68  missense_variant       4   \n",
       "7621     7   66103268   G   T            K_tetra:68  missense_variant       5   \n",
       "7622     7   66103268   G   T            K_tetra:68  missense_variant       5   \n",
       "7624     7   66103287   G   T            K_tetra:68  missense_variant       4   \n",
       "\n",
       "      af_1kg_all    gene  mpc  y  \n",
       "321          0.0  SLC2A1  0.0  1  \n",
       "366          0.0  SLC2A1  0.0  1  \n",
       "1804         0.0   SCN2A  0.0  1  \n",
       "1805         0.0   SCN2A  0.0  1  \n",
       "1806         0.0   SCN2A  0.0  1  \n",
       "1807         0.0   SCN2A  0.0  1  \n",
       "1808         0.0   SCN2A  0.0  1  \n",
       "1809         0.0   SCN2A  0.0  1  \n",
       "1813         0.0   SCN2A  0.0  1  \n",
       "1814         0.0   SCN2A  0.0  1  \n",
       "1815         0.0   SCN2A  0.0  1  \n",
       "7611         0.0   KCTD7  0.0  1  \n",
       "7612         0.0   KCTD7  0.0  1  \n",
       "7617         0.0   KCTD7  0.0  1  \n",
       "7618         0.0   KCTD7  0.0  1  \n",
       "7619         0.0   KCTD7  0.0  1  \n",
       "7620         0.0   KCTD7  0.0  1  \n",
       "7621         0.0   KCTD7  0.0  1  \n",
       "7622         0.0   KCTD7  0.0  1  \n",
       "7624         0.0   KCTD7  0.0  1  "
      ]
     },
     "execution_count": 18,
     "metadata": {},
     "output_type": "execute_result"
    }
   ],
   "source": [
    "clinvar_df_pre[ (clinvar_df_pre.y==1) & (clinvar_df_pre.mpc==0) & (clinvar_df_pre.eff=='missense_variant')].head(20)"
   ]
  },
  {
   "cell_type": "code",
   "execution_count": null,
   "metadata": {
    "collapsed": true
   },
   "outputs": [],
   "source": [
    "clin_file = '../data/interim/clinvar/clinvar.dat'\n",
    "clinvar_df_pre = pandas.read_csv(clin_file, sep='\\t')\n",
    "\n",
    "\n",
    "clinvar_df_pre.loc[:, \"y\"] = clinvar_df_pre.apply(calc_final_sig, axis=1)\n",
    "clinvar_df = clinvar_df_pre[(clinvar_df_pre.y!=-1) & (clinvar_df_pre.pfam!='none') & (clinvar_df_pre.mpc>0)].drop_duplicates()\n",
    "clinvar_df.loc[:, 'path_frac_t'] = clinvar_df.apply(lambda row: match(row, domain_info)[0], axis=1)\n",
    "clinvar_df.loc[:, 'size_t'] = clinvar_df.apply(lambda row: match(row, domain_info)[1], axis=1)\n",
    "clinvar_df.loc[:, 'path_na_t'] = clinvar_df.apply(lambda row: match(row, domain_info)[2], axis=1)"
   ]
  }
 ],
 "metadata": {
  "kernelspec": {
   "display_name": "Python 3",
   "language": "python",
   "name": "python3"
  },
  "language_info": {
   "codemirror_mode": {
    "name": "ipython",
    "version": 3
   },
   "file_extension": ".py",
   "mimetype": "text/x-python",
   "name": "python",
   "nbconvert_exporter": "python",
   "pygments_lexer": "ipython3",
   "version": "3.4.5"
  }
 },
 "nbformat": 4,
 "nbformat_minor": 2
}
