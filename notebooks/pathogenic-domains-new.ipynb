{
 "cells": [
  {
   "cell_type": "markdown",
   "metadata": {},
   "source": [
    "### do sig domains have more pathogenic vars?"
   ]
  },
  {
   "cell_type": "code",
   "execution_count": 11,
   "metadata": {
    "collapsed": true
   },
   "outputs": [],
   "source": [
    "import pandas\n",
    "%matplotlib inline"
   ]
  },
  {
   "cell_type": "code",
   "execution_count": 12,
   "metadata": {
    "collapsed": true
   },
   "outputs": [],
   "source": [
    "def eval_enrichment(f, var_type):\n",
    "    df = pandas.read_csv(f, delimiter='\\t')\n",
    "    sig = df.apply(lambda row: row[var_type + '_qval'] < .01 and row[var_type + '_fg_gtr'] and row['pfam'] != 'none', axis=1)\n",
    "    not_sig = df.apply(lambda row: row[var_type + '_qval'] > .2 and row['pfam'] != 'none', axis=1)\n",
    "    sig_exac = df.apply(lambda row: row[var_type + '_qval'] < .01 and not row[var_type + '_fg_gtr'] and row['pfam'] != 'none', axis=1)\n",
    "    \n",
    "    g_sig = df[sig].groupby('clin_class').size().reset_index().rename(columns={0:'size'})\n",
    "    path = sum(g_sig[ (g_sig.clin_class=='LIKELY_PATHOGENIC') | (g_sig.clin_class=='PATHOGENIC') ]['size'])\n",
    "    ben = sum(g_sig[ (g_sig.clin_class=='LIKELY_BENIGN') | (g_sig.clin_class=='BENIGN') ]['size'])\n",
    "    print('fg', path, ben, path/(path+ben))\n",
    "    \n",
    "    g_sig_exac = df[sig_exac].groupby('clin_class').size().reset_index().rename(columns={0:'size'})\n",
    "    path = sum(g_sig_exac[ (g_sig_exac.clin_class=='LIKELY_PATHOGENIC') | (g_sig_exac.clin_class=='PATHOGENIC') ]['size'])\n",
    "    ben = sum(g_sig_exac[ (g_sig_exac.clin_class=='LIKELY_BENIGN') | (g_sig_exac.clin_class=='BENIGN') ]['size'])\n",
    "    print('exac enriched', path, ben, path/(path+ben))\n",
    "    \n",
    "    g_ns = df[not_sig].groupby('clin_class').size().reset_index().rename(columns={0:'size'})\n",
    "    path = sum(g_ns[ (g_ns.clin_class=='LIKELY_PATHOGENIC') | (g_ns.clin_class=='PATHOGENIC') ]['size'])\n",
    "    ben = sum(g_ns[ (g_ns.clin_class=='LIKELY_BENIGN') | (g_ns.clin_class=='BENIGN') ]['size'])\n",
    "    print('not enriched', path, ben, path/(path+ben))"
   ]
  },
  {
   "cell_type": "code",
   "execution_count": 13,
   "metadata": {
    "collapsed": false
   },
   "outputs": [
    {
     "name": "stderr",
     "output_type": "stream",
     "text": [
      "/opt/conda/lib/python3.4/site-packages/IPython/core/interactiveshell.py:2821: DtypeWarning: Columns (0) have mixed types. Specify dtype option on import or set low_memory=False.\n",
      "  if self.run_code(code, result):\n"
     ]
    },
    {
     "name": "stdout",
     "output_type": "stream",
     "text": [
      "fg 105 18 0.853658536585\n",
      "exac enriched 25 53 0.320512820513\n",
      "not enriched 133 129 0.507633587786\n",
      "//\n",
      "fg 121 18 0.870503597122\n",
      "exac enriched 29 59 0.329545454545\n",
      "not enriched 136 129 0.51320754717\n",
      "//\n"
     ]
    },
    {
     "name": "stderr",
     "output_type": "stream",
     "text": [
      "/opt/conda/lib/python3.4/site-packages/IPython/core/interactiveshell.py:2827: DtypeWarning: Columns (0) have mixed types. Specify dtype option on import or set low_memory=False.\n",
      "  if self.run_code(code, result):\n"
     ]
    },
    {
     "name": "stdout",
     "output_type": "stream",
     "text": [
      "fg 19 11 0.633333333333\n",
      "exac enriched 11 7 0.611111111111\n",
      "not enriched 151 115 0.567669172932\n"
     ]
    }
   ],
   "source": [
    "f = '../data/interim/EPIv6.eff.dbnsfp.anno.hHack.splitPfam.mis.dat'\n",
    "var_type = 'mis'\n",
    "eval_enrichment(f, var_type)\n",
    "print('//')\n",
    "\n",
    "f = '../data/interim/EPIv6.eff.dbnsfp.anno.hHack.splitPfam.all.dat'\n",
    "var_type = 'all'\n",
    "eval_enrichment(f, var_type)\n",
    "print('//')\n",
    "\n",
    "f = '../data/interim/EPIv6.eff.dbnsfp.anno.hHack.splitPfam.lof.dat'\n",
    "var_type = 'lof'\n",
    "eval_enrichment(f, var_type)"
   ]
  },
  {
   "cell_type": "code",
   "execution_count": 3,
   "metadata": {
    "collapsed": false
   },
   "outputs": [],
   "source": [
    "sig = df.apply(lambda row: row['missense_qval'] < .01 and row['missense_fg_gtr'], axis=1)\n",
    "not_sig = df.apply(lambda row: row['missense_qval'] > .2, axis=1)\n",
    "sig_exac = df.apply(lambda row: row['missense_qval'] < .01 and not row['missense_fg_gtr'], axis=1)"
   ]
  },
  {
   "cell_type": "markdown",
   "metadata": {},
   "source": [
    "### enriched domains"
   ]
  },
  {
   "cell_type": "code",
   "execution_count": 4,
   "metadata": {
    "collapsed": false
   },
   "outputs": [
    {
     "name": "stdout",
     "output_type": "stream",
     "text": [
      "105 18 0.853658536585\n"
     ]
    }
   ],
   "source": [
    "g_sig = df[sig].groupby('clin_class').size().reset_index().rename(columns={0:'size'})\n",
    "path = sum(g_sig[ (g_sig.clin_class=='LIKELY_PATHOGENIC') | (g_sig.clin_class=='PATHOGENIC') ]['size'])\n",
    "ben = sum(g_sig[ (g_sig.clin_class=='LIKELY_BENIGN') | (g_sig.clin_class=='BENIGN') ]['size'])\n",
    "print(path, ben, path/(path+ben))"
   ]
  },
  {
   "cell_type": "markdown",
   "metadata": {},
   "source": [
    "### exac enriched domains"
   ]
  },
  {
   "cell_type": "code",
   "execution_count": 5,
   "metadata": {
    "collapsed": false
   },
   "outputs": [
    {
     "name": "stdout",
     "output_type": "stream",
     "text": [
      "12651 26780 0.320838933834\n"
     ]
    }
   ],
   "source": [
    "g_sig_exac = df[sig_exac].groupby('clin_class').size().reset_index().rename(columns={0:'size'})\n",
    "path = sum(g_sig_exac[ (g_sig_exac.clin_class=='LIKELY_PATHOGENIC') | (g_sig_exac.clin_class=='PATHOGENIC') ]['size'])\n",
    "ben = sum(g_sig_exac[ (g_sig_exac.clin_class=='LIKELY_BENIGN') | (g_sig_exac.clin_class=='BENIGN') ]['size'])\n",
    "print(path, ben, path/(path+ben))"
   ]
  },
  {
   "cell_type": "markdown",
   "metadata": {},
   "source": [
    "### non enriched domains"
   ]
  },
  {
   "cell_type": "code",
   "execution_count": 6,
   "metadata": {
    "collapsed": false
   },
   "outputs": [
    {
     "name": "stdout",
     "output_type": "stream",
     "text": [
      "6553 13719 0.323253749013\n"
     ]
    }
   ],
   "source": [
    "g_ns = df[not_sig].groupby('clin_class').size().reset_index().rename(columns={0:'size'})\n",
    "path = sum(g_ns[ (g_ns.clin_class=='LIKELY_PATHOGENIC') | (g_ns.clin_class=='PATHOGENIC') ]['size'])\n",
    "ben = sum(g_ns[ (g_ns.clin_class=='LIKELY_BENIGN') | (g_ns.clin_class=='BENIGN') ]['size'])\n",
    "print(path, ben, path/(path+ben))"
   ]
  },
  {
   "cell_type": "code",
   "execution_count": null,
   "metadata": {
    "collapsed": true
   },
   "outputs": [],
   "source": []
  }
 ],
 "metadata": {
  "kernelspec": {
   "display_name": "Python 3",
   "language": "python",
   "name": "python3"
  },
  "language_info": {
   "codemirror_mode": {
    "name": "ipython",
    "version": 3
   },
   "file_extension": ".py",
   "mimetype": "text/x-python",
   "name": "python",
   "nbconvert_exporter": "python",
   "pygments_lexer": "ipython3",
   "version": "3.4.5"
  }
 },
 "nbformat": 4,
 "nbformat_minor": 2
}
