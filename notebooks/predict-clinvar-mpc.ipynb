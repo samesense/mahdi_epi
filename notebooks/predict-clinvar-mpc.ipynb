{
 "cells": [
  {
   "cell_type": "markdown",
   "metadata": {},
   "source": [
    "### predict clinvar w/ mpc\n",
    "* eval on missesne\n",
    "* must have mpc score"
   ]
  },
  {
   "cell_type": "code",
   "execution_count": 9,
   "metadata": {
    "collapsed": true
   },
   "outputs": [],
   "source": [
    "import pandas, pydot, pydotplus, graphviz\n",
    "import matplotlib.pyplot as plt\n",
    "import seaborn as sns\n",
    "from sklearn import linear_model, metrics, tree, svm\n",
    "from sklearn.neural_network import MLPClassifier\n",
    "from sklearn.externals.six import StringIO\n",
    "from IPython.display import HTML\n",
    "%matplotlib inline"
   ]
  },
  {
   "cell_type": "code",
   "execution_count": 16,
   "metadata": {
    "collapsed": false
   },
   "outputs": [
    {
     "name": "stdout",
     "output_type": "stream",
     "text": [
      "# clinvar variants with missesense pathogenic and mpc score 966\n",
      "# clinvar variants with missense benign and mpc score 374\n",
      "# clinvar positions with missesnse pathogenic and mpc score 934\n",
      "# clinvar positions with missense benign and mpc score 371\n"
     ]
    }
   ],
   "source": [
    "def calc_final_sig(row):\n",
    "    sig_set = set(str(row['clinSig'].split('|')))\n",
    "    has_benign = '2' in sig_set or '3' in sig_set\n",
    "    has_path = '4' in sig_set or '5' in sig_set\n",
    "    if has_path and not has_benign:\n",
    "        return 1\n",
    "    if not has_path and has_benign:\n",
    "        return 0\n",
    "    return -1\n",
    "\n",
    "clin_file = '../data/interim/clinvar/clinvar.dat'\n",
    "clinvar_df_pre = pandas.read_csv(clin_file, sep='\\t').fillna(0)\n",
    "clinvar_df_pre.loc[:, \"y\"] = clinvar_df_pre.apply(calc_final_sig, axis=1)\n",
    "p = clinvar_df_pre[ (clinvar_df_pre.y==1) & (clinvar_df_pre.mpc>0) & (clinvar_df_pre.eff=='missense_variant')]\n",
    "b = clinvar_df_pre[ (clinvar_df_pre.y==0) & (clinvar_df_pre.mpc>0) & (clinvar_df_pre.eff=='missense_variant')]\n",
    "print('# clinvar variants with missesense pathogenic and mpc score', len(p))\n",
    "print('# clinvar variants with missense benign and mpc score', len(b))\n",
    "\n",
    "p = len(p[['chrom','pos']].drop_duplicates())\n",
    "b = len(b[['chrom','pos']].drop_duplicates())\n",
    "print('# clinvar positions with missesnse pathogenic and mpc score', p)\n",
    "print('# clinvar positions with missense benign and mpc score', b)\n",
    "\n",
    "clinvar_df = clinvar_df_pre[(clinvar_df_pre.mpc>0)\n",
    "                            & (clinvar_df_pre.eff=='missense_variant')\n",
    "                            & (clinvar_df_pre.y!=-1)]"
   ]
  },
  {
   "cell_type": "code",
   "execution_count": 17,
   "metadata": {
    "collapsed": false
   },
   "outputs": [
    {
     "data": {
      "image/png": "[encoded data removed]",
      "text/plain": [
       "<matplotlib.figure.Figure at 0x7f6f1366e2e8>"
      ]
     },
     "metadata": {},
     "output_type": "display_data"
    }
   ],
   "source": [
    "scores = clinvar_df['mpc'].values\n",
    "truth = clinvar_df['y'].values\n",
    "fpr_mpc, tpr_mpc, _ = metrics.roc_curve(truth, scores, pos_label=1)\n",
    "plt.plot(fpr_mpc, tpr_mpc, label='mpc', color='black')\n",
    "plt.savefig('../docs/plots/clinvar_mis_mpc_roc.png')"
   ]
  },
  {
   "cell_type": "code",
   "execution_count": null,
   "metadata": {
    "collapsed": true
   },
   "outputs": [],
   "source": []
  }
 ],
 "metadata": {
  "kernelspec": {
   "display_name": "Python 3",
   "language": "python",
   "name": "python3"
  },
  "language_info": {
   "codemirror_mode": {
    "name": "ipython",
    "version": 3
   },
   "file_extension": ".py",
   "mimetype": "text/x-python",
   "name": "python",
   "nbconvert_exporter": "python",
   "pygments_lexer": "ipython3",
   "version": "3.4.5"
  }
 },
 "nbformat": 4,
 "nbformat_minor": 2
}
