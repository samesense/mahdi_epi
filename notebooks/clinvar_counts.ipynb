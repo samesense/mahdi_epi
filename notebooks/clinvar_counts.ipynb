{
 "cells": [
  {
   "cell_type": "code",
   "execution_count": 2,
   "metadata": {
    "collapsed": true
   },
   "outputs": [],
   "source": [
    "import pandas as pd"
   ]
  },
  {
   "cell_type": "code",
   "execution_count": 3,
   "metadata": {
    "collapsed": false
   },
   "outputs": [
    {
     "data": {
      "text/html": [
       "<div>\n",
       "<table border=\"1\" class=\"dataframe\">\n",
       "  <thead>\n",
       "    <tr style=\"text-align: right;\">\n",
       "      <th></th>\n",
       "      <th>chrom</th>\n",
       "      <th>pos</th>\n",
       "      <th>ref</th>\n",
       "      <th>alt</th>\n",
       "      <th>clin_class</th>\n",
       "      <th>pfam</th>\n",
       "      <th>eff</th>\n",
       "      <th>gene</th>\n",
       "      <th>esp_af_max</th>\n",
       "      <th>revel</th>\n",
       "      <th>...</th>\n",
       "      <th>missense_badness</th>\n",
       "      <th>missense_depletion</th>\n",
       "      <th>clinSig</th>\n",
       "      <th>confidence</th>\n",
       "      <th>Disease</th>\n",
       "      <th>class</th>\n",
       "      <th>in_hgmd_dm</th>\n",
       "      <th>is_domain</th>\n",
       "      <th>y</th>\n",
       "      <th>in_uniprot_benign</th>\n",
       "    </tr>\n",
       "  </thead>\n",
       "  <tbody>\n",
       "    <tr>\n",
       "      <th>0</th>\n",
       "      <td>1</td>\n",
       "      <td>949851</td>\n",
       "      <td>G</td>\n",
       "      <td>C</td>\n",
       "      <td>clinvar</td>\n",
       "      <td>none63</td>\n",
       "      <td>missense_variant</td>\n",
       "      <td>ISG15</td>\n",
       "      <td>0.002063</td>\n",
       "      <td>0.012</td>\n",
       "      <td>...</td>\n",
       "      <td>0.7499</td>\n",
       "      <td>-0.9522</td>\n",
       "      <td>Likely_benign</td>\n",
       "      <td>criteria_provided,_single_submitter</td>\n",
       "      <td>clinvar_tot</td>\n",
       "      <td>B</td>\n",
       "      <td>False</td>\n",
       "      <td>0</td>\n",
       "      <td>0</td>\n",
       "      <td>False</td>\n",
       "    </tr>\n",
       "    <tr>\n",
       "      <th>1</th>\n",
       "      <td>1</td>\n",
       "      <td>970687</td>\n",
       "      <td>C</td>\n",
       "      <td>T</td>\n",
       "      <td>clinvar</td>\n",
       "      <td>none67</td>\n",
       "      <td>missense_variant</td>\n",
       "      <td>AGRN</td>\n",
       "      <td>0.005674</td>\n",
       "      <td>0.324</td>\n",
       "      <td>...</td>\n",
       "      <td>0.3769</td>\n",
       "      <td>-0.7525</td>\n",
       "      <td>Likely_benign</td>\n",
       "      <td>criteria_provided,_single_submitter</td>\n",
       "      <td>clinvar_tot</td>\n",
       "      <td>B</td>\n",
       "      <td>False</td>\n",
       "      <td>0</td>\n",
       "      <td>0</td>\n",
       "      <td>False</td>\n",
       "    </tr>\n",
       "    <tr>\n",
       "      <th>2</th>\n",
       "      <td>1</td>\n",
       "      <td>977028</td>\n",
       "      <td>G</td>\n",
       "      <td>T</td>\n",
       "      <td>clinvar</td>\n",
       "      <td>Kazal_2:2,Kazal_1:2</td>\n",
       "      <td>missense_variant</td>\n",
       "      <td>AGRN</td>\n",
       "      <td>0.007057</td>\n",
       "      <td>0.268</td>\n",
       "      <td>...</td>\n",
       "      <td>0.2686</td>\n",
       "      <td>-0.7525</td>\n",
       "      <td>Benign/Likely_benign</td>\n",
       "      <td>criteria_provided,_multiple_submitters,_no_con...</td>\n",
       "      <td>clinvar_tot</td>\n",
       "      <td>B</td>\n",
       "      <td>False</td>\n",
       "      <td>1</td>\n",
       "      <td>0</td>\n",
       "      <td>False</td>\n",
       "    </tr>\n",
       "    <tr>\n",
       "      <th>3</th>\n",
       "      <td>1</td>\n",
       "      <td>977356</td>\n",
       "      <td>C</td>\n",
       "      <td>T</td>\n",
       "      <td>clinvar</td>\n",
       "      <td>none70</td>\n",
       "      <td>missense_variant</td>\n",
       "      <td>AGRN</td>\n",
       "      <td>0.002726</td>\n",
       "      <td>0.246</td>\n",
       "      <td>...</td>\n",
       "      <td>0.3941</td>\n",
       "      <td>-0.7525</td>\n",
       "      <td>Likely_benign</td>\n",
       "      <td>criteria_provided,_single_submitter</td>\n",
       "      <td>clinvar_tot</td>\n",
       "      <td>B</td>\n",
       "      <td>False</td>\n",
       "      <td>0</td>\n",
       "      <td>0</td>\n",
       "      <td>False</td>\n",
       "    </tr>\n",
       "    <tr>\n",
       "      <th>4</th>\n",
       "      <td>1</td>\n",
       "      <td>978628</td>\n",
       "      <td>C</td>\n",
       "      <td>T</td>\n",
       "      <td>clinvar</td>\n",
       "      <td>none71</td>\n",
       "      <td>missense_variant</td>\n",
       "      <td>AGRN</td>\n",
       "      <td>0.006150</td>\n",
       "      <td>0.136</td>\n",
       "      <td>...</td>\n",
       "      <td>0.3769</td>\n",
       "      <td>-0.7525</td>\n",
       "      <td>Likely_benign</td>\n",
       "      <td>criteria_provided,_single_submitter</td>\n",
       "      <td>clinvar_tot</td>\n",
       "      <td>B</td>\n",
       "      <td>False</td>\n",
       "      <td>0</td>\n",
       "      <td>0</td>\n",
       "      <td>False</td>\n",
       "    </tr>\n",
       "  </tbody>\n",
       "</table>\n",
       "<p>5 rows × 25 columns</p>\n",
       "</div>"
      ],
      "text/plain": [
       "   chrom     pos ref alt clin_class                 pfam               eff  \\\n",
       "0      1  949851   G   C    clinvar               none63  missense_variant   \n",
       "1      1  970687   C   T    clinvar               none67  missense_variant   \n",
       "2      1  977028   G   T    clinvar  Kazal_2:2,Kazal_1:2  missense_variant   \n",
       "3      1  977356   C   T    clinvar               none70  missense_variant   \n",
       "4      1  978628   C   T    clinvar               none71  missense_variant   \n",
       "\n",
       "    gene  esp_af_max  revel        ...         missense_badness  \\\n",
       "0  ISG15    0.002063  0.012        ...                   0.7499   \n",
       "1   AGRN    0.005674  0.324        ...                   0.3769   \n",
       "2   AGRN    0.007057  0.268        ...                   0.2686   \n",
       "3   AGRN    0.002726  0.246        ...                   0.3941   \n",
       "4   AGRN    0.006150  0.136        ...                   0.3769   \n",
       "\n",
       "   missense_depletion               clinSig  \\\n",
       "0             -0.9522         Likely_benign   \n",
       "1             -0.7525         Likely_benign   \n",
       "2             -0.7525  Benign/Likely_benign   \n",
       "3             -0.7525         Likely_benign   \n",
       "4             -0.7525         Likely_benign   \n",
       "\n",
       "                                          confidence      Disease  class  \\\n",
       "0                criteria_provided,_single_submitter  clinvar_tot      B   \n",
       "1                criteria_provided,_single_submitter  clinvar_tot      B   \n",
       "2  criteria_provided,_multiple_submitters,_no_con...  clinvar_tot      B   \n",
       "3                criteria_provided,_single_submitter  clinvar_tot      B   \n",
       "4                criteria_provided,_single_submitter  clinvar_tot      B   \n",
       "\n",
       "   in_hgmd_dm is_domain  y in_uniprot_benign  \n",
       "0       False         0  0             False  \n",
       "1       False         0  0             False  \n",
       "2       False         1  0             False  \n",
       "3       False         0  0             False  \n",
       "4       False         0  0             False  \n",
       "\n",
       "[5 rows x 25 columns]"
      ]
     },
     "execution_count": 3,
     "metadata": {},
     "output_type": "execute_result"
    }
   ],
   "source": [
    "af = '/mnt/isilon/dbhi_bfx/perry/projects/sarmadi/mahdi_epi/data/interim/clinvar/full/clinvar.eff.dbnsfp.anno.dat.limit.xls'\n",
    "df = pd.read_csv(af, sep='\\t')\n",
    "df.head()"
   ]
  },
  {
   "cell_type": "code",
   "execution_count": 4,
   "metadata": {
    "collapsed": false
   },
   "outputs": [
    {
     "data": {
      "text/plain": [
       "23963"
      ]
     },
     "execution_count": 4,
     "metadata": {},
     "output_type": "execute_result"
    }
   ],
   "source": [
    "len(df)"
   ]
  },
  {
   "cell_type": "code",
   "execution_count": 6,
   "metadata": {
    "collapsed": false
   },
   "outputs": [
    {
     "data": {
      "text/plain": [
       "23963"
      ]
     },
     "execution_count": 6,
     "metadata": {},
     "output_type": "execute_result"
    }
   ],
   "source": [
    "len(df.drop_duplicates(['chrom', 'pos', 'Disease']))"
   ]
  },
  {
   "cell_type": "code",
   "execution_count": 7,
   "metadata": {
    "collapsed": false
   },
   "outputs": [
    {
     "data": {
      "text/html": [
       "<div>\n",
       "<table border=\"1\" class=\"dataframe\">\n",
       "  <thead>\n",
       "    <tr style=\"text-align: right;\">\n",
       "      <th></th>\n",
       "      <th>chrom</th>\n",
       "      <th>pos</th>\n",
       "      <th>Disease</th>\n",
       "    </tr>\n",
       "  </thead>\n",
       "  <tbody>\n",
       "    <tr>\n",
       "      <th>0</th>\n",
       "      <td>1</td>\n",
       "      <td>949851</td>\n",
       "      <td>clinvar_tot</td>\n",
       "    </tr>\n",
       "    <tr>\n",
       "      <th>1</th>\n",
       "      <td>1</td>\n",
       "      <td>970687</td>\n",
       "      <td>clinvar_tot</td>\n",
       "    </tr>\n",
       "    <tr>\n",
       "      <th>2</th>\n",
       "      <td>1</td>\n",
       "      <td>977028</td>\n",
       "      <td>clinvar_tot</td>\n",
       "    </tr>\n",
       "    <tr>\n",
       "      <th>3</th>\n",
       "      <td>1</td>\n",
       "      <td>977356</td>\n",
       "      <td>clinvar_tot</td>\n",
       "    </tr>\n",
       "    <tr>\n",
       "      <th>4</th>\n",
       "      <td>1</td>\n",
       "      <td>978628</td>\n",
       "      <td>clinvar_tot</td>\n",
       "    </tr>\n",
       "  </tbody>\n",
       "</table>\n",
       "</div>"
      ],
      "text/plain": [
       "   chrom     pos      Disease\n",
       "0      1  949851  clinvar_tot\n",
       "1      1  970687  clinvar_tot\n",
       "2      1  977028  clinvar_tot\n",
       "3      1  977356  clinvar_tot\n",
       "4      1  978628  clinvar_tot"
      ]
     },
     "execution_count": 7,
     "metadata": {},
     "output_type": "execute_result"
    }
   ],
   "source": [
    "df[['chrom', 'pos', 'Disease']].head()"
   ]
  },
  {
   "cell_type": "code",
   "execution_count": 8,
   "metadata": {
    "collapsed": false
   },
   "outputs": [
    {
     "data": {
      "text/plain": [
       "Disease\n",
       "clinvar_exp         215\n",
       "clinvar_mult       1868\n",
       "clinvar_single     9895\n",
       "clinvar_tot       11985\n",
       "dtype: int64"
      ]
     },
     "execution_count": 8,
     "metadata": {},
     "output_type": "execute_result"
    }
   ],
   "source": [
    "df[['Disease']].groupby('Disease').size()"
   ]
  },
  {
   "cell_type": "code",
   "execution_count": 9,
   "metadata": {
    "collapsed": false
   },
   "outputs": [
    {
     "data": {
      "text/html": [
       "<div>\n",
       "<table border=\"1\" class=\"dataframe\">\n",
       "  <thead>\n",
       "    <tr style=\"text-align: right;\">\n",
       "      <th></th>\n",
       "      <th>chrom</th>\n",
       "      <th>pos</th>\n",
       "      <th>ref</th>\n",
       "      <th>alt</th>\n",
       "      <th>clin_class</th>\n",
       "      <th>pfam</th>\n",
       "      <th>eff</th>\n",
       "      <th>gene</th>\n",
       "      <th>esp_af_max</th>\n",
       "      <th>revel</th>\n",
       "      <th>...</th>\n",
       "      <th>missense_badness</th>\n",
       "      <th>missense_depletion</th>\n",
       "      <th>clinSig</th>\n",
       "      <th>confidence</th>\n",
       "      <th>Disease</th>\n",
       "      <th>class</th>\n",
       "      <th>in_hgmd_dm</th>\n",
       "      <th>is_domain</th>\n",
       "      <th>y</th>\n",
       "      <th>in_uniprot_benign</th>\n",
       "    </tr>\n",
       "  </thead>\n",
       "  <tbody>\n",
       "  </tbody>\n",
       "</table>\n",
       "<p>0 rows × 25 columns</p>\n",
       "</div>"
      ],
      "text/plain": [
       "Empty DataFrame\n",
       "Columns: [chrom, pos, ref, alt, clin_class, pfam, eff, gene, esp_af_max, revel, mpc, mtr, ccr, fathmm, vest, missense_badness, missense_depletion, clinSig, confidence, Disease, class, in_hgmd_dm, is_domain, y, in_uniprot_benign]\n",
       "Index: []\n",
       "\n",
       "[0 rows x 25 columns]"
      ]
     },
     "execution_count": 9,
     "metadata": {},
     "output_type": "execute_result"
    }
   ],
   "source": [
    "af = '/mnt/isilon/dbhi_bfx/perry/projects/sarmadi/mahdi_epi/data/interim/full/clinvar.dat'\n",
    "df = pd.read_csv(af, sep='\\t')\n",
    "df[df.isnull().any(axis=1)].head()"
   ]
  },
  {
   "cell_type": "code",
   "execution_count": 11,
   "metadata": {
    "collapsed": false
   },
   "outputs": [
    {
     "data": {
      "text/html": [
       "<div>\n",
       "<table border=\"1\" class=\"dataframe\">\n",
       "  <thead>\n",
       "    <tr style=\"text-align: right;\">\n",
       "      <th></th>\n",
       "      <th>ccr</th>\n",
       "      <th>vest</th>\n",
       "      <th>fathmm</th>\n",
       "      <th>missense_badness</th>\n",
       "      <th>missense_depletion</th>\n",
       "      <th>mtr</th>\n",
       "    </tr>\n",
       "  </thead>\n",
       "  <tbody>\n",
       "  </tbody>\n",
       "</table>\n",
       "</div>"
      ],
      "text/plain": [
       "Empty DataFrame\n",
       "Columns: [ccr, vest, fathmm, missense_badness, missense_depletion, mtr]\n",
       "Index: []"
      ]
     },
     "execution_count": 11,
     "metadata": {},
     "output_type": "execute_result"
    }
   ],
   "source": [
    "af = '/mnt/isilon/dbhi_bfx/perry/projects/sarmadi/mahdi_epi/data/interim/full/panel.dat'\n",
    "df = pd.read_csv(af, sep='\\t')[['ccr', 'vest', 'fathmm', 'missense_badness', 'missense_depletion', 'mtr']]\n",
    "df[df.isnull().any(axis=1)].head()"
   ]
  },
  {
   "cell_type": "code",
   "execution_count": null,
   "metadata": {
    "collapsed": true
   },
   "outputs": [],
   "source": []
  }
 ],
 "metadata": {
  "kernelspec": {
   "display_name": "Python 3",
   "language": "python",
   "name": "python3"
  },
  "language_info": {
   "codemirror_mode": {
    "name": "ipython",
    "version": 3
   },
   "file_extension": ".py",
   "mimetype": "text/x-python",
   "name": "python",
   "nbconvert_exporter": "python",
   "pygments_lexer": "ipython3",
   "version": "3.4.5"
  }
 },
 "nbformat": 4,
 "nbformat_minor": 2
}
