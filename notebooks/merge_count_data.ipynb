{
 "cells": [
  {
   "cell_type": "markdown",
   "metadata": {},
   "source": [
    "### collapse data"
   ]
  },
  {
   "cell_type": "code",
   "execution_count": 36,
   "metadata": {
    "collapsed": true
   },
   "outputs": [],
   "source": [
    "import pandas, math\n",
    "from collections import defaultdict\n",
    "%matplotlib inline"
   ]
  },
  {
   "cell_type": "code",
   "execution_count": 40,
   "metadata": {
    "collapsed": false
   },
   "outputs": [
    {
     "name": "stderr",
     "output_type": "stream",
     "text": [
      "/opt/conda/lib/python3.4/site-packages/IPython/core/interactiveshell.py:2717: DtypeWarning: Columns (0) have mixed types. Specify dtype option on import or set low_memory=False.\n",
      "  interactivity=interactivity, compiler=compiler, result=result)\n"
     ]
    },
    {
     "name": "stdout",
     "output_type": "stream",
     "text": [
      "106210 17165\n"
     ]
    },
    {
     "data": {
      "text/html": [
       "<div>\n",
       "<table border=\"1\" class=\"dataframe\">\n",
       "  <thead>\n",
       "    <tr style=\"text-align: right;\">\n",
       "      <th></th>\n",
       "      <th>pfam</th>\n",
       "      <th>pos_fam</th>\n",
       "      <th>neg_fam</th>\n",
       "      <th>ac</th>\n",
       "      <th>an</th>\n",
       "      <th>miss_fg</th>\n",
       "      <th>miss_exac</th>\n",
       "      <th>fg_tot</th>\n",
       "      <th>bg_tot</th>\n",
       "      <th>fg_frac</th>\n",
       "      <th>fg_frac_log</th>\n",
       "      <th>bg_frac</th>\n",
       "      <th>bg_frac_log</th>\n",
       "      <th>fg_other</th>\n",
       "      <th>bg_other</th>\n",
       "    </tr>\n",
       "  </thead>\n",
       "  <tbody>\n",
       "    <tr>\n",
       "      <th>0</th>\n",
       "      <td>Aldedh:185</td>\n",
       "      <td>1.0</td>\n",
       "      <td>7302.0</td>\n",
       "      <td>102</td>\n",
       "      <td>2230410</td>\n",
       "      <td>4</td>\n",
       "      <td>0.0</td>\n",
       "      <td>83265.0</td>\n",
       "      <td>2230410.0</td>\n",
       "      <td>0.000024</td>\n",
       "      <td>-15.345423</td>\n",
       "      <td>0.000046</td>\n",
       "      <td>-14.402377</td>\n",
       "      <td>83264.0</td>\n",
       "      <td>2230308.0</td>\n",
       "    </tr>\n",
       "    <tr>\n",
       "      <th>1</th>\n",
       "      <td>Aldedh:194</td>\n",
       "      <td>1.0</td>\n",
       "      <td>7302.0</td>\n",
       "      <td>33</td>\n",
       "      <td>2228994</td>\n",
       "      <td>6</td>\n",
       "      <td>0.0</td>\n",
       "      <td>117595.0</td>\n",
       "      <td>2228994.0</td>\n",
       "      <td>0.000017</td>\n",
       "      <td>-15.843467</td>\n",
       "      <td>0.000015</td>\n",
       "      <td>-16.000498</td>\n",
       "      <td>117594.0</td>\n",
       "      <td>2228961.0</td>\n",
       "    </tr>\n",
       "    <tr>\n",
       "      <th>2</th>\n",
       "      <td>Asp:20</td>\n",
       "      <td>2.0</td>\n",
       "      <td>8543.0</td>\n",
       "      <td>201</td>\n",
       "      <td>2442798</td>\n",
       "      <td>21</td>\n",
       "      <td>1.0</td>\n",
       "      <td>377553.0</td>\n",
       "      <td>2549008.0</td>\n",
       "      <td>0.000008</td>\n",
       "      <td>-16.941357</td>\n",
       "      <td>0.000079</td>\n",
       "      <td>-13.623293</td>\n",
       "      <td>377551.0</td>\n",
       "      <td>2548807.0</td>\n",
       "    </tr>\n",
       "    <tr>\n",
       "      <th>3</th>\n",
       "      <td>CD36:17</td>\n",
       "      <td>1.0</td>\n",
       "      <td>3914.0</td>\n",
       "      <td>18</td>\n",
       "      <td>1486940</td>\n",
       "      <td>7</td>\n",
       "      <td>1.0</td>\n",
       "      <td>127984.0</td>\n",
       "      <td>1593150.0</td>\n",
       "      <td>0.000016</td>\n",
       "      <td>-15.965604</td>\n",
       "      <td>0.000012</td>\n",
       "      <td>-16.355523</td>\n",
       "      <td>127983.0</td>\n",
       "      <td>1593132.0</td>\n",
       "    </tr>\n",
       "    <tr>\n",
       "      <th>4</th>\n",
       "      <td>CD36:23</td>\n",
       "      <td>1.0</td>\n",
       "      <td>3914.0</td>\n",
       "      <td>28</td>\n",
       "      <td>1061960</td>\n",
       "      <td>4</td>\n",
       "      <td>0.0</td>\n",
       "      <td>76489.0</td>\n",
       "      <td>1061960.0</td>\n",
       "      <td>0.000026</td>\n",
       "      <td>-15.222965</td>\n",
       "      <td>0.000027</td>\n",
       "      <td>-15.160317</td>\n",
       "      <td>76488.0</td>\n",
       "      <td>1061932.0</td>\n",
       "    </tr>\n",
       "  </tbody>\n",
       "</table>\n",
       "</div>"
      ],
      "text/plain": [
       "         pfam  pos_fam  neg_fam   ac       an  miss_fg  miss_exac    fg_tot  \\\n",
       "0  Aldedh:185      1.0   7302.0  102  2230410        4        0.0   83265.0   \n",
       "1  Aldedh:194      1.0   7302.0   33  2228994        6        0.0  117595.0   \n",
       "2      Asp:20      2.0   8543.0  201  2442798       21        1.0  377553.0   \n",
       "3     CD36:17      1.0   3914.0   18  1486940        7        1.0  127984.0   \n",
       "4     CD36:23      1.0   3914.0   28  1061960        4        0.0   76489.0   \n",
       "\n",
       "      bg_tot   fg_frac  fg_frac_log   bg_frac  bg_frac_log  fg_other  \\\n",
       "0  2230410.0  0.000024   -15.345423  0.000046   -14.402377   83264.0   \n",
       "1  2228994.0  0.000017   -15.843467  0.000015   -16.000498  117594.0   \n",
       "2  2549008.0  0.000008   -16.941357  0.000079   -13.623293  377551.0   \n",
       "3  1593150.0  0.000016   -15.965604  0.000012   -16.355523  127983.0   \n",
       "4  1061960.0  0.000026   -15.222965  0.000027   -15.160317   76488.0   \n",
       "\n",
       "    bg_other  \n",
       "0  2230308.0  \n",
       "1  2228961.0  \n",
       "2  2548807.0  \n",
       "3  1593132.0  \n",
       "4  1061932.0  "
      ]
     },
     "execution_count": 40,
     "metadata": {},
     "output_type": "execute_result"
    }
   ],
   "source": [
    "fg_file = '../data/interim/EPIv6.eff.dbnsfp.anno.hHack.splitPfam.dat'\n",
    "bg_file = '../data/interim/r1_no_tcga/exac.tidy.eff.dbnsfp.gt.anno.hHack.splitPfam.dat'\n",
    "df_exac_pre = pandas.read_csv(bg_file, sep='\\t')\n",
    "max_exac_an = max(df_exac_pre['an'].values)\n",
    "\n",
    "df_fg_pre = pandas.read_csv(fg_file, sep='\\t')\n",
    "max_fg = max([p+2*n for p,n in df_fg_pre[['pos_fam', 'neg_fam']].values])\n",
    "df_exac = df_exac_pre[df_exac_pre['af_1kg_all'] < .01]\n",
    "df_fg = df_fg_pre[df_fg_pre['af_1kg_all'] < .01]\n",
    "\n",
    "# don't forget to add non-var counts\n",
    "var = 'synonymous_variant'\n",
    "cols = ['pfam', 'chrom', 'pos']\n",
    "pfam_to_exac_pos = defaultdict(dict)\n",
    "for pfam, chrom, pos in list(df_exac[df_exac.eff==var][cols].values):\n",
    "    pfam_to_exac_pos[pfam][str(chrom) + ':' + str(pos)] = True\n",
    "pfam_to_fg_pos = defaultdict(dict)\n",
    "for pfam, chrom, pos in list(df_fg[df_fg.eff==var][cols].values):\n",
    "    pfam_to_fg_pos[pfam][str(chrom) + ':' + str(pos)] = True\n",
    "\n",
    "missing_exac_count = []\n",
    "for pfam in pfam_to_fg_pos:\n",
    "    if not pfam in pfam_to_exac_pos:\n",
    "        ls = [pfam, len(pfam_to_fg_pos[pfam])]\n",
    "        missing_exac_count.append(ls)\n",
    "    else:\n",
    "        miss_len = len( set(pfam_to_fg_pos[pfam]) - set(pfam_to_exac_pos[pfam]) )\n",
    "        ls = [pfam, miss_len]\n",
    "        missing_exac_count.append(ls)\n",
    "missing_exac_df = pandas.DataFrame({'pfam':[x[0] for x in missing_exac_count],\n",
    "                                    'miss_exac':[x[1] for x in missing_exac_count]})        \n",
    "missing_fg_count = []\n",
    "for pfam in pfam_to_exac_pos:\n",
    "    if not pfam in pfam_to_fg_pos:\n",
    "        ls = [pfam, len(pfam_to_exac_pos[pfam])]\n",
    "        missing_fg_count.append(ls)\n",
    "    else:\n",
    "        miss_len = len( set(pfam_to_exac_pos[pfam]) - set(pfam_to_fg_pos[pfam]) )\n",
    "        ls = [pfam, miss_len]\n",
    "        missing_fg_count.append(ls)\n",
    "missing_fg_df = pandas.DataFrame({'pfam':[x[0] for x in missing_fg_count],\n",
    "                                  'miss_fg':[x[1] for x in missing_fg_count]})\n",
    "\n",
    "missing_df = pandas.merge(missing_fg_df, missing_exac_df, on='pfam', how='outer').fillna(0)\n",
    "\n",
    "#fg_pos = set([chrom + ':' + pos for chrom, pos in df_fg[df_fg.eff==var][cols].values])\n",
    "#missing_exac_count = len(fg_pos) - len(exac_pos)\n",
    "\n",
    "cols = ['ac', 'an']\n",
    "g_exac = df_exac[df_exac.eff==var].groupby('pfam')[cols].sum().reset_index()\n",
    "#g_exac.head()\n",
    "\n",
    "fg_cols = ['pos_fam', 'neg_fam']\n",
    "g_fg = df_fg[df_fg.eff==var].groupby('pfam')[fg_cols].sum().reset_index()\n",
    "#g_fg.head()\n",
    "\n",
    "m_pre = pandas.merge(g_fg, g_exac, on='pfam', how='outer').fillna(0)\n",
    "m = pandas.merge(m_pre, missing_df, on='pfam', how='left')\n",
    "print(max_exac_an, max_fg)\n",
    "#m.head()\n",
    "\n",
    "def calc_fg_neg(row, max_fg):\n",
    "    return 2*row['neg_fam'] + max_fg*row['miss_fg'] + row['pos_fam']\n",
    "\n",
    "def calc_bg_neg(row, max_exac):\n",
    "    return row['an'] + max_exac*row['miss_exac']\n",
    "\n",
    "m.loc[:, 'fg_tot'] = m.apply(lambda row: calc_fg_neg(row, max_fg), axis=1)\n",
    "m.loc[:, 'bg_tot'] = m.apply(lambda row: calc_bg_neg(row, max_exac_an), axis=1)\n",
    "m['fg_frac'] = (1+m['pos_fam']) / m['fg_tot']\n",
    "m['fg_frac_log'] = m.apply(lambda row: math.log(row['fg_frac'], 2), axis=1)\n",
    "m['bg_frac'] = (1+m['ac']) / m['bg_tot']\n",
    "m['bg_frac_log'] = m.apply(lambda row: math.log(row['bg_frac'], 2), axis=1)\n",
    "m['fg_other'] = m['fg_tot'] - m['pos_fam']\n",
    "m['bg_other'] = m['bg_tot'] - m['ac']\n",
    "m.head()"
   ]
  },
  {
   "cell_type": "code",
   "execution_count": 41,
   "metadata": {
    "collapsed": false
   },
   "outputs": [
    {
     "data": {
      "text/plain": [
       "<matplotlib.axes._subplots.AxesSubplot at 0x7f603a3710b8>"
      ]
     },
     "execution_count": 41,
     "metadata": {},
     "output_type": "execute_result"
    },
    {
     "data": {
      "image/png": "[encoded data removed]",
      "text/plain": [
       "<matplotlib.figure.Figure at 0x7f6034bc95c0>"
      ]
     },
     "metadata": {},
     "output_type": "display_data"
    }
   ],
   "source": [
    "m.plot.scatter('fg_frac_log', 'bg_frac_log')"
   ]
  },
  {
   "cell_type": "code",
   "execution_count": 42,
   "metadata": {
    "collapsed": false
   },
   "outputs": [
    {
     "data": {
      "text/html": [
       "<div>\n",
       "<table border=\"1\" class=\"dataframe\">\n",
       "  <thead>\n",
       "    <tr style=\"text-align: right;\">\n",
       "      <th></th>\n",
       "      <th>chrom</th>\n",
       "      <th>pos</th>\n",
       "      <th>ref</th>\n",
       "      <th>alt</th>\n",
       "      <th>clin_class</th>\n",
       "      <th>pfam</th>\n",
       "      <th>af_1kg_all</th>\n",
       "      <th>eff</th>\n",
       "      <th>pos_fam</th>\n",
       "      <th>neg_fam</th>\n",
       "    </tr>\n",
       "  </thead>\n",
       "  <tbody>\n",
       "    <tr>\n",
       "      <th>228</th>\n",
       "      <td>1</td>\n",
       "      <td>160105771</td>\n",
       "      <td>G</td>\n",
       "      <td>A</td>\n",
       "      <td>LIKELY_BENIGN</td>\n",
       "      <td>none</td>\n",
       "      <td>0.0</td>\n",
       "      <td>synonymous_variant</td>\n",
       "      <td>1</td>\n",
       "      <td>5083</td>\n",
       "    </tr>\n",
       "    <tr>\n",
       "      <th>286</th>\n",
       "      <td>11</td>\n",
       "      <td>794868</td>\n",
       "      <td>G</td>\n",
       "      <td>A</td>\n",
       "      <td>LIKELY_BENIGN</td>\n",
       "      <td>Mito_carr:59</td>\n",
       "      <td>0.0</td>\n",
       "      <td>synonymous_variant</td>\n",
       "      <td>1</td>\n",
       "      <td>7165</td>\n",
       "    </tr>\n",
       "    <tr>\n",
       "      <th>306</th>\n",
       "      <td>11</td>\n",
       "      <td>1778697</td>\n",
       "      <td>G</td>\n",
       "      <td>A</td>\n",
       "      <td>VUS</td>\n",
       "      <td>Asp:20</td>\n",
       "      <td>0.0</td>\n",
       "      <td>synonymous_variant</td>\n",
       "      <td>2</td>\n",
       "      <td>8543</td>\n",
       "    </tr>\n",
       "    <tr>\n",
       "      <th>386</th>\n",
       "      <td>11</td>\n",
       "      <td>6640011</td>\n",
       "      <td>T</td>\n",
       "      <td>C</td>\n",
       "      <td>PATHOGENIC</td>\n",
       "      <td>none</td>\n",
       "      <td>0.0</td>\n",
       "      <td>synonymous_variant</td>\n",
       "      <td>1</td>\n",
       "      <td>8544</td>\n",
       "    </tr>\n",
       "    <tr>\n",
       "      <th>405</th>\n",
       "      <td>11</td>\n",
       "      <td>71903298</td>\n",
       "      <td>A</td>\n",
       "      <td>C</td>\n",
       "      <td>LIKELY_BENIGN</td>\n",
       "      <td>Folate_rec:8</td>\n",
       "      <td>0.0</td>\n",
       "      <td>synonymous_variant</td>\n",
       "      <td>1</td>\n",
       "      <td>6024</td>\n",
       "    </tr>\n",
       "  </tbody>\n",
       "</table>\n",
       "</div>"
      ],
      "text/plain": [
       "    chrom        pos ref alt     clin_class          pfam  af_1kg_all  \\\n",
       "228     1  160105771   G   A  LIKELY_BENIGN          none         0.0   \n",
       "286    11     794868   G   A  LIKELY_BENIGN  Mito_carr:59         0.0   \n",
       "306    11    1778697   G   A            VUS        Asp:20         0.0   \n",
       "386    11    6640011   T   C     PATHOGENIC          none         0.0   \n",
       "405    11   71903298   A   C  LIKELY_BENIGN  Folate_rec:8         0.0   \n",
       "\n",
       "                    eff  pos_fam  neg_fam  \n",
       "228  synonymous_variant        1     5083  \n",
       "286  synonymous_variant        1     7165  \n",
       "306  synonymous_variant        2     8543  \n",
       "386  synonymous_variant        1     8544  \n",
       "405  synonymous_variant        1     6024  "
      ]
     },
     "execution_count": 42,
     "metadata": {},
     "output_type": "execute_result"
    }
   ],
   "source": [
    "df_fg[df_fg.eff==var].head()"
   ]
  },
  {
   "cell_type": "code",
   "execution_count": 43,
   "metadata": {
    "collapsed": false
   },
   "outputs": [
    {
     "data": {
      "text/html": [
       "<div>\n",
       "<table border=\"1\" class=\"dataframe\">\n",
       "  <thead>\n",
       "    <tr style=\"text-align: right;\">\n",
       "      <th></th>\n",
       "      <th>fg_frac</th>\n",
       "      <th>bg_frac</th>\n",
       "    </tr>\n",
       "  </thead>\n",
       "  <tbody>\n",
       "    <tr>\n",
       "      <th>fg_frac</th>\n",
       "      <td>1.000000</td>\n",
       "      <td>-0.026476</td>\n",
       "    </tr>\n",
       "    <tr>\n",
       "      <th>bg_frac</th>\n",
       "      <td>-0.026476</td>\n",
       "      <td>1.000000</td>\n",
       "    </tr>\n",
       "  </tbody>\n",
       "</table>\n",
       "</div>"
      ],
      "text/plain": [
       "          fg_frac   bg_frac\n",
       "fg_frac  1.000000 -0.026476\n",
       "bg_frac -0.026476  1.000000"
      ]
     },
     "execution_count": 43,
     "metadata": {},
     "output_type": "execute_result"
    }
   ],
   "source": [
    "m[['fg_frac', 'bg_frac']].corr()"
   ]
  },
  {
   "cell_type": "code",
   "execution_count": null,
   "metadata": {
    "collapsed": true
   },
   "outputs": [],
   "source": []
  }
 ],
 "metadata": {
  "kernelspec": {
   "display_name": "Python 3",
   "language": "python",
   "name": "python3"
  },
  "language_info": {
   "codemirror_mode": {
    "name": "ipython",
    "version": 3
   },
   "file_extension": ".py",
   "mimetype": "text/x-python",
   "name": "python",
   "nbconvert_exporter": "python",
   "pygments_lexer": "ipython3",
   "version": "3.4.5"
  }
 },
 "nbformat": 4,
 "nbformat_minor": 2
}
