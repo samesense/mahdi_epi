{
 "cells": [
  {
   "cell_type": "markdown",
   "metadata": {},
   "source": [
    "### collapse data"
   ]
  },
  {
   "cell_type": "code",
   "execution_count": 36,
   "metadata": {
    "collapsed": true
   },
   "outputs": [],
   "source": [
    "import pandas, math\n",
    "from collections import defaultdict\n",
    "%matplotlib inline"
   ]
  },
  {
   "cell_type": "code",
   "execution_count": 38,
   "metadata": {
    "collapsed": false
   },
   "outputs": [
    {
     "name": "stderr",
     "output_type": "stream",
     "text": [
      "/opt/conda/lib/python3.4/site-packages/IPython/core/interactiveshell.py:2717: DtypeWarning: Columns (0) have mixed types. Specify dtype option on import or set low_memory=False.\n",
      "  interactivity=interactivity, compiler=compiler, result=result)\n"
     ]
    },
    {
     "name": "stdout",
     "output_type": "stream",
     "text": [
      "106210 17165\n"
     ]
    },
    {
     "data": {
      "text/html": [
       "<div>\n",
       "<table border=\"1\" class=\"dataframe\">\n",
       "  <thead>\n",
       "    <tr style=\"text-align: right;\">\n",
       "      <th></th>\n",
       "      <th>pfam</th>\n",
       "      <th>pos_fam</th>\n",
       "      <th>neg_fam</th>\n",
       "      <th>ac</th>\n",
       "      <th>an</th>\n",
       "      <th>miss_fg</th>\n",
       "      <th>miss_exac</th>\n",
       "      <th>fg_tot</th>\n",
       "      <th>bg_tot</th>\n",
       "      <th>fg_frac</th>\n",
       "      <th>fg_frac_log</th>\n",
       "      <th>bg_frac</th>\n",
       "      <th>bg_frac_log</th>\n",
       "      <th>fg_other</th>\n",
       "      <th>bg_other</th>\n",
       "    </tr>\n",
       "  </thead>\n",
       "  <tbody>\n",
       "    <tr>\n",
       "      <th>0</th>\n",
       "      <td>A1_Propeptide:4</td>\n",
       "      <td>15.0</td>\n",
       "      <td>25620.0</td>\n",
       "      <td>30.0</td>\n",
       "      <td>531032.0</td>\n",
       "      <td>4.0</td>\n",
       "      <td>2.0</td>\n",
       "      <td>119915.0</td>\n",
       "      <td>743452.0</td>\n",
       "      <td>0.000133</td>\n",
       "      <td>-12.871653</td>\n",
       "      <td>0.000042</td>\n",
       "      <td>-14.549684</td>\n",
       "      <td>119900.0</td>\n",
       "      <td>743422.0</td>\n",
       "    </tr>\n",
       "    <tr>\n",
       "      <th>1</th>\n",
       "      <td>ANF_receptor:66</td>\n",
       "      <td>2.0</td>\n",
       "      <td>11562.0</td>\n",
       "      <td>363.0</td>\n",
       "      <td>10503612.0</td>\n",
       "      <td>30.0</td>\n",
       "      <td>2.0</td>\n",
       "      <td>538076.0</td>\n",
       "      <td>10716032.0</td>\n",
       "      <td>0.000006</td>\n",
       "      <td>-17.452488</td>\n",
       "      <td>0.000034</td>\n",
       "      <td>-14.845473</td>\n",
       "      <td>538074.0</td>\n",
       "      <td>10715669.0</td>\n",
       "    </tr>\n",
       "    <tr>\n",
       "      <th>2</th>\n",
       "      <td>Aldedh:173</td>\n",
       "      <td>4.0</td>\n",
       "      <td>14602.0</td>\n",
       "      <td>36.0</td>\n",
       "      <td>955890.0</td>\n",
       "      <td>3.0</td>\n",
       "      <td>1.0</td>\n",
       "      <td>80703.0</td>\n",
       "      <td>1062100.0</td>\n",
       "      <td>0.000062</td>\n",
       "      <td>-13.978407</td>\n",
       "      <td>0.000035</td>\n",
       "      <td>-14.809035</td>\n",
       "      <td>80699.0</td>\n",
       "      <td>1062064.0</td>\n",
       "    </tr>\n",
       "    <tr>\n",
       "      <th>3</th>\n",
       "      <td>Aldedh:177</td>\n",
       "      <td>25.0</td>\n",
       "      <td>36490.0</td>\n",
       "      <td>168.0</td>\n",
       "      <td>3504816.0</td>\n",
       "      <td>10.0</td>\n",
       "      <td>3.0</td>\n",
       "      <td>244655.0</td>\n",
       "      <td>3823446.0</td>\n",
       "      <td>0.000106</td>\n",
       "      <td>-13.199950</td>\n",
       "      <td>0.000044</td>\n",
       "      <td>-14.465563</td>\n",
       "      <td>244630.0</td>\n",
       "      <td>3823278.0</td>\n",
       "    </tr>\n",
       "    <tr>\n",
       "      <th>4</th>\n",
       "      <td>Aldedh:178</td>\n",
       "      <td>25.0</td>\n",
       "      <td>36490.0</td>\n",
       "      <td>168.0</td>\n",
       "      <td>3504816.0</td>\n",
       "      <td>10.0</td>\n",
       "      <td>3.0</td>\n",
       "      <td>244655.0</td>\n",
       "      <td>3823446.0</td>\n",
       "      <td>0.000106</td>\n",
       "      <td>-13.199950</td>\n",
       "      <td>0.000044</td>\n",
       "      <td>-14.465563</td>\n",
       "      <td>244630.0</td>\n",
       "      <td>3823278.0</td>\n",
       "    </tr>\n",
       "  </tbody>\n",
       "</table>\n",
       "</div>"
      ],
      "text/plain": [
       "              pfam  pos_fam  neg_fam     ac          an  miss_fg  miss_exac  \\\n",
       "0  A1_Propeptide:4     15.0  25620.0   30.0    531032.0      4.0        2.0   \n",
       "1  ANF_receptor:66      2.0  11562.0  363.0  10503612.0     30.0        2.0   \n",
       "2       Aldedh:173      4.0  14602.0   36.0    955890.0      3.0        1.0   \n",
       "3       Aldedh:177     25.0  36490.0  168.0   3504816.0     10.0        3.0   \n",
       "4       Aldedh:178     25.0  36490.0  168.0   3504816.0     10.0        3.0   \n",
       "\n",
       "     fg_tot      bg_tot   fg_frac  fg_frac_log   bg_frac  bg_frac_log  \\\n",
       "0  119915.0    743452.0  0.000133   -12.871653  0.000042   -14.549684   \n",
       "1  538076.0  10716032.0  0.000006   -17.452488  0.000034   -14.845473   \n",
       "2   80703.0   1062100.0  0.000062   -13.978407  0.000035   -14.809035   \n",
       "3  244655.0   3823446.0  0.000106   -13.199950  0.000044   -14.465563   \n",
       "4  244655.0   3823446.0  0.000106   -13.199950  0.000044   -14.465563   \n",
       "\n",
       "   fg_other    bg_other  \n",
       "0  119900.0    743422.0  \n",
       "1  538074.0  10715669.0  \n",
       "2   80699.0   1062064.0  \n",
       "3  244630.0   3823278.0  \n",
       "4  244630.0   3823278.0  "
      ]
     },
     "execution_count": 38,
     "metadata": {},
     "output_type": "execute_result"
    }
   ],
   "source": [
    "fg_file = '../data/interim/EPIv6.eff.dbnsfp.anno.hHack.splitPfam.dat'\n",
    "bg_file = '../data/interim/r1_no_tcga/exac.tidy.eff.dbnsfp.gt.anno.hHack.splitPfam.dat'\n",
    "df_exac_pre = pandas.read_csv(bg_file, sep='\\t')\n",
    "max_exac_an = max(df_exac_pre['an'].values)\n",
    "\n",
    "df_fg_pre = pandas.read_csv(fg_file, sep='\\t')\n",
    "max_fg = max([p+2*n for p,n in df_fg_pre[['pos_fam', 'neg_fam']].values])\n",
    "df_exac = df_exac_pre[df_exac_pre['af_1kg_all'] < .01]\n",
    "df_fg = df_fg_pre[df_fg_pre['af_1kg_all'] < .01]\n",
    "\n",
    "# don't forget to add non-var counts\n",
    "var = 'synonymous_variant'\n",
    "cols = ['pfam', 'chrom', 'pos']\n",
    "pfam_to_exac_pos = defaultdict(dict)\n",
    "for pfam, chrom, pos in list(df_exac[df_exac.eff==var][cols].values):\n",
    "    pfam_to_exac_pos[pfam][str(chrom) + ':' + str(pos)] = True\n",
    "pfam_to_fg_pos = defaultdict(dict)\n",
    "for pfam, chrom, pos in list(df_fg[df_fg.eff==var][cols].values):\n",
    "    pfam_to_fg_pos[pfam][str(chrom) + ':' + str(pos)] = True\n",
    "\n",
    "missing_exac_count = []\n",
    "for pfam in pfam_to_fg_pos:\n",
    "    if not pfam in pfam_to_exac_pos:\n",
    "        ls = [pfam, len(pfam_to_fg_pos[pfam])]\n",
    "        missing_exac_count.append(ls)\n",
    "    else:\n",
    "        miss_len = len( set(pfam_to_fg_pos[pfam]) - set(pfam_to_exac_pos[pfam]) )\n",
    "        ls = [pfam, miss_len]\n",
    "        missing_exac_count.append(ls)\n",
    "missing_exac_df = pandas.DataFrame({'pfam':[x[0] for x in missing_exac_count],\n",
    "                                    'miss_exac':[x[1] for x in missing_exac_count]})        \n",
    "missing_fg_count = []\n",
    "for pfam in pfam_to_exac_pos:\n",
    "    if not pfam in pfam_to_fg_pos:\n",
    "        ls = [pfam, len(pfam_to_exac_pos[pfam])]\n",
    "        missing_fg_count.append(ls)\n",
    "    else:\n",
    "        miss_len = len( set(pfam_to_exac_pos[pfam]) - set(pfam_to_fg_pos[pfam]) )\n",
    "        ls = [pfam, miss_len]\n",
    "        missing_fg_count.append(ls)\n",
    "missing_fg_df = pandas.DataFrame({'pfam':[x[0] for x in missing_fg_count],\n",
    "                                  'miss_fg':[x[1] for x in missing_fg_count]})\n",
    "\n",
    "missing_df = pandas.merge(missing_fg_df, missing_exac_df, on='pfam', how='outer').fillna(0)\n",
    "\n",
    "#fg_pos = set([chrom + ':' + pos for chrom, pos in df_fg[df_fg.eff==var][cols].values])\n",
    "#missing_exac_count = len(fg_pos) - len(exac_pos)\n",
    "\n",
    "cols = ['ac', 'an']\n",
    "g_exac = df_exac[df_exac.eff==var].groupby('pfam')[cols].sum().reset_index()\n",
    "#g_exac.head()\n",
    "\n",
    "fg_cols = ['pos_fam', 'neg_fam']\n",
    "g_fg = df_fg[df_fg.eff==var].groupby('pfam')[fg_cols].sum().reset_index()\n",
    "#g_fg.head()\n",
    "\n",
    "m_pre = pandas.merge(g_fg, g_exac, on='pfam', how='outer').fillna(0)\n",
    "m = pandas.merge(m_pre, missing_df, on='pfam', how='left')\n",
    "print(max_exac_an, max_fg)\n",
    "#m.head()\n",
    "\n",
    "def calc_fg_neg(row, max_fg):\n",
    "    return 2*row['neg_fam'] + max_fg*row['miss_fg'] + row['pos_fam']\n",
    "\n",
    "def calc_bg_neg(row, max_exac):\n",
    "    return row['an'] + max_exac*row['miss_exac']\n",
    "\n",
    "m.loc[:, 'fg_tot'] = m.apply(lambda row: calc_fg_neg(row, max_fg), axis=1)\n",
    "m.loc[:, 'bg_tot'] = m.apply(lambda row: calc_bg_neg(row, max_exac_an), axis=1)\n",
    "m['fg_frac'] = (1+m['pos_fam']) / m['fg_tot']\n",
    "m['fg_frac_log'] = m.apply(lambda row: math.log(row['fg_frac'], 2), axis=1)\n",
    "m['bg_frac'] = (1+m['ac']) / m['bg_tot']\n",
    "m['bg_frac_log'] = m.apply(lambda row: math.log(row['bg_frac'], 2), axis=1)\n",
    "m['fg_other'] = m['fg_tot'] - m['pos_fam']\n",
    "m['bg_other'] = m['bg_tot'] - m['ac']\n",
    "m.head()"
   ]
  },
  {
   "cell_type": "code",
   "execution_count": 39,
   "metadata": {
    "collapsed": false
   },
   "outputs": [
    {
     "data": {
      "text/plain": [
       "<matplotlib.axes._subplots.AxesSubplot at 0x7f603a56cf60>"
      ]
     },
     "execution_count": 39,
     "metadata": {},
     "output_type": "execute_result"
    },
    {
     "data": {
      "image/png": "[encoded data removed]",
      "text/plain": [
       "<matplotlib.figure.Figure at 0x7f603a3e7b70>"
      ]
     },
     "metadata": {},
     "output_type": "display_data"
    }
   ],
   "source": [
    "m.plot.scatter('fg_frac_log', 'bg_frac_log')"
   ]
  },
  {
   "cell_type": "code",
   "execution_count": null,
   "metadata": {
    "collapsed": true
   },
   "outputs": [],
   "source": []
  }
 ],
 "metadata": {
  "kernelspec": {
   "display_name": "Python 3",
   "language": "python",
   "name": "python3"
  },
  "language_info": {
   "codemirror_mode": {
    "name": "ipython",
    "version": 3
   },
   "file_extension": ".py",
   "mimetype": "text/x-python",
   "name": "python",
   "nbconvert_exporter": "python",
   "pygments_lexer": "ipython3",
   "version": "3.4.5"
  }
 },
 "nbformat": 4,
 "nbformat_minor": 2
}
