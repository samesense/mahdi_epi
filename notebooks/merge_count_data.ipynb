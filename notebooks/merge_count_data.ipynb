{
 "cells": [
  {
   "cell_type": "markdown",
   "metadata": {},
   "source": [
    "### collapse data"
   ]
  },
  {
   "cell_type": "code",
   "execution_count": 4,
   "metadata": {
    "collapsed": true
   },
   "outputs": [],
   "source": [
    "import pandas"
   ]
  },
  {
   "cell_type": "code",
   "execution_count": 12,
   "metadata": {
    "collapsed": false
   },
   "outputs": [
    {
     "name": "stderr",
     "output_type": "stream",
     "text": [
      "/opt/conda/lib/python3.4/site-packages/IPython/core/interactiveshell.py:2717: DtypeWarning: Columns (0) have mixed types. Specify dtype option on import or set low_memory=False.\n",
      "  interactivity=interactivity, compiler=compiler, result=result)\n"
     ]
    },
    {
     "data": {
      "text/html": [
       "<div>\n",
       "<table border=\"1\" class=\"dataframe\">\n",
       "  <thead>\n",
       "    <tr style=\"text-align: right;\">\n",
       "      <th></th>\n",
       "      <th>pfam</th>\n",
       "      <th>ac</th>\n",
       "      <th>an</th>\n",
       "    </tr>\n",
       "  </thead>\n",
       "  <tbody>\n",
       "    <tr>\n",
       "      <th>0</th>\n",
       "      <td>A1_Propeptide:4</td>\n",
       "      <td>531032</td>\n",
       "      <td>30</td>\n",
       "    </tr>\n",
       "    <tr>\n",
       "      <th>1</th>\n",
       "      <td>ANF_receptor:66</td>\n",
       "      <td>10503612</td>\n",
       "      <td>363</td>\n",
       "    </tr>\n",
       "    <tr>\n",
       "      <th>2</th>\n",
       "      <td>Aldedh:173</td>\n",
       "      <td>955890</td>\n",
       "      <td>36</td>\n",
       "    </tr>\n",
       "    <tr>\n",
       "      <th>3</th>\n",
       "      <td>Aldedh:174</td>\n",
       "      <td>318624</td>\n",
       "      <td>6</td>\n",
       "    </tr>\n",
       "    <tr>\n",
       "      <th>4</th>\n",
       "      <td>Aldedh:175</td>\n",
       "      <td>318624</td>\n",
       "      <td>6</td>\n",
       "    </tr>\n",
       "  </tbody>\n",
       "</table>\n",
       "</div>"
      ],
      "text/plain": [
       "              pfam        ac   an\n",
       "0  A1_Propeptide:4    531032   30\n",
       "1  ANF_receptor:66  10503612  363\n",
       "2       Aldedh:173    955890   36\n",
       "3       Aldedh:174    318624    6\n",
       "4       Aldedh:175    318624    6"
      ]
     },
     "execution_count": 12,
     "metadata": {},
     "output_type": "execute_result"
    }
   ],
   "source": [
    "fg_file = '../data/interim/EPIv6.eff.dbnsfp.anno.hHack.splitPfam.dat'\n",
    "bg_file = '../data/interim/r1_no_tcga/exac.tidy.eff.dbnsfp.gt.anno.hHack.splitPfam.dat'\n",
    "df_exac_pre = pandas.read_csv(bg_file, sep='\\t')\n",
    "df_fg_pre = pandas.read_csv(fg_file, sep='\\t')\n",
    "df_exac = df_exac_pre[df_exac_pre['af_1kg_all'] < .01]\n",
    "df_fg = df_fg_pre[df_fg_pre['af_1kg_all'] < .01]\n",
    "\n",
    "# don't forget to add non-var counts\n",
    "var = 'synonymous_variant'\n",
    "cols = ['ac', 'an']\n",
    "g_exac = df_exac[df_exac.eff==var].groupby('pfam')[cols].sum().reset_index()\n",
    "#g_exac.head()\n",
    "\n"
   ]
  },
  {
   "cell_type": "code",
   "execution_count": 11,
   "metadata": {
    "collapsed": false
   },
   "outputs": [
    {
     "data": {
      "text/html": [
       "<div>\n",
       "<table border=\"1\" class=\"dataframe\">\n",
       "  <thead>\n",
       "    <tr style=\"text-align: right;\">\n",
       "      <th></th>\n",
       "      <th>chrom</th>\n",
       "      <th>pos</th>\n",
       "      <th>ref</th>\n",
       "      <th>alt</th>\n",
       "      <th>clin_class</th>\n",
       "      <th>pfam</th>\n",
       "      <th>af_1kg_all</th>\n",
       "      <th>eff</th>\n",
       "    </tr>\n",
       "  </thead>\n",
       "  <tbody>\n",
       "    <tr>\n",
       "      <th>1</th>\n",
       "      <td>40533389</td>\n",
       "      <td>GGTGA</td>\n",
       "      <td>G</td>\n",
       "      <td>CAP_N:8</td>\n",
       "      <td>downstream_gene_variant</td>\n",
       "      <td>105954</td>\n",
       "      <td>1</td>\n",
       "      <td>0.0000</td>\n",
       "    </tr>\n",
       "    <tr>\n",
       "      <th>1</th>\n",
       "      <td>40533389</td>\n",
       "      <td>GGTGA</td>\n",
       "      <td>G</td>\n",
       "      <td>CAP_N:8</td>\n",
       "      <td>downstream_gene_variant</td>\n",
       "      <td>105954</td>\n",
       "      <td>1</td>\n",
       "      <td>0.0000</td>\n",
       "    </tr>\n",
       "    <tr>\n",
       "      <th>1</th>\n",
       "      <td>40533393</td>\n",
       "      <td>A</td>\n",
       "      <td>G</td>\n",
       "      <td>none</td>\n",
       "      <td>downstream_gene_variant</td>\n",
       "      <td>105964</td>\n",
       "      <td>1</td>\n",
       "      <td>0.0002</td>\n",
       "    </tr>\n",
       "    <tr>\n",
       "      <th>1</th>\n",
       "      <td>40533393</td>\n",
       "      <td>A</td>\n",
       "      <td>G</td>\n",
       "      <td>none</td>\n",
       "      <td>downstream_gene_variant</td>\n",
       "      <td>105964</td>\n",
       "      <td>1</td>\n",
       "      <td>0.0002</td>\n",
       "    </tr>\n",
       "    <tr>\n",
       "      <th>1</th>\n",
       "      <td>40533407</td>\n",
       "      <td>C</td>\n",
       "      <td>T</td>\n",
       "      <td>none</td>\n",
       "      <td>downstream_gene_variant</td>\n",
       "      <td>106024</td>\n",
       "      <td>1</td>\n",
       "      <td>0.0000</td>\n",
       "    </tr>\n",
       "  </tbody>\n",
       "</table>\n",
       "</div>"
      ],
      "text/plain": [
       "      chrom    pos ref      alt               clin_class    pfam  af_1kg_all  \\\n",
       "1  40533389  GGTGA   G  CAP_N:8  downstream_gene_variant  105954           1   \n",
       "1  40533389  GGTGA   G  CAP_N:8  downstream_gene_variant  105954           1   \n",
       "1  40533393      A   G     none  downstream_gene_variant  105964           1   \n",
       "1  40533393      A   G     none  downstream_gene_variant  105964           1   \n",
       "1  40533407      C   T     none  downstream_gene_variant  106024           1   \n",
       "\n",
       "      eff  \n",
       "1  0.0000  \n",
       "1  0.0000  \n",
       "1  0.0002  \n",
       "1  0.0002  \n",
       "1  0.0000  "
      ]
     },
     "execution_count": 11,
     "metadata": {},
     "output_type": "execute_result"
    }
   ],
   "source": [
    "_exac_pre.head()"
   ]
  },
  {
   "cell_type": "code",
   "execution_count": null,
   "metadata": {
    "collapsed": true
   },
   "outputs": [],
   "source": []
  }
 ],
 "metadata": {
  "kernelspec": {
   "display_name": "Python 3",
   "language": "python",
   "name": "python3"
  },
  "language_info": {
   "codemirror_mode": {
    "name": "ipython",
    "version": 3
   },
   "file_extension": ".py",
   "mimetype": "text/x-python",
   "name": "python",
   "nbconvert_exporter": "python",
   "pygments_lexer": "ipython3",
   "version": "3.4.5"
  }
 },
 "nbformat": 4,
 "nbformat_minor": 2
}
