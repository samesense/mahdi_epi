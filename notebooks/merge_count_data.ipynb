{
 "cells": [
  {
   "cell_type": "markdown",
   "metadata": {},
   "source": [
    "### collapse data"
   ]
  },
  {
   "cell_type": "code",
   "execution_count": 4,
   "metadata": {
    "collapsed": true
   },
   "outputs": [],
   "source": [
    "import pandas"
   ]
  },
  {
   "cell_type": "code",
   "execution_count": 15,
   "metadata": {
    "collapsed": false
   },
   "outputs": [
    {
     "name": "stderr",
     "output_type": "stream",
     "text": [
      "/opt/conda/lib/python3.4/site-packages/IPython/core/interactiveshell.py:2717: DtypeWarning: Columns (0) have mixed types. Specify dtype option on import or set low_memory=False.\n",
      "  interactivity=interactivity, compiler=compiler, result=result)\n"
     ]
    },
    {
     "data": {
      "text/html": [
       "<div>\n",
       "<table border=\"1\" class=\"dataframe\">\n",
       "  <thead>\n",
       "    <tr style=\"text-align: right;\">\n",
       "      <th></th>\n",
       "      <th>pfam</th>\n",
       "      <th>pos_fam</th>\n",
       "      <th>neg_fam</th>\n",
       "      <th>ac</th>\n",
       "      <th>an</th>\n",
       "    </tr>\n",
       "  </thead>\n",
       "  <tbody>\n",
       "    <tr>\n",
       "      <th>0</th>\n",
       "      <td>A1_Propeptide:4</td>\n",
       "      <td>15.0</td>\n",
       "      <td>25620.0</td>\n",
       "      <td>531032.0</td>\n",
       "      <td>30.0</td>\n",
       "    </tr>\n",
       "    <tr>\n",
       "      <th>1</th>\n",
       "      <td>ANF_receptor:66</td>\n",
       "      <td>2.0</td>\n",
       "      <td>11562.0</td>\n",
       "      <td>10503612.0</td>\n",
       "      <td>363.0</td>\n",
       "    </tr>\n",
       "    <tr>\n",
       "      <th>2</th>\n",
       "      <td>Aldedh:173</td>\n",
       "      <td>4.0</td>\n",
       "      <td>14602.0</td>\n",
       "      <td>955890.0</td>\n",
       "      <td>36.0</td>\n",
       "    </tr>\n",
       "    <tr>\n",
       "      <th>3</th>\n",
       "      <td>Aldedh:177</td>\n",
       "      <td>25.0</td>\n",
       "      <td>36490.0</td>\n",
       "      <td>3504816.0</td>\n",
       "      <td>168.0</td>\n",
       "    </tr>\n",
       "    <tr>\n",
       "      <th>4</th>\n",
       "      <td>Aldedh:178</td>\n",
       "      <td>25.0</td>\n",
       "      <td>36490.0</td>\n",
       "      <td>3504816.0</td>\n",
       "      <td>168.0</td>\n",
       "    </tr>\n",
       "  </tbody>\n",
       "</table>\n",
       "</div>"
      ],
      "text/plain": [
       "              pfam  pos_fam  neg_fam          ac     an\n",
       "0  A1_Propeptide:4     15.0  25620.0    531032.0   30.0\n",
       "1  ANF_receptor:66      2.0  11562.0  10503612.0  363.0\n",
       "2       Aldedh:173      4.0  14602.0    955890.0   36.0\n",
       "3       Aldedh:177     25.0  36490.0   3504816.0  168.0\n",
       "4       Aldedh:178     25.0  36490.0   3504816.0  168.0"
      ]
     },
     "execution_count": 15,
     "metadata": {},
     "output_type": "execute_result"
    }
   ],
   "source": [
    "fg_file = '../data/interim/EPIv6.eff.dbnsfp.anno.hHack.splitPfam.dat'\n",
    "bg_file = '../data/interim/r1_no_tcga/exac.tidy.eff.dbnsfp.gt.anno.hHack.splitPfam.dat'\n",
    "df_exac_pre = pandas.read_csv(bg_file, sep='\\t')\n",
    "df_fg_pre = pandas.read_csv(fg_file, sep='\\t')\n",
    "df_exac = df_exac_pre[df_exac_pre['af_1kg_all'] < .01]\n",
    "df_fg = df_fg_pre[df_fg_pre['af_1kg_all'] < .01]\n",
    "\n",
    "# don't forget to add non-var counts\n",
    "var = 'synonymous_variant'\n",
    "cols = ['ac', 'an']\n",
    "g_exac = df_exac[df_exac.eff==var].groupby('pfam')[cols].sum().reset_index()\n",
    "#g_exac.head()\n",
    "\n",
    "fg_cols = ['pos_fam', 'neg_fam']\n",
    "g_fg = df_fg[df_fg.eff==var].groupby('pfam')[fg_cols].sum().reset_index()\n",
    "#g_fg.head()\n",
    "\n",
    "m = pandas.merge(g_fg, g_exac, on='pfam', how='outer')\n",
    "m.head()"
   ]
  },
  {
   "cell_type": "code",
   "execution_count": null,
   "metadata": {
    "collapsed": true
   },
   "outputs": [],
   "source": []
  }
 ],
 "metadata": {
  "kernelspec": {
   "display_name": "Python 3",
   "language": "python",
   "name": "python3"
  },
  "language_info": {
   "codemirror_mode": {
    "name": "ipython",
    "version": 3
   },
   "file_extension": ".py",
   "mimetype": "text/x-python",
   "name": "python",
   "nbconvert_exporter": "python",
   "pygments_lexer": "ipython3",
   "version": "3.4.5"
  }
 },
 "nbformat": 4,
 "nbformat_minor": 2
}
